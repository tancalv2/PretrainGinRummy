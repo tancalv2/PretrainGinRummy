{
  "nbformat": 4,
  "nbformat_minor": 0,
  "metadata": {
    "colab": {
      "name": "GenerateModel.ipynb",
      "provenance": [],
      "collapsed_sections": [],
      "toc_visible": true
    },
    "kernelspec": {
      "display_name": "Python 3",
      "name": "python3"
    },
    "accelerator": "GPU"
  },
  "cells": [
    {
      "cell_type": "code",
      "metadata": {
        "id": "RubzqOlEW1H2"
      },
      "source": [
        "# Run this cell to mount your Google Drive.\n",
        "\n",
        "from google.colab import drive\n",
        "drive.mount(\"/content/drive\")"
      ],
      "execution_count": null,
      "outputs": []
    },
    {
      "cell_type": "markdown",
      "metadata": {
        "id": "zuad8XxeY6iY"
      },
      "source": [
        "# Imports"
      ]
    },
    {
      "cell_type": "code",
      "metadata": {
        "id": "OGA2KzsEXS28"
      },
      "source": [
        "# path\r\n",
        "pth = '/content/drive/MyDrive/Colab Notebooks/Thesis'\r\n",
        "\r\n",
        "%cd /content/drive/My Drive/Colab Notebooks/Thesis/SupervisedLearning\r\n",
        "\r\n",
        "from train import *\r\n",
        "from visualize_data import *\r\n",
        "from utils import *\r\n",
        "\r\n",
        "%cd /content/drive/My Drive/Colab Notebooks/Thesis"
      ],
      "execution_count": null,
      "outputs": []
    },
    {
      "cell_type": "markdown",
      "metadata": {
        "id": "1zIOKj82WfJa"
      },
      "source": [
        "# State-Action Pair Guideline\r\n",
        "\r\n",
        "Specify the desired state-action pair:\r\n",
        "\r\n",
        "i.e. Before Pickup, Before Discard: Draw (bpbd_draw)"
      ]
    },
    {
      "cell_type": "markdown",
      "metadata": {
        "id": "SBwV5XHqsgTq"
      },
      "source": [
        "## Model Name Guideline\r\n",
        "\r\n",
        "Specify the following parameters:\r\n",
        "\r\n",
        "- **Data Selection**:\r\n",
        " - **`state-action pair`**\r\n",
        "   - possible state-action pairs\r\n",
        "```r\r\n",
        "state_action_pair = {'all': 'all', # all actions\r\n",
        "                    'bpbd': 'draw', # actions 2/3 \r\n",
        "                    'apbd': ['discard', 'knock'], # actions 6-57, 58-109\r\n",
        "                    'apad': 'knock_bin'}\r\n",
        "```\r\n",
        " - **`model_name`**\r\n",
        "   - name of the model based on **pruned states** and **chosen action**\r\n",
        " - **`numGames`**\r\n",
        "   - Number of games used to train model\r\n",
        "$$numGames \\in [2000, 6000, 8000]$$\r\n",
        "\r\n",
        " - **`pruneStatesList`**\r\n",
        "   - which states to omit when training model \r\n",
        " ```r\r\n",
        " pruneStatesList is a list, {'currHand','topCard','deadCard','oppCard','unknownCard'}\r\n",
        " ```\r\n",
        " - **`actionChoice`**\r\n",
        "   - which specific action to train model \r\n",
        "```r\r\n",
        "actionChoice is one of {'all','draw','discard','knock'}\r\n",
        "```\r\n",
        " - **`balance`** (T/F, **`default = False`**)\r\n",
        "   - balance data by smallest class\r\n",
        "\r\n",
        "--- \r\n",
        "\r\n",
        "- **Model Parameters**:\r\n",
        "\r\n",
        "| Parameter         | Description                | Type             | Default |\r\n",
        "| ----------------- |---------------------------:|:----------------:| -------:|\r\n",
        "| **batch_size**    | num samples per iteration  | int              | 1000    |\r\n",
        "| **learning_rate** | step size of model         | float            | 0.001   |\r\n",
        "| **epoch**         | num of iterations          | int              | 100     |\r\n",
        "| **model_fnc**     | model selection            | str              | MLP_base|\r\n",
        "| **activation**    | model activation fcn       | str              | sig     |\r\n",
        "| **loss**          | loss function selection    | str              | MSE     |\r\n",
        "| **loss_weight**   | weighted loss (CELoss only)| str              | None    |\r\n",
        "| **pre_train**     | initialize model weights   | bool             | False   |\r\n",
        "| **model_PT**      | path to pretrained network | str (model/path) | null    |\r\n",
        "| **device**        | device to train/test model | str (cpu/cuda)   | cpu     |\r\n",
        "| **multi_data_pth**| extra data to train model  | dict             | { }     |\r\n",
        "\r\n",
        " - **`model_fnc`**\r\n",
        "```r\r\n",
        "# default\r\n",
        "MLP_base = {1 Hidden Layer:\r\n",
        "            input_size -> input_size*2 -> output_size,\r\n",
        "            Activation (b/w Layers): 'Sigmoid' (default)\r\n",
        "            Final Activation: 'Softmax'}\r\n",
        "# Additional Models\r\n",
        "MLP_2HL = {2 Hidden Layers:\r\n",
        "            input_size -> input_size*2 -> input_size*2 -> output_size,\r\n",
        "            Activation (b/w Layers): 'Sigmoid' (default)\r\n",
        "            Final Activation: 'Softmax'} \r\n",
        "```\r\n",
        "\r\n",
        " - **`activation`**\r\n",
        "```r\r\n",
        "activation = {'sig': torch.nn.Sigmoid(), # default\r\n",
        "             'relu': torch.nn.ReLU(),\r\n",
        "             'tanh': torch.nn.Tanh()}\r\n",
        "```\r\n",
        "\r\n",
        " - **`loss`**\r\n",
        "```r\r\n",
        "loss = {'MSE': torch.nn.MSELoss(), # default\r\n",
        "        'CELoss': torch.nn.CrossEntropyLoss()} \r\n",
        "```\r\n",
        "\r\n",
        " - **`loss_weight`** (CELoss only)\r\n",
        "```r\r\n",
        "loss_weight = {None: np.ones(output_size), # default\r\n",
        "            'icf': inverse class frequency,\r\n",
        "            'log_icf': log inverse class frequency} \r\n",
        "```\r\n",
        "\r\n",
        " - **`multi_data_pth`**\r\n",
        "```r\r\n",
        "multi_data_pth =  {'First Path': {'data_pth': {'pth'}/data/{'state'}/{'action'},\r\n",
        "                                  'numGames': {number of games}},\r\n",
        "                   'Second Path': {'data_pth': {'pth'}/data/{'state'}/{'action'},\r\n",
        "                                   'numGames': {number of games}}\r\n",
        "                   ...}\r\n",
        "# where state/action are legal state_action pairs\r\n",
        "# Example:\r\n",
        "multi_data_pth = {'First Path': {'data_pth': '{}/data/{}/{}'.format(pth,'apbd','knock'),\r\n",
        "                                 'numGames': 8000}}\r\n",
        "```"
      ]
    },
    {
      "cell_type": "markdown",
      "metadata": {
        "id": "MWkLLC9mvddD"
      },
      "source": [
        "# State-Action Pair"
      ]
    },
    {
      "cell_type": "markdown",
      "metadata": {
        "id": "J4etqD9jvddP"
      },
      "source": [
        "## Model Name"
      ]
    },
    {
      "cell_type": "markdown",
      "metadata": {
        "id": "wHuawvOWqnt_"
      },
      "source": [
        "### Parameters"
      ]
    },
    {
      "cell_type": "code",
      "metadata": {
        "id": "LzIZNusYMVsm"
      },
      "source": [
        "# state_action pair\r\n",
        "state = 'all'\r\n",
        "action = 'all'\r\n",
        "\r\n",
        "# model name\r\n",
        "model_name = 'all_states_all_actions_CE_WLoss'\r\n",
        "\r\n",
        "# Number of Games\r\n",
        "numGames = 8000\r\n",
        "\r\n",
        "# prunable states\r\n",
        "# {'currHand','topCard','deadCard','oppCard','unknownCard'} or blank if None\r\n",
        "pruneStatesList = []\r\n",
        "\r\n",
        "# choosable actions\r\n",
        "# {'all','draw_pickup','discard','knock','knock_bin'}\r\n",
        "actionChoice = 'all'\r\n",
        "\r\n",
        "# Balance classes\r\n",
        "balance = False\r\n",
        "\r\n",
        "# Training parameters\r\n",
        "batch_size = 1000\r\n",
        "lr = 0.001\r\n",
        "epochs = 100\r\n",
        "\r\n",
        "# choose model architecture, activation function\r\n",
        "# {'MLP_base', 'MLP_2HL}, {'sig', 'relu', 'tanh'}\r\n",
        "model_fnc = 'MLP_base'\r\n",
        "activation = 'sig'\r\n",
        "\r\n",
        "# Loss Function and Class Weights, either inverse class freq, or log icf\r\n",
        "# {'MSE', 'CELoss'}, {None, 'icf', 'log_icf'}\r\n",
        "loss = 'CELoss'\r\n",
        "loss_weight = 'log_icf'\r\n",
        "\r\n",
        "# Pretrain model\r\n",
        "pre_train = False\r\n",
        "model_PT = ''\r\n",
        "\r\n",
        "# device for model\r\n",
        "device = torch.device('cuda' if torch.cuda.is_available() else 'cpu')\r\n",
        "\r\n",
        "# additional data paths\r\n",
        "# multi_data_pth =  {'First Path': {'data_pth': {'pth'}/data/{'state'}/{'action'},\r\n",
        "#                                   'numGames': {number of games}},\r\n",
        "#                    'Second Path': {'data_pth': {'pth'}/data/{'state'}/{'action'},\r\n",
        "#                                    'numGames': {number of games}}\r\n",
        "#                    ...}\r\n",
        "# where state/action are legal state_action pairs\r\n",
        "# ex. multi_data_pth = {'First Path': {'data_pth': '{}/data/{}/{}'.format(pth,'apbd','knock'),\r\n",
        "#                                  'numGames': 8000}}\r\n",
        "multi_data_pth = {}"
      ],
      "execution_count": null,
      "outputs": []
    },
    {
      "cell_type": "markdown",
      "metadata": {
        "id": "fYEmVZjHTUlU"
      },
      "source": [
        "### Create Directories"
      ]
    },
    {
      "cell_type": "code",
      "metadata": {
        "id": "82yrQsyRYXgo"
      },
      "source": [
        "data_pth, model_pth, plot_pth = create_dir(pth, state, action, model_name)"
      ],
      "execution_count": null,
      "outputs": []
    },
    {
      "cell_type": "markdown",
      "metadata": {
        "id": "-lP6-zCORtQZ"
      },
      "source": [
        "### Load, Prune, and Split Training Data"
      ]
    },
    {
      "cell_type": "code",
      "metadata": {
        "id": "DYdorNVxZ2O0"
      },
      "source": [
        "train_loader, val_loader, weights, classes = load_train_data(data_pth, plot_pth,\r\n",
        "                                                             numGames, batch_size, \r\n",
        "                                                             pruneStatesList, actionChoice, \r\n",
        "                                                             balance, loss_weight, multi_data_pth,\r\n",
        "                                                             visualize=False)"
      ],
      "execution_count": null,
      "outputs": []
    },
    {
      "cell_type": "markdown",
      "metadata": {
        "id": "obOqXVZghQzX"
      },
      "source": [
        "### Train Model & Visualize Results"
      ]
    },
    {
      "cell_type": "markdown",
      "metadata": {
        "id": "yRvuNUuWOSVt"
      },
      "source": [
        "#### Train Model"
      ]
    },
    {
      "cell_type": "code",
      "metadata": {
        "id": "kL428f9MWvKn"
      },
      "source": [
        "# Write Parameters\r\n",
        "write_params(pth, state, action, \r\n",
        "             model_name, \r\n",
        "             numGames, \r\n",
        "             pruneStatesList, actionChoice, \r\n",
        "             balance, \r\n",
        "             batch_size, lr, epochs, \r\n",
        "             model_fnc, activation, \r\n",
        "             loss, loss_weight, \r\n",
        "             pre_train, model_PT, \r\n",
        "             device,\r\n",
        "             multi_data_pth)"
      ],
      "execution_count": null,
      "outputs": []
    },
    {
      "cell_type": "code",
      "metadata": {
        "id": "45QhmhWDWDob"
      },
      "source": [
        "model, model_acc, model_loss = train(train_loader, val_loader, plot_pth, batch_size, lr, epochs, verbose=True,\r\n",
        "                                     model_fnc=model_fnc, activation=activation,\r\n",
        "                                     loss=loss, weights=weights,\r\n",
        "                                     pre_train=pre_train, model_PT=model_PT, device=device)\r\n",
        "torch.save(model, '{}/model.pt'.format(model_pth))\r\n",
        "torch.save(model_acc, '{}/model_acc.pt'.format(model_pth))\r\n",
        "torch.save(model_loss, '{}/model_loss.pt'.format(model_pth))"
      ],
      "execution_count": null,
      "outputs": []
    },
    {
      "cell_type": "markdown",
      "metadata": {
        "id": "DW31uxR32JoZ"
      },
      "source": [
        "#### Confusion Matrix"
      ]
    },
    {
      "cell_type": "markdown",
      "metadata": {
        "id": "cj8gCeBt0O2F"
      },
      "source": [
        "##### Load Models"
      ]
    },
    {
      "cell_type": "code",
      "metadata": {
        "id": "M6mgQZEiQtkC"
      },
      "source": [
        "model = torch.load('{}/model.pt'.format(model_pth), map_location=device)\r\n",
        "model_acc = torch.load('{}/model_acc.pt'.format(model_pth), map_location=device)\r\n",
        "model_loss = torch.load('{}/model_loss.pt'.format(model_pth), map_location=device)"
      ],
      "execution_count": null,
      "outputs": []
    },
    {
      "cell_type": "markdown",
      "metadata": {
        "id": "IUNBzKdGDFbn"
      },
      "source": [
        "##### Train Set"
      ]
    },
    {
      "cell_type": "code",
      "metadata": {
        "id": "SLxYWYeIEHvT"
      },
      "source": [
        "currGames = 8000\n",
        "plot_cm(plot_pth, classes, model, train_loader, device, numGames=currGames)"
      ],
      "execution_count": null,
      "outputs": []
    },
    {
      "cell_type": "markdown",
      "metadata": {
        "id": "k5gkIktiMyoD"
      },
      "source": [
        "##### Validation Set"
      ]
    },
    {
      "cell_type": "code",
      "metadata": {
        "id": "MrkvSof6MyoR"
      },
      "source": [
        "currGames = 8000\n",
        "plot_cm(plot_pth, classes, model, val_loader, device, numGames=currGames, mode='val')"
      ],
      "execution_count": null,
      "outputs": []
    },
    {
      "cell_type": "markdown",
      "metadata": {
        "id": "gaIdoZAXM4SJ"
      },
      "source": [
        "##### Test Set (6k)"
      ]
    },
    {
      "cell_type": "code",
      "metadata": {
        "id": "sPXiAdf-M4SL"
      },
      "source": [
        "currGames = 6000\n",
        "test_loader_6k, classes = load_test_data(data_pth, currGames, \n",
        "                                         pruneStatesList, actionChoice)\n",
        "plot_cm(plot_pth, classes, model, test_loader_6k, device, numGames=currGames)"
      ],
      "execution_count": null,
      "outputs": []
    },
    {
      "cell_type": "markdown",
      "metadata": {
        "id": "F18JCOSyNfIM"
      },
      "source": [
        "##### Test Set (2k)\r\n",
        "\r\n",
        "Test on all three models generated:"
      ]
    },
    {
      "cell_type": "code",
      "metadata": {
        "id": "ws_iC6x3R3ag"
      },
      "source": [
        "currGames = 2000\n",
        "test_loader_2k, classes = load_test_data(data_pth, currGames, \n",
        "                                         pruneStatesList, actionChoice)"
      ],
      "execution_count": null,
      "outputs": []
    },
    {
      "cell_type": "markdown",
      "metadata": {
        "id": "Q6jGgwJd0DE0"
      },
      "source": [
        "###### all epoch"
      ]
    },
    {
      "cell_type": "code",
      "metadata": {
        "id": "AxRb3twZODP4"
      },
      "source": [
        "plot_cm(plot_pth, classes, model, test_loader_2k, device, numGames=currGames)"
      ],
      "execution_count": null,
      "outputs": []
    },
    {
      "cell_type": "markdown",
      "metadata": {
        "id": "GozGjASy0JXL"
      },
      "source": [
        "###### max validation accuracy"
      ]
    },
    {
      "cell_type": "code",
      "metadata": {
        "id": "UYVSIyQQOCng"
      },
      "source": [
        "plot_cm(plot_pth, classes, model_acc, test_loader_2k, device, numGames=currGames, mode='acc')"
      ],
      "execution_count": null,
      "outputs": []
    },
    {
      "cell_type": "markdown",
      "metadata": {
        "id": "l8iWcRlP0J3t"
      },
      "source": [
        "###### min validation loss"
      ]
    },
    {
      "cell_type": "code",
      "metadata": {
        "id": "tu1W7Lav9RNU"
      },
      "source": [
        "plot_cm(plot_pth, classes, model_loss, test_loader_2k, device, numGames=currGames, mode='loss')"
      ],
      "execution_count": null,
      "outputs": []
    },
    {
      "cell_type": "markdown",
      "metadata": {
        "id": "TcLxj4tO8FdY"
      },
      "source": [
        "##### Test Set - Class Groups\r\n",
        "\r\n",
        "Test on all three class groups:\r\n",
        "\r\n",
        "```r\r\n",
        "class_group = {'draw', 'discard', 'knock'}\r\n",
        "```"
      ]
    },
    {
      "cell_type": "code",
      "metadata": {
        "id": "aH-0F7Wg8FdZ"
      },
      "source": [
        "currGames = 2000\n",
        "test_loader_2k, classes = load_test_data(data_pth, currGames, \n",
        "                                         pruneStatesList, actionChoice)"
      ],
      "execution_count": null,
      "outputs": []
    },
    {
      "cell_type": "markdown",
      "metadata": {
        "id": "4rUTL6O78MCL"
      },
      "source": [
        "###### draw"
      ]
    },
    {
      "cell_type": "code",
      "metadata": {
        "id": "DrJk0qjI8MCL"
      },
      "source": [
        "plot_cm(plot_pth, classes, model, test_loader_2k, device, numGames=currGames, class_group='draw')"
      ],
      "execution_count": null,
      "outputs": []
    },
    {
      "cell_type": "markdown",
      "metadata": {
        "id": "14LfbNF68MCM"
      },
      "source": [
        "###### discard"
      ]
    },
    {
      "cell_type": "code",
      "metadata": {
        "id": "Uv71HRt48MCM"
      },
      "source": [
        "plot_cm(plot_pth, classes, model, test_loader_2k, device, numGames=currGames, class_group='discard')"
      ],
      "execution_count": null,
      "outputs": []
    },
    {
      "cell_type": "markdown",
      "metadata": {
        "id": "VI6CyEds8MCO"
      },
      "source": [
        "###### knock"
      ]
    },
    {
      "cell_type": "code",
      "metadata": {
        "id": "6s2KQkpA8MCP"
      },
      "source": [
        "plot_cm(plot_pth, classes, model, test_loader_2k, device, numGames=currGames, class_group='knock')"
      ],
      "execution_count": null,
      "outputs": []
    },
    {
      "cell_type": "markdown",
      "metadata": {
        "id": "ne5FWnh4b7kJ"
      },
      "source": [
        "##### Test Set - Discard Only (8k)"
      ]
    },
    {
      "cell_type": "code",
      "metadata": {
        "id": "lrsSEcFnb7kS"
      },
      "source": [
        "currGames = 8000\n",
        "data_pth_discard = '/content/drive/MyDrive/Colab Notebooks/Thesis/data/apbd/discard'\n",
        "test_loader_2k, classes = load_test_data(data_pth_discard, currGames, \n",
        "                                         pruneStatesList, actionChoice)"
      ],
      "execution_count": null,
      "outputs": []
    },
    {
      "cell_type": "code",
      "metadata": {
        "id": "b_8jf7W3b7kU"
      },
      "source": [
        "plot_cm(plot_pth, classes, model, test_loader_2k, device, numGames=currGames, mode='knock_data_only')"
      ],
      "execution_count": null,
      "outputs": []
    },
    {
      "cell_type": "markdown",
      "metadata": {
        "id": "IypOgp6VarA_"
      },
      "source": [
        "##### Test Set - Knock Only (8k)"
      ]
    },
    {
      "cell_type": "code",
      "metadata": {
        "id": "f6aHYuebarBA"
      },
      "source": [
        "currGames = 8000\n",
        "data_pth_knock = '/content/drive/MyDrive/Colab Notebooks/Thesis/data/apbd/knock'\n",
        "test_loader_2k, classes = load_test_data(data_pth_knock, currGames,\n",
        "                                         pruneStatesList, actionChoice)"
      ],
      "execution_count": null,
      "outputs": []
    },
    {
      "cell_type": "code",
      "metadata": {
        "id": "wPbpiuBAarBB"
      },
      "source": [
        "plot_cm(plot_pth, classes, model, test_loader_2k, device, numGames=currGames, mode='knock_data_only')"
      ],
      "execution_count": null,
      "outputs": []
    }
  ]
}