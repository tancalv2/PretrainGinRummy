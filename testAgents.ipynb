{
  "nbformat": 4,
  "nbformat_minor": 0,
  "metadata": {
    "colab": {
      "name": "testAgents.ipynb",
      "provenance": [],
      "collapsed_sections": [
        "uzVO9_zLKE8z",
        "U70Ryjd2aMuG",
        "_TzQ2YoZly8b"
      ],
      "toc_visible": true
    },
    "kernelspec": {
      "name": "python3",
      "display_name": "Python 3"
    }
  },
  "cells": [
    {
      "cell_type": "code",
      "metadata": {
        "id": "RubzqOlEW1H2",
        "colab": {
          "base_uri": "https://localhost:8080/"
        },
        "outputId": "6b2e093e-0ac4-496c-99e3-438704595590"
      },
      "source": [
        "# Run this cell to mount your Google Drive.\n",
        "\n",
        "from google.colab import drive\n",
        "drive.mount(\"/content/drive\")"
      ],
      "execution_count": 1,
      "outputs": [
        {
          "output_type": "stream",
          "text": [
            "Mounted at /content/drive\n"
          ],
          "name": "stdout"
        }
      ]
    },
    {
      "cell_type": "code",
      "metadata": {
        "id": "KPCni-gdFFeE"
      },
      "source": [
        "pth = '/content/drive/MyDrive/Colab Notebooks/Thesis'"
      ],
      "execution_count": 2,
      "outputs": []
    },
    {
      "cell_type": "code",
      "metadata": {
        "id": "e6Hs2guSyLy_"
      },
      "source": [
        "all_classes = ['SP0','SP1','Draw','Pickup','DH','GIN',\r\n",
        "               'AS', '2S', '3S', '4S', '5S', '6S', '7S', '8S', '9S', 'TS', 'JS', 'QS', 'KS',\r\n",
        "               'AH', '2H', '3H', '4H', '5H', '6H', '7H', '8H', '9H', 'TH', 'JH', 'QH', 'KH',\r\n",
        "               'AD', '2D', '3D', '4D', '5D', '6D', '7D', '8D', '9D', 'TD', 'JD', 'QD', 'KD',\r\n",
        "               'AC', '2C', '3C', '4C', '5C', '6C', '7C', '8C', '9C', 'TC', 'JC', 'QC', 'KC',\r\n",
        "               'AS', '2S', '3S', '4S', '5S', '6S', '7S', '8S', '9S', 'TS', 'JS', 'QS', 'KS',\r\n",
        "               'AH', '2H', '3H', '4H', '5H', '6H', '7H', '8H', '9H', 'TH', 'JH', 'QH', 'KH',\r\n",
        "               'AD', '2D', '3D', '4D', '5D', '6D', '7D', '8D', '9D', 'TD', 'JD', 'QD', 'KD',\r\n",
        "               'AC', '2C', '3C', '4C', '5C', '6C', '7C', '8C', '9C', 'TC', 'JC', 'QC', 'KC']\r\n"
      ],
      "execution_count": 3,
      "outputs": []
    },
    {
      "cell_type": "markdown",
      "metadata": {
        "id": "Ssj566eQMxKZ"
      },
      "source": [
        "# Gin Rummy"
      ]
    },
    {
      "cell_type": "markdown",
      "metadata": {
        "id": "qfjPoV0kM1NH"
      },
      "source": [
        "## Imports"
      ]
    },
    {
      "cell_type": "code",
      "metadata": {
        "id": "oZZ3FbZfWmdn",
        "colab": {
          "base_uri": "https://localhost:8080/"
        },
        "outputId": "55eb0df7-539d-4b71-a62d-72f4dd9a887f"
      },
      "source": [
        "#-------------------------------------------------------------------------------\n",
        "# The following code was originally written by Todd Neller in Java.\n",
        "# It was translated into Python by Anthony Hein.\n",
        "#-------------------------------------------------------------------------------\n",
        "\n",
        "#-------------------------------------------------------------------------------\n",
        "# A class for modeling a game of Gin Rummy\n",
        "# @author Todd W. Neller\n",
        "# @version 1.0\n",
        "#-------------------------------------------------------------------------------\n",
        "\n",
        "#-------------------------------------------------------------------------------\n",
        "# Copyright (C) 2020 Todd Neller\n",
        "#\n",
        "# This program is free software; you can redistribute it and/or\n",
        "# modify it under the terms of the GNU General Public License\n",
        "# as published by the Free Software Foundation; either version 2\n",
        "# of the License, or (at your option) any later version.\n",
        "#\n",
        "# This program is distributed in the hope that it will be useful,\n",
        "# but WITHOUT ANY WARRANTY; without even the implied warranty of\n",
        "# MERCHANTABILITY or FITNESS FOR A PARTICULAR PURPOSE.  See the\n",
        "# GNU General Public License for more details.\n",
        "#\n",
        "# Information about the GNU General Public License is available online at:\n",
        "#   http://www.gnu.org/licenses/\n",
        "# To receive a copy of the GNU General Public License, write to the Free\n",
        "# Software Foundation, Inc., 59 Temple Place - Suite 330, Boston, MA\n",
        "# 02111-1307, USA.\n",
        "#-------------------------------------------------------------------------------\n",
        "\n",
        "import random\n",
        "import time\n",
        "import numpy as np\n",
        "import os\n",
        "import torch\n",
        "\n",
        "%cd /content/drive/My Drive/Colab Notebooks/Thesis/GinRummy\n",
        "\n",
        "from Deck import Deck\n",
        "from GinRummyUtil import GinRummyUtil\n",
        "from SimpleGinRummyPlayer import SimpleGinRummyPlayer\n",
        "\n",
        "%cd /content/drive/My Drive/Colab Notebooks/Thesis/SupervisedLearning\n",
        "\n",
        "from models import *\n",
        "\n",
        "%cd /content/drive/My Drive/Colab Notebooks/Thesis\n",
        "#-------------------------------------------------------------------------------\n",
        "\n",
        "# TRACKING\n",
        "# Plane (5x52)      Feature\n",
        "# 0\t currHand       the cards in current player's hand\n",
        "# 1\t topCard        the top card of the discard pile\n",
        "# 2\t deadCard       the dead cards: cards in discard pile (excluding the top card)\n",
        "# 3\t oppCard        opponent known cards: cards picked up from discard pile, but not discarded\n",
        "# 4\t unknownCard    the unknown cards: cards in stockpile or in opponent hand (but not known)\n",
        "\n",
        "# Action ID         Action\n",
        "# 0\t                score_player_0_action\n",
        "# 1\t                score_player_1_action\n",
        "# 2\t                draw_card_action\n",
        "# 3\t                pick_up_discard_action\n",
        "# 4\t                declare_dead_hand_action\n",
        "# 5\t                gin_action\n",
        "# 6 - 57\t        discard_action\n",
        "# 58 - 109\t        knock_action\n",
        "\n",
        "# Knock_bin\n",
        "# Action ID         Action\n",
        "# 0\t                No Knock\n",
        "# 1\t                Knock\n",
        "\n",
        "def one_hot(cards):\n",
        "    ret = np.zeros(52)\n",
        "    for card in cards:\n",
        "        ret[card.getId()] = 1\n",
        "    return ret\n",
        "\n",
        "def un_one_hot(arr):\n",
        "    rankNames = [\"A\", \"2\", \"3\", \"4\", \"5\", \"6\", \"7\", \"8\", \"9\", \"T\", \"J\", \"Q\", \"K\"]\n",
        "    suitNames = ['S', 'H', 'D', 'C']\n",
        "    ret = []\n",
        "    for i in range(len(arr)):\n",
        "        if arr[i] != 0:\n",
        "            ret.append(rankNames[i%13] + suitNames[i//13])\n",
        "    return ret\n",
        "\n",
        "#-------------------------------------------------------------------------------"
      ],
      "execution_count": 4,
      "outputs": [
        {
          "output_type": "stream",
          "text": [
            "/content/drive/My Drive/Colab Notebooks/Thesis/GinRummy\n",
            "/content/drive/My Drive/Colab Notebooks/Thesis/SupervisedLearning\n",
            "/content/drive/My Drive/Colab Notebooks/Thesis\n"
          ],
          "name": "stdout"
        }
      ]
    },
    {
      "cell_type": "markdown",
      "metadata": {
        "id": "o1K0a747bja2"
      },
      "source": [
        "## MLPGinRummyPlayer"
      ]
    },
    {
      "cell_type": "code",
      "metadata": {
        "id": "cxJaArOfbmUM"
      },
      "source": [
        "# -------------------------------------------------------------------------------\r\n",
        "#  MLPGinRummyPlayer\r\n",
        "#\r\n",
        "#  This estimation will be calculated using a Multilayer Percepton trained on the\r\n",
        "#  SimpleGinRummyPlayer written\r\n",
        "#  by Calvin Tan.\r\n",
        "#\r\n",
        "#  @author Calvin Tan\r\n",
        "#  @version 1.0\r\n",
        "# -------------------------------------------------------------------------------\r\n",
        "\r\n",
        "# -------------------------------------------------------------------------------\r\n",
        "# The following code was originally written by Todd Neller in Java.\r\n",
        "# It was translated into Python by May Jiang.\r\n",
        "# -------------------------------------------------------------------------------\r\n",
        "\r\n",
        "# -------------------------------------------------------------------------------\r\n",
        "# Copyright (C) 2020 Todd Neller\r\n",
        "# This program is free software; you can redistribute it and/or\r\n",
        "# modify it under the terms of the GNU General Public License\r\n",
        "# as published by the Free Software Foundation; either version 2\r\n",
        "# of the License, or (at your option) any later version.\r\n",
        "# This program is distributed in the hope that it will be useful,\r\n",
        "# but WITHOUT ANY WARRANTY; without even the implied warranty of\r\n",
        "# MERCHANTABILITY or FITNESS FOR A PARTICULAR PURPOSE.  See the\r\n",
        "# GNU General Public License for more details.\r\n",
        "# Information about the GNU General Public License is available online at:\r\n",
        "#   http://www.gnu.org/licenses/\r\n",
        "# To receive a copy of the GNU General Public License, write to the Free\r\n",
        "# Software Foundation, Inc., 59 Temple Place - Suite 330, Boston, MA\r\n",
        "# 02111-1307, USA.\r\n",
        "# -------------------------------------------------------------------------------\r\n",
        "\r\n",
        "from typing import List, TypeVar\r\n",
        "from random import randint\r\n",
        "from GinRummyUtil import GinRummyUtil\r\n",
        "from GinRummyPlayer import GinRummyPlayer\r\n",
        "\r\n",
        "# Import MLP Models\r\n",
        "# from SupervisedLearning.models import *\r\n",
        "\r\n",
        "Card = TypeVar('Card')\r\n",
        "\r\n",
        "class MLPGinRummyPlayer(GinRummyPlayer):\r\n",
        "\r\n",
        "    def loadModel(self, model_pt):\r\n",
        "        print('Load Model')\r\n",
        "        self.model = model_pt\r\n",
        "\r\n",
        "    def setVerbose(self, verbose):\r\n",
        "        self.playVerbose = verbose\r\n",
        "\r\n",
        "    def updateStates(self, states):\r\n",
        "        if self.playVerbose:\r\n",
        "            print('Update States')\r\n",
        "        self.state = states\r\n",
        "\r\n",
        "    def knockAction(self) -> bool:\r\n",
        "        return self.knock\r\n",
        "\r\n",
        "    # Inform player of 0-based player number (0/1), starting player number (0/1), and dealt cards\r\n",
        "    def startGame(self, playerNum: int, startingPlayerNum: int, cards: List[Card]) -> None:\r\n",
        "        self.playerNum = playerNum\r\n",
        "        self.startingPlayerNum = startingPlayerNum\r\n",
        "        self.cards = list(cards)\r\n",
        "        self.opponentKnocked = False\r\n",
        "        self.drawDiscardBitstrings = [] # long[], or List[int]\r\n",
        "        self.faceUpCard = None\r\n",
        "        self.faceUpCardBool = False\r\n",
        "        self.drawnCard = None\r\n",
        "        self.state = None\r\n",
        "        self.knock = False\r\n",
        "        self.playVerbose = False\r\n",
        "\r\n",
        "\r\n",
        "\r\n",
        "    # def willDrawFaceUpCard(self, card: Card) -> bool:\r\n",
        "    #     # Return true if card would be a part of a meld, false otherwise.\r\n",
        "    #     self.faceUpCard = card\r\n",
        "    #     newCards = list(self.cards)\r\n",
        "    #     newCards.append(card)\r\n",
        "    #     for meld in GinRummyUtil.cardsToAllMelds(newCards):\r\n",
        "    #         if card in meld:\r\n",
        "    #             return True\r\n",
        "    #     return False\r\n",
        "\r\n",
        "    # Return whether or not player will draw the given face-up card on the draw pile.\r\n",
        "    def willDrawFaceUpCard(self, card: Card) -> bool:\r\n",
        "        self.faceUpCard = card\r\n",
        "        # BPBD, either draw(2)->False or pickup(3)->True\r\n",
        "        state = np.expand_dims(self.state, axis=0)\r\n",
        "        state = torch.from_numpy(state).type(torch.FloatTensor).to(device)\r\n",
        "        action = self.model(state)\r\n",
        "        action = action.detach().numpy().reshape(-1)\r\n",
        "        if self.playVerbose:\r\n",
        "            print('Draw new card:', action[2])\r\n",
        "            print('Pickup from discard:', action[3])\r\n",
        "        if action[3] > action[2]:\r\n",
        "            # print('Pickup Discard Action')\r\n",
        "            self.faceUpCardBool = True\r\n",
        "            return True\r\n",
        "        # print('Draw from Deck Action')\r\n",
        "        self.faceUpCardBool = False\r\n",
        "        return False\r\n",
        "\r\n",
        "\r\n",
        "\r\n",
        "\r\n",
        "    # Report that the given player has drawn a given card and, if known, what the card is.\r\n",
        "    # If the card is unknown because it is drawn from the face-down draw pile, the drawnCard is null.\r\n",
        "    # Note that a player that returns false for willDrawFaceUpCard will learn of their face-down draw from this method.\r\n",
        "    def reportDraw(self, playerNum: int, drawnCard: Card) -> None:\r\n",
        "        # Ignore other player draws.  Add to cards if playerNum is this player.\r\n",
        "        if playerNum == self.playerNum:\r\n",
        "            self.cards.append(drawnCard)\r\n",
        "            self.drawnCard = drawnCard\r\n",
        "\r\n",
        "\r\n",
        "\r\n",
        "\r\n",
        "\r\n",
        "\r\n",
        "    # def getDiscard(self) -> Card:\r\n",
        "    #     # Discard a random card (not just drawn face up) leaving minimal deadwood points.\r\n",
        "    #     minDeadwood = float('inf')\r\n",
        "    #     candidateCards = []\r\n",
        "    #     for card in self.cards:\r\n",
        "    #         # Cannot draw and discard face up card.\r\n",
        "    #         if card == self.drawnCard and self.drawnCard == self.faceUpCard:\r\n",
        "    #         # if card == self.drawnCard and self.faceUpCard:\r\n",
        "    #             continue\r\n",
        "    #         # Disallow repeat of draw and discard.\r\n",
        "    #         drawDiscard = [self.drawnCard, card]\r\n",
        "    #         if GinRummyUtil.cardsToBitstring(drawDiscard) in self.drawDiscardBitstrings:\r\n",
        "    #             continue\r\n",
        "\r\n",
        "    #         remainingCards = list(self.cards)\r\n",
        "    #         remainingCards.remove(card)\r\n",
        "    #         bestMeldSets = GinRummyUtil.cardsToBestMeldSets(remainingCards)\r\n",
        "    #         deadwood = GinRummyUtil.getDeadwoodPoints3(remainingCards) if len(bestMeldSets) == 0 \\\r\n",
        "    #             else GinRummyUtil.getDeadwoodPoints1(bestMeldSets[0], remainingCards)\r\n",
        "    #         if deadwood <= minDeadwood:\r\n",
        "    #             if deadwood < minDeadwood:\r\n",
        "    #                 minDeadwood = deadwood\r\n",
        "    #                 candidateCards.clear()\r\n",
        "    #             candidateCards.append(card)\r\n",
        "    #     # Prevent future repeat of draw, discard pair.\r\n",
        "    #     discard = candidateCards[randint(0, len(candidateCards)-1)]\r\n",
        "    #     drawDiscard = [self.drawnCard, discard]\r\n",
        "    #     self.drawDiscardBitstrings.append(GinRummyUtil.cardsToBitstring(drawDiscard))\r\n",
        "    #     return discard\r\n",
        "\r\n",
        "    # Get the player's discarded card.  If you took the top card from the discard pile,\r\n",
        "    # you must discard a different card.\r\n",
        "    # If this is not a card in the player's possession, the player forfeits the game.\r\n",
        "    # @return the player's chosen card for discarding\r\n",
        "    def getDiscard(self) -> Card:\r\n",
        "        # APBD, either either discard or knock...\r\n",
        "        # determine the allowable actions (which cards can be discarded/knocked on)\r\n",
        "        currHand = np.array(self.state[0:52])\r\n",
        "        if self.playVerbose:\r\n",
        "            print('Current Hand:', un_one_hot(currHand))\r\n",
        "        # disallow discarding PickUp FaceUp/Discarded Card\r\n",
        "        if self.faceUpCardBool:\r\n",
        "        # if self.drawnCard == self.faceUpCard:\r\n",
        "            currHand[self.drawnCard.getId()] = 0\r\n",
        "        \r\n",
        "        state = np.expand_dims(self.state, axis=0)\r\n",
        "        state = torch.from_numpy(state).type(torch.FloatTensor).to(device)\r\n",
        "        action = self.model(state)\r\n",
        "        action = action.detach().numpy().reshape(-1)\r\n",
        "\r\n",
        "        discardMax = max(currHand * action[6:58])\r\n",
        "        knockMax = max(currHand * action[58:110])\r\n",
        "\r\n",
        "        if self.playVerbose:\r\n",
        "            unmeldedCards = self.cards.copy()\r\n",
        "            bestMelds = GinRummyUtil.cardsToBestMeldSets(unmeldedCards)\r\n",
        "            if len(bestMelds) > 0:\r\n",
        "                melds = bestMelds[0]\r\n",
        "                for meld in melds:\r\n",
        "                    for card in meld:\r\n",
        "                        unmeldedCards.remove(card)\r\n",
        "                melds.extend(unmeldedCards)\r\n",
        "            else:\r\n",
        "                melds = unmeldedCards\r\n",
        "            print('Current Hand:', melds)\r\n",
        "            if np.argmax(action) > 58:\r\n",
        "                print('Knock', all_classes[np.argmax(action)], '| D:', Deck.getCard(np.argmax(currHand * action[6:58])), '| K:', Deck.getCard(np.argmax(currHand * action[58:])), '|', np.argmax(action))\r\n",
        "            else:\r\n",
        "                print('Discard', all_classes[np.argmax(action)], '| D:', Deck.getCard(np.argmax(currHand * action[6:58])), '| K:', Deck.getCard(np.argmax(currHand * action[58:])), '|', np.argmax(action))\r\n",
        "            print('MAX:{:.4f}, {:.4f}'.format(discardMax, knockMax))\r\n",
        "\r\n",
        "        if discardMax > knockMax:\r\n",
        "            if self.playVerbose:\r\n",
        "                print('Discard Action')\r\n",
        "            self.knock = False\r\n",
        "            return Deck.getCard(np.argmax(currHand * action[6:58]))\r\n",
        "        else:\r\n",
        "            if self.playVerbose:\r\n",
        "                print('Knock Action')\r\n",
        "            self.knock = True\r\n",
        "            return Deck.getCard(np.argmax(currHand * action[58:]))\r\n",
        "\r\n",
        "\r\n",
        "\r\n",
        "\r\n",
        "\r\n",
        "\r\n",
        "\r\n",
        "\r\n",
        "\r\n",
        "\r\n",
        "\r\n",
        "\r\n",
        "\r\n",
        "\r\n",
        "\r\n",
        "\r\n",
        "\r\n",
        "\r\n",
        "\r\n",
        "\r\n",
        "    # Report that the given player has discarded a given card.\r\n",
        "    def reportDiscard(self, playerNum: int, discardedCard: Card) -> None:\r\n",
        "        # Ignore other player discards.  Remove from cards if playerNum is this player.\r\n",
        "        if playerNum == self.playerNum:\r\n",
        "            self.cards.remove(discardedCard)\r\n",
        "\r\n",
        "    # At the end of each turn, this method is called and the player that cannot (or will not) end the round will return a null value.\r\n",
        "    # However, the first player to \"knock\" (that is, end the round), and then their opponent, will return an ArrayList of ArrayLists of melded cards.\r\n",
        "    # All other cards are counted as \"deadwood\", unless they can be laid off (added to) the knocking player's melds.\r\n",
        "    # When final melds have been reported for the other player, a player should return their final melds for the round.\r\n",
        "    # @return null if continuing play and opponent hasn't melded, or an ArrayList of ArrayLists of melded cards.\r\n",
        "    def getFinalMelds(self) -> List[List[Card]]:\r\n",
        "        # Check if deadwood of maximal meld is low enough to go out.\r\n",
        "        bestMeldSets = GinRummyUtil.cardsToBestMeldSets(self.cards) # List[List[List[Card]]]\r\n",
        "        if not self.opponentKnocked and (len(bestMeldSets) == 0 or \\\r\n",
        "            GinRummyUtil.getDeadwoodPoints1(bestMeldSets[0], self.cards) > \\\r\n",
        "            GinRummyUtil.MAX_DEADWOOD):\r\n",
        "            return None\r\n",
        "        if len(bestMeldSets) == 0:\r\n",
        "            return []\r\n",
        "        return bestMeldSets[randint(0, len(bestMeldSets)-1)]\r\n",
        "\r\n",
        "    # When an player has ended play and formed melds, the melds (and deadwood) are reported to both players.\r\n",
        "    def reportFinalMelds(self, playerNum: int, melds: List[List[Card]]) -> None:\r\n",
        "        # Melds ignored by simple player, but could affect which melds to make for complex player.\r\n",
        "        if playerNum != self.playerNum:\r\n",
        "            self.opponentKnocked = True\r\n",
        "\r\n",
        "    # Report current player scores, indexed by 0-based player number.\r\n",
        "    def reportScores(self, scores: List[int]) -> None:\r\n",
        "        # Ignored by simple player, but could affect strategy of more complex player.\r\n",
        "        return\r\n",
        "\r\n",
        "    # Report layoff actions.\r\n",
        "    def reportLayoff(self, playerNum: int, layoffCard: Card, opponentMeld: List[Card]) -> None:\r\n",
        "        # Ignored by simple player, but could affect strategy of more complex player.\r\n",
        "        return\r\n",
        "\r\n",
        "    # Report the final hands of players.\r\n",
        "    def reportFinalHand(self, playerNum: int, hand: List[Card]) -> None:\r\n",
        "        # Ignored by simple player, but could affect strategy of more complex player.\r\n",
        "        return"
      ],
      "execution_count": 108,
      "outputs": []
    },
    {
      "cell_type": "markdown",
      "metadata": {
        "id": "u-hik2PLM6C2"
      },
      "source": [
        "## Game Definition"
      ]
    },
    {
      "cell_type": "code",
      "metadata": {
        "id": "gDVKIcsgWJwe"
      },
      "source": [
        "class GinRummyGame:\n",
        "\n",
        "    # Hand size (before and after turn). After draw and before discard there is one extra card.\n",
        "    HAND_SIZE = 10;\n",
        "\n",
        "    # Whether or not to print information during game play\n",
        "    playVerbose = False;\n",
        "\n",
        "    # Two Gin Rummy players numbered according to their array index.\n",
        "    players = [];\n",
        "\n",
        "    # Set whether or not there is to be printed output during gameplay.\n",
        "    def setPlayVerbose(self, playVerbose):\n",
        "        self.playVerbose = playVerbose\n",
        "    \n",
        "    #-------------------------------- updateState --------------------------------#\n",
        "    # 2020-12-20: Define a method to append states\n",
        "    # 2021-01-16: modified append state to work for either player (0 or 1)\n",
        "    def updateState(self, currentPlayer, discards, oppCard):\n",
        "        currHand = one_hot(self.players[currentPlayer].cards)\n",
        "        topCard = np.zeros(52)\n",
        "        if len(discards) > 0:\n",
        "            topCard[discards[-1].getId()] = 1\n",
        "        deadCard = np.zeros(52)\n",
        "        for d in range(len(discards) - 1):\n",
        "            deadCard[discards[d].getId()] = 1\n",
        "        unknownCard = np.ones(52) - currHand - topCard - deadCard - oppCard\n",
        "        self.states = np.array([currHand, topCard, deadCard, oppCard, unknownCard]).flatten()\n",
        "    #------------------------------------------------------------------------------#\n",
        "\n",
        "    # Create a self with two given players\n",
        "    def __init__(self, player0, player1):\n",
        "        self.players = []\n",
        "        self.players.extend([player0, player1])\n",
        "\n",
        "    # Play a game of Gin Rummy and return the winning player number 0 or 1.\n",
        "    # @return the winning player number 0 or 1\n",
        "\n",
        "    def play(self):\n",
        "        scores = [0, 0]\n",
        "        hands = []\n",
        "        hands.extend([[], []])\n",
        "\n",
        "        startingPlayer = random.randrange(2);\n",
        "\n",
        "        # while game not over\n",
        "        while scores[0] < GinRummyUtil.GOAL_SCORE and scores[1] < GinRummyUtil.GOAL_SCORE:\n",
        "\n",
        "            currentPlayer = startingPlayer\n",
        "            opponent = (1 if currentPlayer == 0 else 0)\n",
        "\n",
        "            # get shuffled deck and deal cards\n",
        "            deck = Deck.getShuffle(random.randrange(10 ** 8))\n",
        "            hands[0] = []\n",
        "            hands[1] = []\n",
        "            for i in range(2 * self.HAND_SIZE):\n",
        "                hands[i % 2] += [deck.pop()]\n",
        "            for i in range(2):\n",
        "                self.players[i].startGame(i, startingPlayer, hands[i]);\n",
        "                if self.playVerbose:\n",
        "                    print(\"Player %d is dealt %s.\\n\" % (i, hands[i]))\n",
        "            if self.playVerbose:\n",
        "                print(\"Player %d starts.\\n\" % (startingPlayer))\n",
        "            discards = []\n",
        "            discards.append(deck.pop())\n",
        "            if self.playVerbose:\n",
        "                print(\"The initial face up card is %s.\\n\" % (discards[len(discards) - 1]))\n",
        "            firstFaceUpCard = discards[len(discards) - 1]\n",
        "            turnsTaken = 0\n",
        "            knockMelds = None\n",
        "\n",
        "            # 11/25 - Initial state, prior to any cards\n",
        "            # 1/16 - Initialize oppCard to be two dimensional to track both players as opponents\n",
        "            oppCard = []\n",
        "            oppCard.extend([np.zeros(52), np.zeros(52)])\n",
        "\n",
        "            for i in range(2):\n",
        "                if isinstance(self.players[i], MLPGinRummyPlayer):\n",
        "                    self.players[i].setVerbose(self.playVerbose)\n",
        "\n",
        "            # while the deck has more than two cards remaining, play round\n",
        "            while len(deck) > 2:\n",
        "#-------------------------------------------------------------- BPBD --------------------------------------------------------------#\n",
        "                drawFaceUp = False\n",
        "                faceUpCard = discards[len(discards) - 1]\n",
        "\n",
        "                # offer draw face-up iff not 3rd turn with first face up card (decline automatically in that case)\n",
        "                if not (turnsTaken == 2 and faceUpCard == firstFaceUpCard):\n",
        "\n",
        "                    #------------------------------------ DRAW ------------------------------------#\n",
        "                    # 2020-12-01  -  Track states BEFORE the player PICKUP BEFORE player DISCARDS (track_bpbd)\n",
        "                    # 2021-01-16  -  Track for both players instead of just player 0\n",
        "                    # Action      -  PickUp from Discard(FaceUp) or Deck (Unknown)\n",
        "                    # State       -  BPBD -> APBD\n",
        "\n",
        "                    self.updateState(currentPlayer,discards,oppCard[currentPlayer])\n",
        "\n",
        "                    #------------------------------------------------------------------------------#\n",
        "\n",
        "                    # 2021-01-16  -  Update player with current states\n",
        "                    if isinstance(self.players[currentPlayer], MLPGinRummyPlayer):\n",
        "                        self.players[currentPlayer].updateStates(self.states)\n",
        "\n",
        "                    # both players declined and 1st player must draw face down\n",
        "                    drawFaceUp = self.players[currentPlayer].willDrawFaceUpCard(faceUpCard)\n",
        "                    \n",
        "                    if self.playVerbose and not drawFaceUp and faceUpCard == firstFaceUpCard and turnsTaken < 2:\n",
        "                        print(\"Player %d declines %s.\\n\" % (currentPlayer, firstFaceUpCard))\n",
        "\n",
        "                if not (not drawFaceUp and turnsTaken < 2 and faceUpCard == firstFaceUpCard):\n",
        "\n",
        "                    # continue with turn if not initial declined option\n",
        "                    if self.playVerbose:\n",
        "                        if drawFaceUp:\n",
        "                            print('drawFaceUp (Pickup discarded card)')\n",
        "                        else:\n",
        "                            print('Draw from deck')\n",
        "                    drawCard = discards.pop() if drawFaceUp else deck.pop()\n",
        "                    for i in range(2):\n",
        "                        to_report = drawCard if i == currentPlayer or drawFaceUp else None\n",
        "                        self.players[i].reportDraw(currentPlayer, to_report)\n",
        "\n",
        "                    if self.playVerbose:\n",
        "                        print(\"Player %d draws %s.\\n\" % (currentPlayer, drawCard))\n",
        "                    hands[currentPlayer].append(drawCard)\n",
        "#-------------------------------------------------------------- APBD --------------------------------------------------------------#\n",
        "                    \n",
        "                    self.updateState(currentPlayer,discards,oppCard[currentPlayer])\n",
        "                    \n",
        "                    # 2021-01-16  -  Update player with current states\n",
        "                    if isinstance(self.players[currentPlayer], MLPGinRummyPlayer):\n",
        "                    # if type(self.players[currentPlayer]) == type(MLPGinRummyPlayer()):\n",
        "                        self.players[currentPlayer].updateStates(self.states)\n",
        "\n",
        "                    discardCard = self.players[currentPlayer].getDiscard()\n",
        "\n",
        "                    # 2021-01-16  -  Track for both players instead of just player 0\n",
        "                    # Track opponent pickup and discard after each discard \n",
        "\n",
        "                    # Set discarded card to 0 (in case discarded card was seen)\n",
        "                    oppCard[1 - currentPlayer][discardCard.getId()] = 0\n",
        "                    if drawFaceUp: # if opponent draws TopCard from discard\n",
        "                        oppCard[1 - currentPlayer][drawCard.getId()] = 1\n",
        "\n",
        "                    if not discardCard in hands[currentPlayer] or discardCard == faceUpCard:\n",
        "                        print(\"Player %d discards %s illegally and forfeits.\\n\" % (currentPlayer, discardCard))\n",
        "                        return opponent;\n",
        "                    hands[currentPlayer].remove(discardCard)\n",
        "                    for i in range(2):\n",
        "                        self.players[i].reportDiscard(currentPlayer, discardCard)                    \n",
        "                    if self.playVerbose:\n",
        "                        print(\"Player %d discards %s.\\n\" % (currentPlayer, discardCard))\n",
        "                    discards.append(discardCard)\n",
        "\n",
        "                    if self.playVerbose:\n",
        "                        unmeldedCards = hands[currentPlayer].copy()\n",
        "                        bestMelds = GinRummyUtil.cardsToBestMeldSets(unmeldedCards)\n",
        "                        if len(bestMelds) == 0:\n",
        "                            print(\"Player %d has %s with %d deadwood.\\n\" % (currentPlayer, unmeldedCards, GinRummyUtil.getDeadwoodPoints3(unmeldedCards)))\n",
        "                        else:\n",
        "                            melds = bestMelds[0]\n",
        "                            for meld in melds:\n",
        "                                for card in meld:\n",
        "                                    unmeldedCards.remove(card)\n",
        "                            melds.extend(unmeldedCards)\n",
        "                            print(\"Player %d has %s with %d deadwood.\\n\" % (currentPlayer, melds, GinRummyUtil.getDeadwoodPoints3(unmeldedCards)))\n",
        "\n",
        "#-------------------------------------------------------------- KNOCK --------------------------------------------------------------#\n",
        "                    # CHECK FOR KNOCK\n",
        "                    knockMelds = self.players[currentPlayer].getFinalMelds()\n",
        "                    if knockMelds != None:\n",
        "                        # print('Current Player:', currentPlayer)\n",
        "                        # print(knockMelds)\n",
        "                        # break\n",
        "                        # 2021-01-16  -  Check if MLPGinRummyPlayer knocks\n",
        "                        if isinstance(self.players[currentPlayer], MLPGinRummyPlayer):\n",
        "                            knock = self.players[currentPlayer].knockAction()\n",
        "                            if self.playVerbose:\n",
        "                                print(knock)\n",
        "                            if knock:\n",
        "                                break\n",
        "                        else:\n",
        "                            break\n",
        "                    \n",
        "                turnsTaken += 1\n",
        "                # currentPlayer = 1 if currentPlayer == 0 else 0\n",
        "                # opponent = 1 if currentPlayer == 0 else 0\n",
        "                if len(deck) > 2:\n",
        "                    currentPlayer = 1 if currentPlayer == 0 else 0\n",
        "                    opponent = 1 if currentPlayer == 0 else 0\n",
        "\n",
        "            # if knockMelds != None and len(deck) > 2:\n",
        "            if knockMelds != None:\n",
        "                # round didn't end due to non-knocking and 2 cards remaining in draw pile\n",
        "                # check legality of knocking meld\n",
        "                handBitstring = GinRummyUtil.cardsToBitstring(hands[currentPlayer])\n",
        "                unmelded = handBitstring\n",
        "                for meld in knockMelds:\n",
        "                    meldBitstring = GinRummyUtil.cardsToBitstring(meld)\n",
        "                    if (not meldBitstring in GinRummyUtil.getAllMeldBitstrings()) or ((meldBitstring & unmelded) != meldBitstring):\n",
        "                        # non-meld or meld not in hand\n",
        "                        # print(len(deck))\n",
        "                        # print(meld)\n",
        "                        # print(knockMelds)\n",
        "                        # print(currentPlayer, hands[currentPlayer])\n",
        "                        # print(1- currentPlayer, hands[1-currentPlayer])\n",
        "                        # print(GinRummyUtil.getDeadwoodPoints1(knockMelds, hands[1-currentPlayer]))\n",
        "                        print(\"Player %d melds %s illegally and forfeits.\\n\" % (currentPlayer, knockMelds))\n",
        "                        return opponent\n",
        "                    unmelded &= ~meldBitstring # remove successfully melded cards from\n",
        "\n",
        "                # compute knocking deadwood\n",
        "                knockingDeadwood = GinRummyUtil.getDeadwoodPoints1(knockMelds, hands[currentPlayer])\n",
        "                if knockingDeadwood > GinRummyUtil.MAX_DEADWOOD:\n",
        "                    print(\"Player %d melds %s with greater than %d deadwood and forfeits.\\n\" % (currentPlayer, knockMelds, knockingDeadwood))\n",
        "                    return opponent\n",
        "\n",
        "                meldsCopy = []\n",
        "                for meld in knockMelds:\n",
        "                    meldsCopy.append(meld.copy())\n",
        "                for i in range(2):\n",
        "                    self.players[i].reportFinalMelds(currentPlayer, meldsCopy)\n",
        "                if self.playVerbose:\n",
        "                    if knockingDeadwood > 0:\n",
        "                        print(\"Player %d melds %s with %d deadwood from %s.\\n\" % (currentPlayer, knockMelds, knockingDeadwood, GinRummyUtil.bitstringToCards(unmelded)))\n",
        "                    else:\n",
        "                        print(\"Player %d goes gin with melds %s.\\n\" % (currentPlayer, knockMelds))\n",
        "\n",
        "                # get opponent meld\n",
        "                opponentMelds = self.players[opponent].getFinalMelds();\n",
        "                meldsCopy = []\n",
        "                for meld in opponentMelds:\n",
        "                    meldsCopy.append(meld.copy())\n",
        "                for i in range(2):\n",
        "                    self.players[i].reportFinalMelds(opponent, meldsCopy)\n",
        "\n",
        "                # check legality of opponent meld\n",
        "                opponentHandBitstring = GinRummyUtil.cardsToBitstring(hands[opponent])\n",
        "                opponentUnmelded = opponentHandBitstring\n",
        "                for meld in opponentMelds:\n",
        "                    meldBitstring = GinRummyUtil.cardsToBitstring(meld)\n",
        "                    if (meldBitstring not in GinRummyUtil.getAllMeldBitstrings()) or ((meldBitstring & opponentUnmelded) != meldBitstring):\n",
        "                        # non-meld or meld not in hand\n",
        "                        print(\"Player %d melds %s illegally and forfeits.\\n\" % (opponent, opponentMelds))\n",
        "                        return currentPlayer\n",
        "                    opponentUnmelded &= ~meldBitstring # remove successfully melded cards from\n",
        "\n",
        "                if self.playVerbose:\n",
        "                    print(\"Player %d melds %s.\\n\" % (opponent, opponentMelds))\n",
        "\n",
        "                # lay off on knocking meld (if not gin)\n",
        "                unmeldedCards = GinRummyUtil.bitstringToCards(opponentUnmelded)\n",
        "                if knockingDeadwood > 0:\n",
        "                    # knocking player didn't go gin\n",
        "                    cardWasLaidOff = False\n",
        "                    while True:\n",
        "                        # attempt to lay each card off\n",
        "                        cardWasLaidOff = False\n",
        "                        layOffCard = None\n",
        "                        layOffMeld = None\n",
        "                        for card in unmeldedCards:\n",
        "                            for meld in knockMelds:\n",
        "                                newMeld = meld.copy()\n",
        "                                newMeld.append(card)\n",
        "                                newMeldBitstring = GinRummyUtil.cardsToBitstring(newMeld)\n",
        "                                if newMeldBitstring in GinRummyUtil.getAllMeldBitstrings():\n",
        "                                    layOffCard = card\n",
        "                                    layOffMeld = meld\n",
        "                                    break\n",
        "                            if layOffCard != None:\n",
        "                                if self.playVerbose:\n",
        "                                    print(\"Player %d lays off %s on %s.\\n\" % (opponent, layOffCard, layOffMeld))\n",
        "                                for i in range(2):\n",
        "                                    self.players[i].reportLayoff(opponent, layOffCard, layOffMeld.copy())\n",
        "                                unmeldedCards.remove(layOffCard)\n",
        "                                layOffMeld.append(layOffCard)\n",
        "                                cardWasLaidOff = True\n",
        "                                break\n",
        "                        if not cardWasLaidOff:\n",
        "                            break\n",
        "\n",
        "                opponentDeadwood = 0\n",
        "                for card in unmeldedCards:\n",
        "                    opponentDeadwood += GinRummyUtil.getDeadwoodPoints2(card)\n",
        "                if self.playVerbose:\n",
        "                    print(\"Player %d has %d deadwood with %s\\n\" % (opponent, opponentDeadwood, unmeldedCards))\n",
        "                # compare deadwood and compute new scores\n",
        "                if knockingDeadwood == 0:\n",
        "                    # gin round win\n",
        "                    scores[currentPlayer] += GinRummyUtil.GIN_BONUS + opponentDeadwood\n",
        "                    if self.playVerbose:\n",
        "                        print(\"Player %d scores the gin bonus of %d plus opponent deadwood %d for %d total points.\\n\" % \\\n",
        "                        (currentPlayer, GinRummyUtil.GIN_BONUS, opponentDeadwood, GinRummyUtil.GIN_BONUS + opponentDeadwood))\n",
        "\n",
        "                elif knockingDeadwood < opponentDeadwood:\n",
        "                    # non-gin round win:\n",
        "                    scores[currentPlayer] += opponentDeadwood - knockingDeadwood;\n",
        "                    if self.playVerbose:\n",
        "                        print(\"Player %d scores the deadwood difference of %d.\\n\" % (currentPlayer, opponentDeadwood - knockingDeadwood))\n",
        "\n",
        "                else:\n",
        "                    # undercut win for opponent\n",
        "                    scores[opponent] += GinRummyUtil.UNDERCUT_BONUS + knockingDeadwood - opponentDeadwood;\n",
        "                    if self.playVerbose:\n",
        "                        print(\"Player %d undercuts and scores the undercut bonus of %d plus deadwood difference of %d for %d total points.\\n\" % \\\n",
        "                        (opponent, GinRummyUtil.UNDERCUT_BONUS, knockingDeadwood - opponentDeadwood, GinRummyUtil.UNDERCUT_BONUS + knockingDeadwood - opponentDeadwood))\n",
        "\n",
        "                startingPlayer = 1 if startingPlayer == 0 else 0 # starting player alternates\n",
        "\n",
        "            # If the round ends due to a two card draw pile with no knocking, the round is cancelled.\n",
        "            else:\n",
        "                if self.playVerbose:\n",
        "                    print(\"The draw pile was reduced to two cards without knocking, so the hand is cancelled.\")\n",
        "\n",
        "            # report final hands\n",
        "            for i in range(2):\n",
        "                for j in range(2):\n",
        "                    self.players[i].reportFinalHand(j, hands[j].copy())\n",
        "\n",
        "            # score reporting\n",
        "            if self.playVerbose:\n",
        "                print(\"Player\\tScore\\n0\\t%d\\n1\\t%d\\n\" % (scores[0], scores[1]))\n",
        "            for i in range(2):\n",
        "                self.players[i].reportScores(scores.copy())\n",
        "\n",
        "        if self.playVerbose:\n",
        "            print(\"Player %s wins.\\n\" % (0 if scores[0] > scores[1] else 1))\n",
        "        return 0 if scores[0] >= GinRummyUtil.GOAL_SCORE else 1"
      ],
      "execution_count": 107,
      "outputs": []
    },
    {
      "cell_type": "markdown",
      "metadata": {
        "id": "JIhyFRnjM_b-"
      },
      "source": [
        "# Test Agents"
      ]
    },
    {
      "cell_type": "markdown",
      "metadata": {
        "id": "11qEEpVcXSun"
      },
      "source": [
        "## Shared"
      ]
    },
    {
      "cell_type": "code",
      "metadata": {
        "id": "faqGzLQVWQZD"
      },
      "source": [
        "def testAgents(agent0,agent1,numGames,verbose):\n",
        "    numP1Wins = 0\n",
        "    game = GinRummyGame(agent0, agent1)\n",
        "    # Multiple non-verbose games\n",
        "    game.setPlayVerbose(verbose)\n",
        "    for i in range(2):\n",
        "        if isinstance(game.players[i], MLPGinRummyPlayer):\n",
        "            print(game.players[i].model)\n",
        "    for i in range(numGames):\n",
        "        if i % 100 == 0:\n",
        "            print(\"Game ... \", i)\n",
        "        numP1Wins += game.play()\n",
        "    print(\"Games Won: P0:%d, P1:%d.\\n\" % (numGames - numP1Wins, numP1Wins))"
      ],
      "execution_count": 112,
      "outputs": []
    },
    {
      "cell_type": "code",
      "metadata": {
        "id": "wgmlCQKmVfj3"
      },
      "source": [
        "state = 'all'\r\n",
        "action = 'all'"
      ],
      "execution_count": 8,
      "outputs": []
    },
    {
      "cell_type": "markdown",
      "metadata": {
        "id": "uzVO9_zLKE8z"
      },
      "source": [
        "## test games"
      ]
    },
    {
      "cell_type": "code",
      "metadata": {
        "colab": {
          "base_uri": "https://localhost:8080/"
        },
        "id": "LXfISEHlSjHl",
        "outputId": "0030459e-fccc-41f4-8a2f-fbfae3341917"
      },
      "source": [
        "numGames = 2000\r\n",
        "agent0 = MLPGinRummyPlayer()\r\n",
        "model_name = 'all_states_all_actions_MLP_base_extra_knock_data_40K'\r\n",
        "device = torch.device('cuda' if torch.cuda.is_available() else 'cpu')\r\n",
        "torch.load('{}/models/{}/{}/{}/model.pt'.format(pth,state,action,model_name), map_location=device)\r\n",
        "agent0.loadModel(torch.load('{}/models/{}/{}/{}/model.pt'.format(pth,state,action,model_name), map_location=device))\r\n",
        "agent1 = SimpleGinRummyPlayer()\r\n",
        "states, actions = [], []\r\n",
        "testAgents(agent0,agent1,numGames,verbose=False)"
      ],
      "execution_count": null,
      "outputs": [
        {
          "output_type": "stream",
          "text": [
            "Load Model\n",
            "Game ...  0\n",
            "Game ...  100\n",
            "Game ...  200\n",
            "Game ...  300\n",
            "Game ...  400\n",
            "Game ...  500\n",
            "Game ...  600\n",
            "Game ...  700\n",
            "Game ...  800\n",
            "Game ...  900\n",
            "Game ...  1000\n",
            "Game ...  1100\n",
            "Game ...  1200\n",
            "Game ...  1300\n",
            "Game ...  1400\n",
            "Game ...  1500\n",
            "Game ...  1600\n",
            "Game ...  1700\n",
            "Game ...  1800\n",
            "Game ...  1900\n",
            "Games Won: P0:346, P1:1654.\n",
            "\n"
          ],
          "name": "stdout"
        }
      ]
    },
    {
      "cell_type": "code",
      "metadata": {
        "colab": {
          "base_uri": "https://localhost:8080/"
        },
        "id": "K9nuUfxzRh0f",
        "outputId": "092ec307-1c9c-40d8-85df-64f4ee0da7cf"
      },
      "source": [
        "numGames = 1000\r\n",
        "agent0 = MLPGinRummyPlayer()\r\n",
        "model_name = 'all_states_all_actions_MLP_base_extra_knock_data_40K'\r\n",
        "device = torch.device('cuda' if torch.cuda.is_available() else 'cpu')\r\n",
        "torch.load('{}/models/{}/{}/{}/model.pt'.format(pth,state,action,model_name), map_location=device)\r\n",
        "agent0.loadModel(torch.load('{}/models/{}/{}/{}/model.pt'.format(pth,state,action,model_name), map_location=device))\r\n",
        "agent1 = SimpleGinRummyPlayer()\r\n",
        "states, actions = [], []\r\n",
        "testAgents(agent0,agent1,numGames,verbose=False)"
      ],
      "execution_count": null,
      "outputs": [
        {
          "output_type": "stream",
          "text": [
            "Load Model\n",
            "Game ...  0\n",
            "Game ...  100\n",
            "Game ...  200\n",
            "Game ...  300\n",
            "Game ...  400\n",
            "Game ...  500\n",
            "Game ...  600\n",
            "Game ...  700\n",
            "Game ...  800\n",
            "Game ...  900\n",
            "Games Won: P0:267, P1:733.\n",
            "\n"
          ],
          "name": "stdout"
        }
      ]
    },
    {
      "cell_type": "code",
      "metadata": {
        "colab": {
          "base_uri": "https://localhost:8080/"
        },
        "id": "xzNXqvn5SbcZ",
        "outputId": "085a3077-5ec9-4363-8604-0f9ddfc1f15c"
      },
      "source": [
        "numGames = 2000\r\n",
        "agent0 = MLPGinRummyPlayer()\r\n",
        "model_name = 'all_states_all_actions_MLP_base_extra_knock_data_40K'\r\n",
        "device = torch.device('cuda' if torch.cuda.is_available() else 'cpu')\r\n",
        "torch.load('{}/models/{}/{}/{}/model.pt'.format(pth,state,action,model_name), map_location=device)\r\n",
        "agent0.loadModel(torch.load('{}/models/{}/{}/{}/model.pt'.format(pth,state,action,model_name), map_location=device))\r\n",
        "agent1 = SimpleGinRummyPlayer()\r\n",
        "states, actions = [], []\r\n",
        "testAgents(agent0,agent1,numGames,verbose=False)"
      ],
      "execution_count": null,
      "outputs": [
        {
          "output_type": "stream",
          "text": [
            "Load Model\n",
            "Game ...  0\n",
            "Game ...  100\n",
            "Game ...  200\n",
            "Game ...  300\n",
            "Game ...  400\n",
            "Game ...  500\n",
            "Game ...  600\n",
            "Game ...  700\n",
            "Game ...  800\n",
            "Game ...  900\n",
            "Game ...  1000\n",
            "Game ...  1100\n",
            "Game ...  1200\n",
            "Game ...  1300\n",
            "Game ...  1400\n",
            "Game ...  1500\n",
            "Game ...  1600\n",
            "Game ...  1700\n",
            "Game ...  1800\n",
            "Game ...  1900\n",
            "Games Won: P0:513, P1:1487.\n",
            "\n"
          ],
          "name": "stdout"
        }
      ]
    },
    {
      "cell_type": "code",
      "metadata": {
        "colab": {
          "base_uri": "https://localhost:8080/"
        },
        "id": "IwX-ofCLUT54",
        "outputId": "5733706c-1ea2-43a2-e5e7-f0418acd0c23"
      },
      "source": [
        "numGames = 2000\r\n",
        "agent0 = MLPGinRummyPlayer()\r\n",
        "model_name = 'all_states_all_actions_MLP_base_extra_knock_data_40K'\r\n",
        "device = torch.device('cuda' if torch.cuda.is_available() else 'cpu')\r\n",
        "torch.load('{}/models/{}/{}/{}/model.pt'.format(pth,state,action,model_name), map_location=device)\r\n",
        "agent0.loadModel(torch.load('{}/models/{}/{}/{}/model.pt'.format(pth,state,action,model_name), map_location=device))\r\n",
        "agent1 = SimpleGinRummyPlayer()\r\n",
        "states, actions = [], []\r\n",
        "testAgents(agent0,agent1,numGames,verbose=False)"
      ],
      "execution_count": null,
      "outputs": [
        {
          "output_type": "stream",
          "text": [
            "Load Model\n",
            "Game ...  0\n",
            "Game ...  100\n",
            "Game ...  200\n",
            "Game ...  300\n",
            "Game ...  400\n",
            "Game ...  500\n",
            "Game ...  600\n",
            "Game ...  700\n",
            "Game ...  800\n",
            "Game ...  900\n",
            "Game ...  1000\n",
            "Game ...  1100\n",
            "Game ...  1200\n",
            "Game ...  1300\n",
            "Game ...  1400\n",
            "Game ...  1500\n",
            "Game ...  1600\n",
            "Game ...  1700\n",
            "Game ...  1800\n",
            "Game ...  1900\n",
            "Games Won: P0:526, P1:1474.\n",
            "\n"
          ],
          "name": "stdout"
        }
      ]
    },
    {
      "cell_type": "code",
      "metadata": {
        "colab": {
          "base_uri": "https://localhost:8080/"
        },
        "id": "FFgrPqXZVPsg",
        "outputId": "ef1baa71-6c4a-48e9-aed8-f40340f31b71"
      },
      "source": [
        "numGames = 2000\r\n",
        "agent0 = MLPGinRummyPlayer()\r\n",
        "model_name = 'all_states_all_actions_MLP_base_extra_knock_data_40K'\r\n",
        "device = torch.device('cuda' if torch.cuda.is_available() else 'cpu')\r\n",
        "torch.load('{}/models/{}/{}/{}/model.pt'.format(pth,state,action,model_name), map_location=device)\r\n",
        "agent0.loadModel(torch.load('{}/models/{}/{}/{}/model.pt'.format(pth,state,action,model_name), map_location=device))\r\n",
        "agent1 = SimpleGinRummyPlayer()\r\n",
        "states, actions = [], []\r\n",
        "testAgents(agent0,agent1,numGames,verbose=False)"
      ],
      "execution_count": null,
      "outputs": [
        {
          "output_type": "stream",
          "text": [
            "Load Model\n",
            "Game ...  0\n",
            "Game ...  100\n",
            "Game ...  200\n",
            "Game ...  300\n",
            "Game ...  400\n",
            "Game ...  500\n",
            "Game ...  600\n",
            "Game ...  700\n",
            "Game ...  800\n",
            "Game ...  900\n",
            "Game ...  1000\n",
            "Game ...  1100\n",
            "Game ...  1200\n",
            "Game ...  1300\n",
            "Game ...  1400\n",
            "Game ...  1500\n",
            "Game ...  1600\n",
            "Game ...  1700\n",
            "Game ...  1800\n",
            "Game ...  1900\n",
            "Games Won: P0:358, P1:1642.\n",
            "\n"
          ],
          "name": "stdout"
        }
      ]
    },
    {
      "cell_type": "code",
      "metadata": {
        "colab": {
          "base_uri": "https://localhost:8080/"
        },
        "id": "R9k-kfkiWVbH",
        "outputId": "3135dd4e-9248-4038-b9c2-2307c34ae8b0"
      },
      "source": [
        "numGames = 2000\r\n",
        "agent0 = MLPGinRummyPlayer()\r\n",
        "model_name = 'all_states_all_actions_2hl_extra_knock_data_40K'\r\n",
        "device = torch.device('cuda' if torch.cuda.is_available() else 'cpu')\r\n",
        "torch.load('{}/models/{}/{}/{}/model.pt'.format(pth,state,action,model_name), map_location=device)\r\n",
        "agent0.loadModel(torch.load('{}/models/{}/{}/{}/model.pt'.format(pth,state,action,model_name), map_location=device))\r\n",
        "agent1 = SimpleGinRummyPlayer()\r\n",
        "states, actions = [], []\r\n",
        "testAgents(agent0,agent1,numGames,verbose=False)"
      ],
      "execution_count": null,
      "outputs": [
        {
          "output_type": "stream",
          "text": [
            "Load Model\n",
            "Game ...  0\n",
            "Game ...  100\n",
            "Game ...  200\n",
            "Game ...  300\n",
            "Game ...  400\n",
            "Game ...  500\n",
            "Game ...  600\n",
            "Game ...  700\n",
            "Game ...  800\n",
            "Game ...  900\n",
            "Game ...  1000\n",
            "Game ...  1100\n",
            "Game ...  1200\n",
            "Game ...  1300\n",
            "Game ...  1400\n",
            "Game ...  1500\n",
            "Game ...  1600\n",
            "Game ...  1700\n",
            "Game ...  1800\n",
            "Game ...  1900\n",
            "Games Won: P0:542, P1:1458.\n",
            "\n"
          ],
          "name": "stdout"
        }
      ]
    },
    {
      "cell_type": "code",
      "metadata": {
        "colab": {
          "base_uri": "https://localhost:8080/"
        },
        "id": "lQoVb8WSaZ63",
        "outputId": "81899ebe-7617-47d2-fac1-fd4939f52250"
      },
      "source": [
        "numGames = 2000\r\n",
        "agent0 = MLPGinRummyPlayer()\r\n",
        "model_name = 'all_states_all_actions_2hl_extra_knock_data_40K'\r\n",
        "device = torch.device('cuda' if torch.cuda.is_available() else 'cpu')\r\n",
        "torch.load('{}/models/{}/{}/{}/model.pt'.format(pth,state,action,model_name), map_location=device)\r\n",
        "agent0.loadModel(torch.load('{}/models/{}/{}/{}/model.pt'.format(pth,state,action,model_name), map_location=device))\r\n",
        "agent1 = SimpleGinRummyPlayer()\r\n",
        "states, actions = [], []\r\n",
        "testAgents(agent0,agent1,numGames,verbose=False)"
      ],
      "execution_count": null,
      "outputs": [
        {
          "output_type": "stream",
          "text": [
            "Load Model\n",
            "Game ...  0\n",
            "Game ...  100\n",
            "Game ...  200\n",
            "Game ...  300\n",
            "Game ...  400\n",
            "Game ...  500\n",
            "Game ...  600\n",
            "Game ...  700\n",
            "Game ...  800\n",
            "Game ...  900\n",
            "Game ...  1000\n",
            "Game ...  1100\n",
            "Game ...  1200\n",
            "Game ...  1300\n",
            "Game ...  1400\n",
            "Game ...  1500\n",
            "Game ...  1600\n",
            "Game ...  1700\n",
            "Game ...  1800\n",
            "Game ...  1900\n",
            "Games Won: P0:535, P1:1465.\n",
            "\n"
          ],
          "name": "stdout"
        }
      ]
    },
    {
      "cell_type": "code",
      "metadata": {
        "colab": {
          "base_uri": "https://localhost:8080/"
        },
        "id": "1EftJkGEE1dK",
        "outputId": "80d92c31-ad14-430e-d43b-4b1ce9113e68"
      },
      "source": [
        "numGames = 1\r\n",
        "agent0 = MLPGinRummyPlayer()\r\n",
        "model_name = 'all_states_all_actions_2hl_extra_knock_data_40K'\r\n",
        "device = torch.device('cuda' if torch.cuda.is_available() else 'cpu')\r\n",
        "torch.load('{}/models/{}/{}/{}/model.pt'.format(pth,state,action,model_name), map_location=device)\r\n",
        "agent0.loadModel(torch.load('{}/models/{}/{}/{}/model.pt'.format(pth,state,action,model_name), map_location=device))\r\n",
        "agent1 = SimpleGinRummyPlayer()\r\n",
        "states, actions = [], []\r\n",
        "testAgents(agent0,agent1,numGames,verbose=False)"
      ],
      "execution_count": null,
      "outputs": [
        {
          "output_type": "stream",
          "text": [
            "Load Model\n",
            "Game ...  0\n",
            "Games Won: P0:1, P1:0.\n",
            "\n"
          ],
          "name": "stdout"
        }
      ]
    },
    {
      "cell_type": "markdown",
      "metadata": {
        "id": "zLTh_vClL43-"
      },
      "source": [
        "## MLP Models vs. SimpleGinRummyAgent"
      ]
    },
    {
      "cell_type": "code",
      "metadata": {
        "colab": {
          "base_uri": "https://localhost:8080/"
        },
        "id": "0uRlIiYTPP6Y",
        "outputId": "62d8e1d0-3d86-4cca-9acc-659e66c600eb"
      },
      "source": [
        "numGames = 2000\r\n",
        "agent0 = MLPGinRummyPlayer()\r\n",
        "model_name = 'all_states_all_actions'\r\n",
        "device = torch.device('cuda' if torch.cuda.is_available() else 'cpu')\r\n",
        "model = torch.load('{}/models/{}/{}/{}/model.pt'.format(pth,state,action,model_name), map_location=device)\r\n",
        "agent0.loadModel(model)\r\n",
        "print(model_name)\r\n",
        "agent1 = SimpleGinRummyPlayer()\r\n",
        "states, actions = [], []\r\n",
        "testAgents(agent0,agent1,numGames,verbose=False)"
      ],
      "execution_count": 113,
      "outputs": [
        {
          "output_type": "stream",
          "text": [
            "Load Model\n",
            "all_states_all_actions\n",
            "Agent/Player 0, MLPGinRummyPlayer\n",
            "MLP_base(\n",
            "  (l1): Linear(in_features=260, out_features=520, bias=True)\n",
            "  (l2): Linear(in_features=520, out_features=110, bias=True)\n",
            "  (act_fnc): Sigmoid()\n",
            "  (sfx): Softmax(dim=1)\n",
            ")\n",
            "Game ...  0\n",
            "Game ...  100\n",
            "Game ...  200\n",
            "Game ...  300\n",
            "Game ...  400\n",
            "Game ...  500\n",
            "Game ...  600\n",
            "Game ...  700\n",
            "Game ...  800\n",
            "Game ...  900\n",
            "Game ...  1000\n",
            "Game ...  1100\n",
            "Game ...  1200\n",
            "Game ...  1300\n",
            "Game ...  1400\n",
            "Game ...  1500\n",
            "Game ...  1600\n",
            "Game ...  1700\n",
            "Game ...  1800\n",
            "Game ...  1900\n",
            "Games Won: P0:303, P1:1697.\n",
            "\n"
          ],
          "name": "stdout"
        }
      ]
    },
    {
      "cell_type": "code",
      "metadata": {
        "colab": {
          "base_uri": "https://localhost:8080/"
        },
        "id": "mdoXXbBfTs9j",
        "outputId": "a9cff7d1-a200-4f84-d3e3-d9244c3381b2"
      },
      "source": [
        "numGames = 2000\r\n",
        "agent0 = MLPGinRummyPlayer()\r\n",
        "model_name = 'all_states_all_actions_MLP_base_extra_knock_data_40K'\r\n",
        "device = torch.device('cuda' if torch.cuda.is_available() else 'cpu')\r\n",
        "model = torch.load('{}/models/{}/{}/{}/model.pt'.format(pth,state,action,model_name), map_location=device)\r\n",
        "agent0.loadModel(model)\r\n",
        "print(model_name)\r\n",
        "agent1 = SimpleGinRummyPlayer()\r\n",
        "states, actions = [], []\r\n",
        "testAgents(agent0,agent1,numGames,verbose=False)"
      ],
      "execution_count": 114,
      "outputs": [
        {
          "output_type": "stream",
          "text": [
            "Load Model\n",
            "all_states_all_actions_MLP_base_extra_knock_data_40K\n",
            "Agent/Player 0, MLPGinRummyPlayer\n",
            "MLP_base(\n",
            "  (l1): Linear(in_features=260, out_features=520, bias=True)\n",
            "  (l2): Linear(in_features=520, out_features=110, bias=True)\n",
            "  (act_fnc): Sigmoid()\n",
            "  (sfx): Softmax(dim=1)\n",
            ")\n",
            "Game ...  0\n",
            "Game ...  100\n",
            "Game ...  200\n",
            "Game ...  300\n",
            "Game ...  400\n",
            "Game ...  500\n",
            "Game ...  600\n",
            "Game ...  700\n",
            "Game ...  800\n",
            "Game ...  900\n",
            "Game ...  1000\n",
            "Game ...  1100\n",
            "Game ...  1200\n",
            "Game ...  1300\n",
            "Game ...  1400\n",
            "Game ...  1500\n",
            "Game ...  1600\n",
            "Game ...  1700\n",
            "Game ...  1800\n",
            "Game ...  1900\n",
            "Games Won: P0:368, P1:1632.\n",
            "\n"
          ],
          "name": "stdout"
        }
      ]
    },
    {
      "cell_type": "code",
      "metadata": {
        "colab": {
          "base_uri": "https://localhost:8080/"
        },
        "id": "aL_OZ4BdHoe7",
        "outputId": "d736683a-2085-4966-8f01-6eaaa8882850"
      },
      "source": [
        "numGames = 2000\r\n",
        "agent0 = MLPGinRummyPlayer()\r\n",
        "model_name = 'all_states_all_actions_2hl_extra_knock_data_40K'\r\n",
        "device = torch.device('cuda' if torch.cuda.is_available() else 'cpu')\r\n",
        "model = torch.load('{}/models/{}/{}/{}/model.pt'.format(pth,state,action,model_name), map_location=device)\r\n",
        "agent0.loadModel(model)\r\n",
        "print(model_name)\r\n",
        "agent1 = SimpleGinRummyPlayer()\r\n",
        "states, actions = [], []\r\n",
        "testAgents(agent0,agent1,numGames,verbose=False)"
      ],
      "execution_count": 115,
      "outputs": [
        {
          "output_type": "stream",
          "text": [
            "Load Model\n",
            "all_states_all_actions_2hl_extra_knock_data_40K\n",
            "Agent/Player 0, MLPGinRummyPlayer\n",
            "MLP_2HL(\n",
            "  (l1): Linear(in_features=260, out_features=520, bias=True)\n",
            "  (l2): Linear(in_features=520, out_features=520, bias=True)\n",
            "  (l3): Linear(in_features=520, out_features=110, bias=True)\n",
            "  (act_fnc): Sigmoid()\n",
            "  (sfx): Softmax(dim=1)\n",
            ")\n",
            "Game ...  0\n",
            "Game ...  100\n",
            "Game ...  200\n",
            "Game ...  300\n",
            "Game ...  400\n",
            "Game ...  500\n",
            "Game ...  600\n",
            "Game ...  700\n",
            "Game ...  800\n",
            "Game ...  900\n",
            "Game ...  1000\n",
            "Game ...  1100\n",
            "Game ...  1200\n",
            "Game ...  1300\n",
            "Game ...  1400\n",
            "Game ...  1500\n",
            "Game ...  1600\n",
            "Game ...  1700\n",
            "Game ...  1800\n",
            "Game ...  1900\n",
            "Games Won: P0:509, P1:1491.\n",
            "\n"
          ],
          "name": "stdout"
        }
      ]
    },
    {
      "cell_type": "markdown",
      "metadata": {
        "id": "U70Ryjd2aMuG"
      },
      "source": [
        "## Test"
      ]
    },
    {
      "cell_type": "code",
      "metadata": {
        "id": "NluSS8S3kMeL"
      },
      "source": [
        "# def testAgents(agent_0,agent_1,numGames,verbose):\n",
        "#     # Multiple non-verbose games\n",
        "#     GinRummyGame.setPlayVerbose(verbose)\n",
        "#     numP1Wins = 0\n",
        "#     # print(agent0.model)\n",
        "#     game = GinRummyGame(agent_0, agent_1)\n",
        "#     for i in range(numGames):\n",
        "#         if i % 100 == 0:\n",
        "#             print(\"Game ... \", i)\n",
        "#         numP1Wins += game.play()\n",
        "#     print(\"Games Won: P0:%d, P1:%d.\\n\" % (numGames - numP1Wins, numP1Wins))"
      ],
      "execution_count": 109,
      "outputs": []
    },
    {
      "cell_type": "code",
      "metadata": {
        "id": "2uj-HB_kaMuT"
      },
      "source": [
        "numGames = 2000\r\n",
        "agent0 = MLPGinRummyPlayer()\r\n",
        "model_name = 'all_states_all_actions'\r\n",
        "device = torch.device('cuda' if torch.cuda.is_available() else 'cpu')\r\n",
        "model = torch.load('{}/models/{}/{}/{}/model.pt'.format(pth,state,action,model_name), map_location=device)\r\n",
        "agent0.loadModel(model)\r\n",
        "print(model_name)\r\n",
        "agent1 = SimpleGinRummyPlayer()\r\n",
        "states, actions = [], []\r\n",
        "testAgents(agent0,agent1,numGames,verbose=False)"
      ],
      "execution_count": null,
      "outputs": []
    },
    {
      "cell_type": "code",
      "metadata": {
        "id": "q3xNUCrdlvF2"
      },
      "source": [
        "numGames = 2000\r\n",
        "agent0 = MLPGinRummyPlayer()\r\n",
        "model_name = 'all_states_all_actions_2hl_extra_knock_data_40K'\r\n",
        "device = torch.device('cuda' if torch.cuda.is_available() else 'cpu')\r\n",
        "model = torch.load('{}/models/{}/{}/{}/model.pt'.format(pth,state,action,model_name), map_location=device)\r\n",
        "agent0.loadModel(model)\r\n",
        "print(model_name)\r\n",
        "agent1 = SimpleGinRummyPlayer()\r\n",
        "states, actions = [], []\r\n",
        "testAgents(agent0,agent1,numGames,verbose=False)"
      ],
      "execution_count": null,
      "outputs": []
    },
    {
      "cell_type": "code",
      "metadata": {
        "id": "vKQFUWa_pZrw"
      },
      "source": [
        "a = GinRummyGame(agent0, agent1)\r\n"
      ],
      "execution_count": 95,
      "outputs": []
    },
    {
      "cell_type": "code",
      "metadata": {
        "colab": {
          "base_uri": "https://localhost:8080/"
        },
        "id": "803xEEVGpcsv",
        "outputId": "913bcb71-0ac1-4f32-c0b0-ffa7552be077"
      },
      "source": [
        "a.players"
      ],
      "execution_count": 96,
      "outputs": [
        {
          "output_type": "execute_result",
          "data": {
            "text/plain": [
              "[<__main__.MLPGinRummyPlayer at 0x7f43ca041dd8>,\n",
              " <SimpleGinRummyPlayer.SimpleGinRummyPlayer at 0x7f43ca041e48>]"
            ]
          },
          "metadata": {
            "tags": []
          },
          "execution_count": 96
        }
      ]
    },
    {
      "cell_type": "markdown",
      "metadata": {
        "id": "_TzQ2YoZly8b"
      },
      "source": [
        "# Loading Agent Model Testing"
      ]
    },
    {
      "cell_type": "code",
      "metadata": {
        "colab": {
          "base_uri": "https://localhost:8080/"
        },
        "id": "f2wcepCrXrTt",
        "outputId": "fe734124-ad9b-47ae-fa7f-80c03bd9e707"
      },
      "source": [
        "state = 'all'\r\n",
        "action = 'all'\r\n",
        "model_name = 'all_states_all_actions'\r\n",
        "device = torch.device('cuda' if torch.cuda.is_available() else 'cpu')\r\n",
        "torch.load('{}/models/{}/{}/{}/model.pt'.format(pth,state,action,model_name), map_location=device)"
      ],
      "execution_count": null,
      "outputs": [
        {
          "output_type": "execute_result",
          "data": {
            "text/plain": [
              "MLP_base(\n",
              "  (l1): Linear(in_features=260, out_features=520, bias=True)\n",
              "  (l2): Linear(in_features=520, out_features=110, bias=True)\n",
              "  (act_fnc): Sigmoid()\n",
              "  (sfx): Softmax(dim=1)\n",
              ")"
            ]
          },
          "metadata": {
            "tags": []
          },
          "execution_count": 7
        }
      ]
    },
    {
      "cell_type": "code",
      "metadata": {
        "id": "cgMMeYPxgxz_"
      },
      "source": [
        "state_s = 'apbd'\r\n",
        "action_a = 'knock'\r\n",
        "data_pth = '{}/data/{}/{}'.format(pth,state_s,action_a)\r\n",
        "states = np.load('{}/s_2k.npy'.format(data_pth))\r\n",
        "actions = np.load('{}/a_2k.npy'.format(data_pth))"
      ],
      "execution_count": null,
      "outputs": []
    },
    {
      "cell_type": "markdown",
      "metadata": {
        "id": "UQXiRL0ZmWKs"
      },
      "source": [
        "## Agent"
      ]
    },
    {
      "cell_type": "code",
      "metadata": {
        "id": "_eb_TcqLgm49"
      },
      "source": [
        "agent = MLPGinRummyPlayer()"
      ],
      "execution_count": null,
      "outputs": []
    },
    {
      "cell_type": "code",
      "metadata": {
        "colab": {
          "base_uri": "https://localhost:8080/"
        },
        "id": "yGDoHYG9gri9",
        "outputId": "87e78c01-ac9d-4d93-f651-dfa9aac09d84"
      },
      "source": [
        "state_s = 'all'\r\n",
        "action_a = 'all'\r\n",
        "agent.loadModel(torch.load('{}/models/{}/{}/{}/model.pt'.format(pth,state_s,action_a,model_name), map_location=device))"
      ],
      "execution_count": null,
      "outputs": [
        {
          "output_type": "stream",
          "text": [
            "Load Model\n"
          ],
          "name": "stdout"
        }
      ]
    },
    {
      "cell_type": "code",
      "metadata": {
        "id": "CfeRVbDygt_m"
      },
      "source": [
        "# input = np.expand_dims(states[0],axis=0)\r\n",
        "# prob = agent.model(torch.from_numpy(input).type(torch.FloatTensor))\r\n",
        "# action = prob.detach().numpy().reshape(-1)\r\n",
        "# action[6:58]*np.zeros(52)\r\n",
        "# # agent.model(np.expand_dims(,axis=0))"
      ],
      "execution_count": null,
      "outputs": []
    },
    {
      "cell_type": "code",
      "metadata": {
        "id": "oQ-N7W2O1BQg"
      },
      "source": [
        "deck = Deck.getShuffle(random.randrange(10 ** 8))\r\n",
        "hands = []\r\n",
        "hands.extend([[], []])\r\n",
        "hands[0] = []\r\n",
        "hands[1] = []\r\n",
        "for i in range(2 * GinRummyGame.HAND_SIZE):\r\n",
        "    hands[i % 2] += [deck.pop()]\r\n",
        "agent.startGame(0, 0, hands[0]);"
      ],
      "execution_count": null,
      "outputs": []
    },
    {
      "cell_type": "code",
      "metadata": {
        "colab": {
          "base_uri": "https://localhost:8080/"
        },
        "id": "IpdrZO2RlqjT",
        "outputId": "a089ab29-b86f-4390-da40-a06f00f18e9b"
      },
      "source": [
        "agent.updateStates(states[-1])"
      ],
      "execution_count": null,
      "outputs": [
        {
          "output_type": "stream",
          "text": [
            "Update States\n"
          ],
          "name": "stdout"
        }
      ]
    },
    {
      "cell_type": "code",
      "metadata": {
        "colab": {
          "base_uri": "https://localhost:8080/"
        },
        "id": "D6AC2ZNehjDa",
        "outputId": "2331f861-22b0-4d95-f576-2264e4bcf037"
      },
      "source": [
        "c = Deck.strCardMap['AC']\r\n",
        "agent.willDrawFaceUpCard(c)"
      ],
      "execution_count": null,
      "outputs": [
        {
          "output_type": "stream",
          "text": [
            "Pickup from discard: 5.1510585e-10\n",
            "Draw new card: 8.215045e-09\n",
            "Draw Action\n"
          ],
          "name": "stdout"
        },
        {
          "output_type": "execute_result",
          "data": {
            "text/plain": [
              "True"
            ]
          },
          "metadata": {
            "tags": []
          },
          "execution_count": 33
        }
      ]
    },
    {
      "cell_type": "code",
      "metadata": {
        "colab": {
          "base_uri": "https://localhost:8080/"
        },
        "id": "k2969RH51HyG",
        "outputId": "af5fa872-2ae9-4c7a-e069-f25c1f97e55e"
      },
      "source": [
        "agent.playerNum"
      ],
      "execution_count": null,
      "outputs": [
        {
          "output_type": "execute_result",
          "data": {
            "text/plain": [
              "0"
            ]
          },
          "metadata": {
            "tags": []
          },
          "execution_count": 17
        }
      ]
    },
    {
      "cell_type": "code",
      "metadata": {
        "colab": {
          "base_uri": "https://localhost:8080/",
          "height": 103
        },
        "id": "ysY_xRb_lx0u",
        "outputId": "ba53b30d-9993-45fa-9a16-44c22cb4783e"
      },
      "source": [
        "i = 11\r\n",
        "agent.updateStates(states[i])\r\n",
        "agent.reportDraw(0, c)\r\n",
        "agent.getDiscard()\r\n",
        "all_classes[np.argmax(actions[i])]"
      ],
      "execution_count": null,
      "outputs": [
        {
          "output_type": "stream",
          "text": [
            "Update States\n",
            "6D 89\n",
            "MAX:0.19825728237628937, 0.7989177107810974\n",
            "Knock Action\n"
          ],
          "name": "stdout"
        },
        {
          "output_type": "execute_result",
          "data": {
            "application/vnd.google.colaboratory.intrinsic+json": {
              "type": "string"
            },
            "text/plain": [
              "'6D'"
            ]
          },
          "metadata": {
            "tags": []
          },
          "execution_count": 20
        }
      ]
    },
    {
      "cell_type": "code",
      "metadata": {
        "colab": {
          "base_uri": "https://localhost:8080/"
        },
        "id": "6v532Z5EJF1E",
        "outputId": "a4cee751-1e0f-4707-a489-7fda490cbb0e"
      },
      "source": [
        "agent.model(torch.from_numpy(np.expand_dims(agent.state, axis=0)).type(torch.FloatTensor).to(device))\r\n",
        "# state = np.expand_dims(self.state, axis=0)\r\n",
        "# action = self.model(torch.from_numpy(state).type(torch.FloatTensor))"
      ],
      "execution_count": null,
      "outputs": [
        {
          "output_type": "execute_result",
          "data": {
            "text/plain": [
              "tensor([[1.5613e-08, 1.5413e-08, 5.1511e-10, 8.2150e-09, 2.9999e-08, 1.2821e-09,\n",
              "         5.5631e-09, 2.5155e-08, 2.7546e-06, 4.5472e-07, 1.0434e-03, 8.9934e-17,\n",
              "         3.4545e-15, 7.6638e-20, 1.2097e-23, 9.0395e-21, 3.3336e-16, 1.2249e-17,\n",
              "         1.4306e-13, 1.5554e-08, 5.1269e-08, 1.0969e-08, 7.8594e-07, 7.9670e-12,\n",
              "         4.4021e-18, 5.8035e-19, 3.2541e-18, 1.2281e-18, 1.5415e-15, 2.9808e-19,\n",
              "         8.6931e-15, 8.5212e-14, 1.4021e-08, 1.0776e-08, 1.0269e-08, 2.9233e-09,\n",
              "         6.7081e-11, 1.9826e-01, 8.6911e-15, 1.6958e-20, 6.8392e-18, 3.8210e-16,\n",
              "         1.5054e-19, 4.5664e-16, 3.2462e-10, 1.5062e-07, 2.1884e-08, 1.1281e-08,\n",
              "         1.1448e-04, 5.9201e-12, 1.1257e-13, 1.4764e-16, 3.0289e-24, 8.3574e-19,\n",
              "         7.6238e-17, 3.5383e-14, 8.8625e-20, 1.4193e-20, 2.3093e-07, 1.5752e-07,\n",
              "         4.3524e-05, 1.8425e-06, 1.4934e-03, 3.1863e-11, 4.4363e-08, 1.9563e-07,\n",
              "         4.9013e-06, 1.5853e-08, 1.0693e-06, 1.3684e-08, 8.0732e-07, 1.6183e-08,\n",
              "         2.2061e-05, 9.4124e-08, 4.5300e-10, 2.2975e-09, 1.6456e-13, 1.1721e-06,\n",
              "         1.2828e-06, 2.7124e-07, 2.2376e-08, 1.5255e-08, 4.0729e-08, 1.1123e-08,\n",
              "         7.2174e-08, 2.9650e-06, 1.6772e-06, 7.7064e-05, 4.1690e-17, 7.9892e-01,\n",
              "         1.0043e-14, 1.5928e-07, 1.2464e-06, 1.6597e-08, 3.0182e-08, 1.3622e-06,\n",
              "         8.1668e-07, 2.5266e-06, 1.7661e-07, 3.7193e-08, 2.2941e-07, 6.6019e-07,\n",
              "         2.0783e-13, 2.1818e-06, 1.7139e-08, 1.1502e-08, 1.9091e-08, 1.4139e-07,\n",
              "         5.2852e-08, 1.9630e-08]], grad_fn=<SoftmaxBackward>)"
            ]
          },
          "metadata": {
            "tags": []
          },
          "execution_count": 25
        }
      ]
    }
  ]
}