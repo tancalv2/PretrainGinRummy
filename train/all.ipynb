{
  "nbformat": 4,
  "nbformat_minor": 0,
  "metadata": {
    "accelerator": "GPU",
    "colab": {
      "name": "all.ipynb",
      "provenance": [],
      "collapsed_sections": [],
      "toc_visible": true
    },
    "kernelspec": {
      "display_name": "Python 3",
      "name": "python3"
    }
  },
  "cells": [
    {
      "cell_type": "code",
      "metadata": {
        "colab": {
          "base_uri": "https://localhost:8080/"
        },
        "id": "RubzqOlEW1H2",
        "outputId": "77005e70-3393-4b6e-e433-33a0bcf9d7bf"
      },
      "source": [
        "# Run this cell to mount your Google Drive.\n",
        "\n",
        "from google.colab import drive\n",
        "drive.mount(\"/content/drive\")"
      ],
      "execution_count": 2,
      "outputs": [
        {
          "output_type": "stream",
          "text": [
            "Drive already mounted at /content/drive; to attempt to forcibly remount, call drive.mount(\"/content/drive\", force_remount=True).\n"
          ],
          "name": "stdout"
        }
      ]
    },
    {
      "cell_type": "markdown",
      "metadata": {
        "id": "IKyWpxtRtB_O"
      },
      "source": [
        "# Shared Functions"
      ]
    },
    {
      "cell_type": "code",
      "metadata": {
        "id": "WGgzStQ_FBXP"
      },
      "source": [
        "pth = '/content/drive/MyDrive/Colab Notebooks/Thesis'\r\n",
        "\r\n",
        "# Available states-action pairs:\r\n",
        "state_action_pair = {'all': 'all', # all actions\r\n",
        "                    'bpbd': 'draw', # actions 2/3 \r\n",
        "                    'apbd': ['discard', 'knock'], # actions 6-57, 58-109\r\n",
        "                    'apad': 'knock_bin'} # binary action\r\n",
        "\r\n",
        "# All Possible Classes\r\n",
        "all_classes = ['SP0','SP1','Draw','Pickup','DH','GIN',\r\n",
        "               'AS', '2S', '3S', '4S', '5S', '6S', '7S', '8S', '9S', 'TS', 'JS', 'QS', 'KS',\r\n",
        "               'AH', '2H', '3H', '4H', '5H', '6H', '7H', '8H', '9H', 'TH', 'JH', 'QH', 'KH',\r\n",
        "               'AD', '2D', '3D', '4D', '5D', '6D', '7D', '8D', '9D', 'TD', 'JD', 'QD', 'KD',\r\n",
        "               'AC', '2C', '3C', '4C', '5C', '6C', '7C', '8C', '9C', 'TC', 'JC', 'QC', 'KC',\r\n",
        "               'AS', '2S', '3S', '4S', '5S', '6S', '7S', '8S', '9S', 'TS', 'JS', 'QS', 'KS',\r\n",
        "               'AH', '2H', '3H', '4H', '5H', '6H', '7H', '8H', '9H', 'TH', 'JH', 'QH', 'KH',\r\n",
        "               'AD', '2D', '3D', '4D', '5D', '6D', '7D', '8D', '9D', 'TD', 'JD', 'QD', 'KD',\r\n",
        "               'AC', '2C', '3C', '4C', '5C', '6C', '7C', '8C', '9C', 'TC', 'JC', 'QC', 'KC']"
      ],
      "execution_count": 1,
      "outputs": []
    },
    {
      "cell_type": "markdown",
      "metadata": {
        "id": "ByjhuCunasYr"
      },
      "source": [
        "## Imports"
      ]
    },
    {
      "cell_type": "code",
      "metadata": {
        "id": "dAkKSNrD6wh5"
      },
      "source": [
        "import copy\n",
        "import numpy as np\n",
        "import pandas as pd\n",
        "import os\n",
        "import time\n",
        "import torch\n",
        "import torch.nn as nn\n",
        "import matplotlib.pyplot as plt\n",
        "import torch.utils.data as data\n",
        "from torch.utils.data import DataLoader\n",
        "from sklearn.model_selection import train_test_split\n",
        "from sklearn.metrics import confusion_matrix\n",
        "import itertools"
      ],
      "execution_count": 2,
      "outputs": []
    },
    {
      "cell_type": "markdown",
      "metadata": {
        "id": "eRlCpLNOxJEU"
      },
      "source": [
        "## cardDataset Class"
      ]
    },
    {
      "cell_type": "code",
      "metadata": {
        "id": "1Xpwc02F7aNc"
      },
      "source": [
        "class cardDataset(data.Dataset):\n",
        "\n",
        "    def __init__(self, features, labels):\n",
        "\n",
        "        self.features = features\n",
        "        self.labels = labels\n",
        "\n",
        "    def __len__(self):\n",
        "        return len(self.features)\n",
        "\n",
        "    def __getitem__(self, index):\n",
        "        return self.features[index], self.labels[index]"
      ],
      "execution_count": 3,
      "outputs": []
    },
    {
      "cell_type": "markdown",
      "metadata": {
        "id": "J2yHfT_gYPVk"
      },
      "source": [
        "## Balance"
      ]
    },
    {
      "cell_type": "code",
      "metadata": {
        "id": "UCx4xwJ4YQu1"
      },
      "source": [
        "def balanceClasses(states, actions):\n",
        "    class_count = np.sum(actions, axis=0)\n",
        "    zero_count_ind = np.where(class_count == 0)[0]\n",
        "    class_count[zero_count_ind] = 1e10\n",
        "    min_count = np.min(class_count)\n",
        "    min_count_ind = np.argmin(class_count)\n",
        "    # Get indices of current class \n",
        "    action_ind = np.where(actions[:,min_count_ind] == 1)[0]\n",
        "    actions_bal = actions[action_ind]\n",
        "    states_bal = states[action_ind]\n",
        "    for curr_ind in range(actions.shape[1]): \n",
        "        if curr_ind not in zero_count_ind and curr_ind != min_count_ind:\n",
        "            action_ind = np.where(actions[:,curr_ind] == 1)[0]\n",
        "            actions_temp = actions[action_ind]\n",
        "            states_temp = states[action_ind]\n",
        "\n",
        "            random_indices = np.random.choice(actions_temp.shape[0], size=min_count, replace=False)\n",
        "            actions_temp = actions_temp[random_indices]\n",
        "            states_temp = states_temp[random_indices]\n",
        "\n",
        "            actions_bal = np.concatenate((actions_bal, actions_temp))\n",
        "            states_bal = np.concatenate((states_bal, states_temp))\n",
        "    return states_bal, actions_bal"
      ],
      "execution_count": 4,
      "outputs": []
    },
    {
      "cell_type": "markdown",
      "metadata": {
        "id": "yYW7krlXGs4Z"
      },
      "source": [
        "## Prune States/Actions\r\n"
      ]
    },
    {
      "cell_type": "code",
      "metadata": {
        "id": "Jyu88GZ1Gs4d"
      },
      "source": [
        "# prunable states\n",
        "prune_states = {'currHand': 0, 'topCard': 1,\n",
        "                'deadCard': 2, 'oppCard': 3,\n",
        "                'unknownCard': 4}\n",
        "\n",
        "def pruneStates(states, stateList=[]):\n",
        "    ''' States '''\n",
        "    # (0) ignore current hand\n",
        "    # states[:,(260-52*5):(260-52*4)] = 0\n",
        "    # (1) ignore top card feature\n",
        "    # states[:,(260-52*4):(260-52*3)] = 0\n",
        "    # (2) ignore dead cards feature\n",
        "    # states[:,(260-52*3):(260-52*2)] = 0\n",
        "    # (3) ignore opponent known cards feature\n",
        "    # states[:,(260-52*2):(260-52*1)] = 0\n",
        "    # (4) ignore unknown cards feature\n",
        "    # states[:,(260-52):(260-52*0)] = 0\n",
        "    for s in stateList:\n",
        "        try: \n",
        "            print('pruning state: {}'.format(s))\n",
        "            states[:,(260-52*(5-prune_states[s])):(260-52*(4-prune_states[s]-1))] = 0\n",
        "        except:\n",
        "            print('{} is not a state'.format(s))\n",
        "            pass\n",
        "    return states\n",
        "\n",
        "# chooseable actions\n",
        "prune_actions = {'all': 0,'draw': 1,'discard': 2,'knock': 3,'knock_bin': 4}\n",
        "\n",
        "def chooseActions(actions, classes, actionChoice):\n",
        "    ''' Actions '''\n",
        "    # (0) all:          actions\n",
        "    #       (x) score_player: actions[:,0:2]\n",
        "    # (1) draw:         actions[:,2:4]\n",
        "    #       (x) deadHand:     actions[:,4]\n",
        "    #       (x) gin:          actions[:,5]\n",
        "    # (2) discard:      actions[:,6:58]\n",
        "    # (3) knock:        actions[:,58:]\n",
        "    # (4) knock_bin:    actions\n",
        "\n",
        "    if actionChoice == 'all':\n",
        "        return actions, classes\n",
        "    elif actionChoice == 'draw':\n",
        "        return actions[:,2:4], classes[2:4]\n",
        "    elif actionChoice == 'discard':\n",
        "        return actions[:,6:58], classes[6:58]\n",
        "    elif actionChoice == 'knock':\n",
        "        return actions[:,58:], classes[58:]\n",
        "    elif actionChoice == 'knock_bin':\n",
        "        return actions, [\"No Knock\", \"Knock\"]\n",
        "\n",
        "    else:\n",
        "        print('action selected not allowed')\n",
        "        return actions, classes"
      ],
      "execution_count": 5,
      "outputs": []
    },
    {
      "cell_type": "markdown",
      "metadata": {
        "id": "IPvwCAr8i7rB"
      },
      "source": [
        "## Models"
      ]
    },
    {
      "cell_type": "markdown",
      "metadata": {
        "id": "WBBwvbTtrIa9"
      },
      "source": [
        "### 1 Hidden Layer: input_size*2\r\n",
        "\r\n",
        "i.e. 1 Hidden Layer: input_size*2"
      ]
    },
    {
      "cell_type": "code",
      "metadata": {
        "id": "oyizODzR7W35"
      },
      "source": [
        "class MLP(nn.Module):\n",
        "\n",
        "    def __init__(self, input_size, output_size):\n",
        "        super(MLP, self).__init__()\n",
        "        ''' Layer 1 '''\n",
        "        self.l1 = nn.Linear(input_size, input_size*2)\n",
        "\n",
        "        ''' Layer 2 '''\n",
        "        self.l2 = nn.Linear(input_size*2, output_size)\n",
        "        \n",
        "        ''' Activation Function '''\n",
        "        self.sig = nn.Sigmoid()\n",
        "\n",
        "    def forward(self, features):\n",
        "        try:\n",
        "            x = self.l1(features.cuda())\n",
        "        except:\n",
        "            x = self.l1(features)\n",
        "        # x = self.l1(features)\n",
        "        x = self.sig(x)\n",
        "        x = self.l2(x)\n",
        "        return self.sig(x)"
      ],
      "execution_count": 6,
      "outputs": []
    },
    {
      "cell_type": "markdown",
      "metadata": {
        "id": "kMcxOddo_Ar2"
      },
      "source": [
        "## Load Data and Model"
      ]
    },
    {
      "cell_type": "code",
      "metadata": {
        "id": "c25nuPlRubld"
      },
      "source": [
        "def load_data(data, label, batch_size=1000, shuffle=False):\n",
        "    '''\n",
        "    Load dataset according to batch_size given\n",
        "    '''\n",
        "    data_set = cardDataset(data, label)\n",
        "    data_loader = DataLoader(data_set, batch_size=batch_size, shuffle=shuffle)\n",
        "    return data_loader\n",
        "\n",
        "\n",
        "def load_test_data(numGames):\n",
        "    '''\n",
        "    Load test data\n",
        "    '''\n",
        "    states_test = np.load('{}/s_{}k.npy'.format(data_pth,numGames//1000))\n",
        "    actions_test = np.load('{}/a_{}k.npy'.format(data_pth,numGames//1000))\n",
        "\n",
        "    # prune states\n",
        "    states_test = pruneStates(states_test, pruneStatesList)\n",
        "\n",
        "    # choosable actions\n",
        "    actions_test, classes = chooseActions(actions_test, all_classes, actionChoice)\n",
        "    test_loader = load_data(states_test, actions_test)\n",
        "    return test_loader, classes\n",
        "\n",
        "\n",
        "def load_model(lr=0.001, input_size=None, output_size=None,\n",
        "               model=None, pre_train=False, model_PT=None):\n",
        "    loss_fnc = torch.nn.MSELoss()\n",
        "    if model is None:\n",
        "        try:\n",
        "            model = MLP(input_size, output_size).cuda()\n",
        "        except:\n",
        "            model = MLP(input_size, output_size)\n",
        "        # model = MLP(input_size)\n",
        "        if pre_train:\n",
        "            pre_train_model = torch.load(model_PT)\n",
        "            try:\n",
        "                pre_train_model.l1 = pre_train_model.l1.cuda()\n",
        "                model.l1.weight = pre_train_model.l1.weight.cuda()\n",
        "                model.l1.bias = pre_train_model.l1.bias.cuda()\n",
        "            except:\n",
        "                model.l1.weight = pre_train_model.l1.weight\n",
        "                model.l1.bias = pre_train_model.l1.bias\n",
        "        # print(model.l1.weight.device)\n",
        "        # print(model.l1.bias.device)\n",
        "        optimizer = torch.optim.Adam(model.parameters(), lr=lr)\n",
        "        return model, loss_fnc, optimizer\n",
        "    return model, loss_fnc, _"
      ],
      "execution_count": 7,
      "outputs": []
    },
    {
      "cell_type": "markdown",
      "metadata": {
        "id": "x9xYVimV-d0y"
      },
      "source": [
        "## Evaluate"
      ]
    },
    {
      "cell_type": "code",
      "metadata": {
        "id": "J6MxsF8LWvQ6"
      },
      "source": [
        "def evaluate(model, data_loader, loss_fnc):\n",
        "\n",
        "    total_corr = 0\n",
        "    accum_loss = 0\n",
        "    for i, data in enumerate(data_loader):\n",
        "        inputs, labels = data\n",
        "        inputs = inputs.type(torch.FloatTensor)\n",
        "        labels = labels.type(torch.FloatTensor)\n",
        "        outputs = model(inputs)\n",
        "        try:\n",
        "            batch_loss = loss_fnc(input=outputs, target=labels.cuda())\n",
        "        except:\n",
        "            batch_loss = loss_fnc(input=outputs, target=labels)\n",
        "        # batch_loss = loss_fnc(input=outputs, target=labels)\n",
        "\n",
        "        guess = torch.argmax(outputs, dim=1)\n",
        "        # print(guess)\n",
        "        try:\n",
        "            answer = torch.argmax(labels.cuda(), dim=1)\n",
        "        except:\n",
        "            answer = torch.argmax(labels, dim=1)\n",
        "        # answer = torch.argmax(labels, dim=1)\n",
        "\n",
        "        corr = guess == answer\n",
        "        total_corr += int(corr.sum())\n",
        "        accum_loss += batch_loss\n",
        "\n",
        "    acc = float(total_corr)/len(data_loader.dataset)\n",
        "    loss = accum_loss/(i+1)\n",
        "    return acc, loss.item() "
      ],
      "execution_count": 8,
      "outputs": []
    },
    {
      "cell_type": "markdown",
      "metadata": {
        "id": "uHg3uuvb-bVW"
      },
      "source": [
        "## Train"
      ]
    },
    {
      "cell_type": "code",
      "metadata": {
        "id": "-oiAF2N_DR_4"
      },
      "source": [
        "def train(train_loader, val_loader, batch_size=1000, lr=0.001, epochs=100,\n",
        "          verbose=False, pre_train=False, model_PT=None):\n",
        "\n",
        "    input_size = len(train_loader.dataset.features[0])\n",
        "    output_size = len(val_loader.dataset.labels[0])\n",
        "    # input_size = data_train.shape[1]\n",
        "    model, loss_fnc, optimizer = load_model(lr, input_size, output_size,\n",
        "                                            pre_train=pre_train, model_PT=model_PT)\n",
        "\n",
        "    max_val_acc = 0\n",
        "    min_val_loss = np.inf\n",
        "    train_acc, train_loss = [], []\n",
        "    val_acc, val_loss = [], []\n",
        "    start_time = time.time()\n",
        "\n",
        "    for epoch in range(epochs):\n",
        "        accum_loss = 0\n",
        "        total_corr = 0\n",
        "        for i, data in enumerate(train_loader):\n",
        "            inputs, labels = data\n",
        "            inputs = inputs.type(torch.FloatTensor)\n",
        "            labels = labels.type(torch.FloatTensor)\n",
        "            \n",
        "            optimizer.zero_grad()\n",
        "            outputs = model(inputs)\n",
        "            try:\n",
        "                batch_loss = loss_fnc(input=outputs, target=labels.cuda())\n",
        "            except:\n",
        "                batch_loss = loss_fnc(input=outputs, target=labels)\n",
        "            # batch_loss = loss_fnc(input=outputs, target=labels)\n",
        "            accum_loss += batch_loss\n",
        "            batch_loss.backward()\n",
        "            optimizer.step()\n",
        "\n",
        "            guess = torch.argmax(outputs, dim=1)\n",
        "            # print(guess)\n",
        "            try:\n",
        "                answer = torch.argmax(labels.cuda(), dim=1)\n",
        "            except:\n",
        "                answer = torch.argmax(labels, dim=1)\n",
        "            # answer = torch.argmax(labels, dim=1)\n",
        "            # print(labels)\n",
        "            corr = guess == answer\n",
        "            total_corr += int(corr.sum())\n",
        "\n",
        "        # evaluate per epoch\n",
        "        vacc, vloss = evaluate(model, val_loader, loss_fnc)\n",
        "        val_acc.append(vacc)\n",
        "        val_loss.append(vloss)\n",
        "        train_loss.append(accum_loss.item()/(i+1))\n",
        "        train_acc.append(float(total_corr)/len(train_loader.dataset))\n",
        "        # best acc model\n",
        "        if vacc > max_val_acc:\n",
        "            max_val_acc = vacc\n",
        "            epoch_acc = epoch\n",
        "            model_acc = copy.deepcopy(model) \n",
        "        # best loss model\n",
        "        if vloss < min_val_loss:\n",
        "            min_val_loss = vloss\n",
        "            epoch_loss = epoch\n",
        "            model_loss = copy.deepcopy(model)\n",
        "\n",
        "        if verbose:\n",
        "            # print records\n",
        "            print(\"Epoch: {} | Train Loss: {:.8f} | Train acc: {:.6f}\"\n",
        "                .format(epoch + 1, train_loss[epoch], train_acc[epoch]))\n",
        "            print(\"              Val Loss: {:.8f} |   Val acc: {:.6f}\"\n",
        "                .format(val_loss[epoch], val_acc[epoch]))\n",
        "        accum_loss = 0.0\n",
        "        total_corr = 0\n",
        "\n",
        "\n",
        "    print('Finished Training')\n",
        "    end_time = time.time()\n",
        "    elapsed_time = end_time - start_time\n",
        "    print(\"Total training time elapsed: {:.2f} seconds\".format(elapsed_time))\n",
        "    plotTrain(train_acc, val_acc, epoch_acc, 'Accuracy',batch_size, lr)\n",
        "    plotTrain(train_loss, val_loss, epoch_loss, 'Loss',batch_size, lr)\n",
        "\n",
        "    return model, model_acc, model_loss"
      ],
      "execution_count": 9,
      "outputs": []
    },
    {
      "cell_type": "markdown",
      "metadata": {
        "id": "a4RMbLGjstPP"
      },
      "source": [
        "## Plot Functions"
      ]
    },
    {
      "cell_type": "code",
      "metadata": {
        "id": "YuRUncDFssjI"
      },
      "source": [
        "def plotTrain(train, val, epoch, label, bs, lr):\n",
        "    plt.figure()\n",
        "    plt.title(\"{} vs. Epoch\".format(label), fontsize=14)\n",
        "    plt.xlabel(\"Epochs\", fontsize=12)\n",
        "    plt.ylabel(label, fontsize=12)\n",
        "    plt.plot(train, label='Training {}'.format(label))\n",
        "    plt.plot(val, label='Validation {}'.format(label))\n",
        "    plt.axvline(epoch, color='red', label='Best Epoch: {}'.format(epoch+1))\n",
        "    plt.plot(epoch, val[epoch], marker='o', color=\"red\", label=\"{}: {:.4f}\"\n",
        "             .format(label, val[epoch]))\n",
        "    plt.legend()\n",
        "    plt.savefig('{}/{}_bs_{}_lr_{}.png'.format(plot_pth,label,bs,lr),\n",
        "                bbox_inches='tight')\n",
        "    plt.show()\n",
        "    plt.close()\n",
        "\n",
        "\n",
        "def evaluate_confusion_matrix(model, data_loader):\n",
        "    \"\"\"\n",
        "    Run the model on the test set and generate the confusion matrix.\n",
        "\n",
        "    Args:\n",
        "        model: PyTorch neural network object\n",
        "        data_loader: PyTorch data loader for the dataset\n",
        "    Returns:\n",
        "        cm: A NumPy array denoting the confusion matrix\n",
        "    \"\"\"\n",
        "    val_labels = np.array([], dtype=np.int64)\n",
        "    val_preds = np.array([], dtype=np.int64)\n",
        "\n",
        "    for i, data in enumerate(data_loader, 0):\n",
        "        vinputs, vlabels = data\n",
        "        vinputs = vinputs.type(torch.FloatTensor)\n",
        "        vlabels = vlabels.type(torch.FloatTensor)\n",
        "        voutputs = model(vinputs)\n",
        "        vguess = torch.argmax(voutputs.cpu(), dim=1)\n",
        "        vlabels = torch.argmax(vlabels.cpu(), dim=1)\n",
        "        val_labels = np.concatenate((val_labels, vlabels))\n",
        "        val_preds = np.concatenate((val_preds, vguess))\n",
        "    \n",
        "    # cm = confusion_matrix(val_labels, val_preds)\n",
        "    cm_temp = np.zeros([voutputs.shape[1],voutputs.shape[1]], dtype=np.int64)\n",
        "    for i in range(len(val_labels)):\n",
        "        cm_temp[val_labels[i]][val_preds[i]] += 1\n",
        "    cm = cm_temp\n",
        "    print('Accuracy: {:.2f}'.format(100*(val_labels == val_preds).sum() /len(val_labels)))\n",
        "    return cm\n",
        "\n",
        "\n",
        "# Function based off\n",
        "# http://scikit-learn.org/stable/auto_examples/model_selection/plot_confusion_matrix.html#sphx-glr-auto-examples-model-selection-plot-confusion-matrix-py\n",
        "def plot_confusion_matrix(cm, classes, mode,\n",
        "                          normalize=True,\n",
        "                          title='Confusion matrix',\n",
        "                          cmap=plt.cm.Blues):\n",
        "    \"\"\"\n",
        "    This function prints and plots the confusion matrix.\n",
        "    Normalization can be applied by setting `normalize=True`.\n",
        "\n",
        "    Args:\n",
        "        cm: A NumPy array denoting the confusion matrix\n",
        "        classes: A list of strings denoting the name of the classes\n",
        "        normalize: Boolean whether to normalize the confusion matrix or not\n",
        "        title: String for the title of the plot\n",
        "        cmap: Colour map for the plot\n",
        "    \"\"\"\n",
        "    # normalize\n",
        "    if normalize:\n",
        "        plot_name = 'CM_norm'\n",
        "        cm = cm.astype('float') / (cm.sum(axis=1)[:, np.newaxis] + 1e-5)\n",
        "        print(\"Normalized confusion matrix\")\n",
        "    else:\n",
        "        plot_name = 'CM'\n",
        "        print('Confusion matrix, without normalization')\n",
        "\n",
        "    # limit figure size\n",
        "    if cm.shape[0] < 52:\n",
        "        plt.figure(facecolor='white')\n",
        "    else:\n",
        "        plt.figure(figsize=cm.shape, facecolor='white')\n",
        "    plt.imshow(cm, interpolation='nearest', cmap=cmap)\n",
        "    plt.title(title)\n",
        "    # plt.colorbar()\n",
        "    tick_marks = np.arange(len(classes))\n",
        "    plt.xticks(tick_marks, classes)\n",
        "    plt.yticks(tick_marks, classes)\n",
        "\n",
        "    fmt = '.2f' if normalize else 'd'\n",
        "    thresh = cm.max() / 2.\n",
        "    for i, j in itertools.product(range(cm.shape[0]), range(cm.shape[1])):\n",
        "        plt.text(j, i, format(cm[i, j], fmt),\n",
        "                 horizontalalignment=\"center\",\n",
        "                 color=\"white\" if cm[i, j] > thresh else \"black\")\n",
        "\n",
        "    plt.tight_layout()\n",
        "    plt.ylabel('True label')\n",
        "    plt.xlabel('Predicted label')\n",
        "    if mode == 'full':\n",
        "        plt.savefig('{}/{}_G_{}k.png'.format(plot_pth,plot_name,currGames//1000),\n",
        "                    bbox_inches='tight')\n",
        "    else:\n",
        "        plt.savefig('{}/{}_G_{}k_{}.png'.format(plot_pth,plot_name,currGames//1000,mode),\n",
        "                    bbox_inches='tight')        \n",
        "    if cm.shape[0] < 53:\n",
        "        plt.show()\n",
        "    plt.close()\n",
        "    return\n",
        "\n",
        "\n",
        "def plot_cm(classes, model, data_loader, mode='full'):\n",
        "\n",
        "    cm = evaluate_confusion_matrix(model, data_loader)\n",
        "    plot_confusion_matrix(cm, classes, mode,\n",
        "                        normalize=True,\n",
        "                        title='Confusion matrix',\n",
        "                        cmap=plt.cm.Blues)\n",
        "    plot_confusion_matrix(cm, classes, mode,\n",
        "                        normalize=False,\n",
        "                        title='Confusion matrix',\n",
        "                        cmap=plt.cm.Blues)"
      ],
      "execution_count": 10,
      "outputs": []
    },
    {
      "cell_type": "markdown",
      "metadata": {
        "id": "23CvHjzxamrF"
      },
      "source": [
        "# All\r\n",
        "\r\n",
        "i.e. Before Pickup, Before Discard: Draw (bpbd_draw)"
      ]
    },
    {
      "cell_type": "markdown",
      "metadata": {
        "id": "ph6C4DZHagLe"
      },
      "source": [
        "## all_states_all_actions\r\n",
        "\r\n",
        "Specify the following parameters:\r\n",
        "\r\n",
        "- Data Selection:\r\n",
        " - model_name\r\n",
        " - state-action pair\r\n",
        "```r\r\n",
        "state_action_pair = {'all': 'all', # all actions\r\n",
        "                    'bpbd': 'draw', # actions 2/3 \r\n",
        "                    'apbd': ['discard', 'knock'], # actions 6-57, 58-109\r\n",
        "                    'apad': 'knock_bin'}\r\n",
        "```\r\n",
        " - numGames\r\n",
        " - pruneStatesList\r\n",
        " ```r\r\n",
        " {'currHand','topCard','deadCard','oppCard','unknownCard'}\r\n",
        " ```\r\n",
        " - actionChoice = 'all'\r\n",
        "```r\r\n",
        "{'all','draw','discard','knock'}\r\n",
        "```\r\n",
        "\r\n",
        "- Model Parameters:\r\n",
        "\r\n",
        "| Parameter     | Type      |Default|\r\n",
        "| ------------- |:---------:| -----:|\r\n",
        "| batch_size    | int       | 1000  |\r\n",
        "| learning_rate | float     | 0.001 |\r\n",
        "| epoch         | int       | 100   |\r\n",
        "| pre_train     | bool (T/F)| False |\r\n",
        "| model_PT      | str (path)| null  |"
      ]
    },
    {
      "cell_type": "code",
      "metadata": {
        "id": "sGzwL3i0agLq"
      },
      "source": [
        "# model name\r\n",
        "model_name = 'all_states_all_actions'\r\n",
        "\r\n",
        "# state_action pair, and dataset selection\r\n",
        "state = 'all'\r\n",
        "action = 'all'\r\n",
        "numGames = 8000\r\n",
        "\r\n",
        "# prunable states\r\n",
        "# {'currHand','topCard','deadCard','oppCard','unknownCard'} or blank if None\r\n",
        "pruneStatesList = []\r\n",
        "\r\n",
        "# choosable actions\r\n",
        "# {'all','draw_pickup','discard','knock','knock_bin'}\r\n",
        "actionChoice = 'all'\r\n",
        "\r\n",
        "# Balance classes\r\n",
        "balance = False\r\n",
        "\r\n",
        "# Training parameters\r\n",
        "batch_size = 1000\r\n",
        "lr = 0.001\r\n",
        "epochs = 100\r\n",
        "\r\n",
        "# Pretrain model\r\n",
        "pre_train = False\r\n",
        "model_PT = ''"
      ],
      "execution_count": 11,
      "outputs": []
    },
    {
      "cell_type": "markdown",
      "metadata": {
        "id": "VBkcTlouagLr"
      },
      "source": [
        "### Directories"
      ]
    },
    {
      "cell_type": "code",
      "metadata": {
        "id": "iI4rREKdagLs"
      },
      "source": [
        "# create model and plot directories if do not exist\r\n",
        "\r\n",
        "# model directories\r\n",
        "state_pth = '{}/models/{}'.format(pth,state)\r\n",
        "if not os.path.exists(state_pth):\r\n",
        "    os.mkdir(state_pth)\r\n",
        "action_pth = '{}/{}'.format(state_pth,action)\r\n",
        "if not os.path.exists(action_pth):\r\n",
        "    os.mkdir(action_pth)\r\n",
        "model_pth = '{}/{}'.format(action_pth,model_name)\r\n",
        "if not os.path.exists(model_pth):\r\n",
        "    os.mkdir(model_pth)\r\n",
        "\r\n",
        "# plot directories\r\n",
        "state_pth = '{}/plots/{}'.format(pth,state)\r\n",
        "if not os.path.exists(state_pth):\r\n",
        "    os.mkdir(state_pth)\r\n",
        "action_pth = '{}/{}'.format(state_pth,action)\r\n",
        "if not os.path.exists(action_pth):\r\n",
        "    os.mkdir(action_pth)\r\n",
        "plot_pth = '{}/{}'.format(action_pth,model_name)\r\n",
        "if not os.path.exists(plot_pth):\r\n",
        "    os.mkdir(plot_pth)\r\n",
        "\r\n",
        "# data directory\r\n",
        "data_pth = '{}/data/{}/{}'.format(pth,state,action)"
      ],
      "execution_count": 12,
      "outputs": []
    },
    {
      "cell_type": "markdown",
      "metadata": {
        "id": "bKJntkU1agLt"
      },
      "source": [
        "### Load, Prune, Split Data"
      ]
    },
    {
      "cell_type": "code",
      "metadata": {
        "id": "B3p9rE4PagLu"
      },
      "source": [
        "if action in state_action_pair[state]:\n",
        "    states = np.load('{}/s_{}k.npy'.format(data_pth,numGames//1000))\n",
        "    actions = np.load('{}/a_{}k.npy'.format(data_pth,numGames//1000))\n",
        "\n",
        "    # prune states\n",
        "    states = pruneStates(states, pruneStatesList)\n",
        "\n",
        "    # choosable actions\n",
        "    actions, classes = chooseActions(actions, all_classes, actionChoice)\n",
        "\n",
        "    # balance classes\n",
        "    if balance:\n",
        "        states,actions = balanceClasses(states,actions)\n",
        "\n",
        "    # split train/val\n",
        "    data_train, data_val, label_train, label_val = train_test_split(states, actions, test_size=0.3, random_state=421)\n",
        "else:\n",
        "    print('illegeal state-action pair')"
      ],
      "execution_count": null,
      "outputs": []
    },
    {
      "cell_type": "code",
      "metadata": {
        "id": "8pIMJYp-agLu"
      },
      "source": [
        "train_loader = load_data(data_train, label_train, batch_size, shuffle=True)\r\n",
        "val_loader = load_data(data_val, label_val, batch_size, shuffle=False)"
      ],
      "execution_count": null,
      "outputs": []
    },
    {
      "cell_type": "markdown",
      "metadata": {
        "id": "iwV4lEGwagL1"
      },
      "source": [
        "### Train Model"
      ]
    },
    {
      "cell_type": "code",
      "metadata": {
        "colab": {
          "base_uri": "https://localhost:8080/",
          "height": 1000
        },
        "id": "l3TI9uEPagL3",
        "outputId": "3759563e-cc9f-4035-ea75-05cbd8477ebd"
      },
      "source": [
        "model, model_acc, model_loss = train(train_loader, val_loader, batch_size, lr, epochs, verbose=True, pre_train=pre_train, model_PT=model_PT)\r\n",
        "torch.save(model, '{}/model.pt'.format(model_pth))\r\n",
        "torch.save(model_acc, '{}/model_acc.pt'.format(model_pth))\r\n",
        "torch.save(model_loss, '{}/model_loss.pt'.format(model_pth))"
      ],
      "execution_count": null,
      "outputs": [
        {
          "output_type": "stream",
          "text": [
            "Epoch: 1 | Train Loss: 0.00861330 | Train acc: 0.415339\n",
            "              Val Loss: 0.00693997 |   Val acc: 0.416195\n",
            "Epoch: 2 | Train Loss: 0.00612328 | Train acc: 0.418369\n",
            "              Val Loss: 0.00573224 |   Val acc: 0.416195\n",
            "Epoch: 3 | Train Loss: 0.00562891 | Train acc: 0.437871\n",
            "              Val Loss: 0.00556518 |   Val acc: 0.509658\n",
            "Epoch: 4 | Train Loss: 0.00522910 | Train acc: 0.571243\n",
            "              Val Loss: 0.00476925 |   Val acc: 0.606442\n",
            "Epoch: 5 | Train Loss: 0.00446489 | Train acc: 0.630431\n",
            "              Val Loss: 0.00431618 |   Val acc: 0.644086\n",
            "Epoch: 6 | Train Loss: 0.00414909 | Train acc: 0.660784\n",
            "              Val Loss: 0.00404564 |   Val acc: 0.673516\n",
            "Epoch: 7 | Train Loss: 0.00391609 | Train acc: 0.685580\n",
            "              Val Loss: 0.00383375 |   Val acc: 0.695596\n",
            "Epoch: 8 | Train Loss: 0.00372823 | Train acc: 0.704410\n",
            "              Val Loss: 0.00368163 |   Val acc: 0.706945\n",
            "Epoch: 9 | Train Loss: 0.00357679 | Train acc: 0.714742\n",
            "              Val Loss: 0.00352609 |   Val acc: 0.717272\n",
            "Epoch: 10 | Train Loss: 0.00344844 | Train acc: 0.722976\n",
            "              Val Loss: 0.00340872 |   Val acc: 0.724119\n",
            "Epoch: 11 | Train Loss: 0.00333345 | Train acc: 0.730971\n",
            "              Val Loss: 0.00331250 |   Val acc: 0.734449\n",
            "Epoch: 12 | Train Loss: 0.00322131 | Train acc: 0.740042\n",
            "              Val Loss: 0.00320131 |   Val acc: 0.739057\n",
            "Epoch: 13 | Train Loss: 0.00311406 | Train acc: 0.747007\n",
            "              Val Loss: 0.00309504 |   Val acc: 0.749177\n",
            "Epoch: 14 | Train Loss: 0.00300415 | Train acc: 0.755226\n",
            "              Val Loss: 0.00299316 |   Val acc: 0.756345\n",
            "Epoch: 15 | Train Loss: 0.00289019 | Train acc: 0.764550\n",
            "              Val Loss: 0.00288095 |   Val acc: 0.764017\n",
            "Epoch: 16 | Train Loss: 0.00277687 | Train acc: 0.775006\n",
            "              Val Loss: 0.00278061 |   Val acc: 0.773499\n",
            "Epoch: 17 | Train Loss: 0.00266747 | Train acc: 0.785175\n",
            "              Val Loss: 0.00267567 |   Val acc: 0.782131\n",
            "Epoch: 18 | Train Loss: 0.00256645 | Train acc: 0.794624\n",
            "              Val Loss: 0.00258105 |   Val acc: 0.790085\n",
            "Epoch: 19 | Train Loss: 0.00247760 | Train acc: 0.802347\n",
            "              Val Loss: 0.00250619 |   Val acc: 0.796961\n",
            "Epoch: 20 | Train Loss: 0.00239381 | Train acc: 0.809648\n",
            "              Val Loss: 0.00243849 |   Val acc: 0.800792\n",
            "Epoch: 21 | Train Loss: 0.00232198 | Train acc: 0.816805\n",
            "              Val Loss: 0.00237602 |   Val acc: 0.809363\n",
            "Epoch: 22 | Train Loss: 0.00225266 | Train acc: 0.823200\n",
            "              Val Loss: 0.00231183 |   Val acc: 0.814020\n",
            "Epoch: 23 | Train Loss: 0.00219290 | Train acc: 0.828760\n",
            "              Val Loss: 0.00227188 |   Val acc: 0.817815\n",
            "Epoch: 24 | Train Loss: 0.00213579 | Train acc: 0.834705\n",
            "              Val Loss: 0.00222779 |   Val acc: 0.824088\n",
            "Epoch: 25 | Train Loss: 0.00208454 | Train acc: 0.839809\n",
            "              Val Loss: 0.00217826 |   Val acc: 0.825681\n",
            "Epoch: 26 | Train Loss: 0.00203566 | Train acc: 0.844333\n",
            "              Val Loss: 0.00213936 |   Val acc: 0.829833\n",
            "Epoch: 27 | Train Loss: 0.00199083 | Train acc: 0.848329\n",
            "              Val Loss: 0.00211124 |   Val acc: 0.834838\n",
            "Epoch: 28 | Train Loss: 0.00194789 | Train acc: 0.852527\n",
            "              Val Loss: 0.00206826 |   Val acc: 0.837148\n",
            "Epoch: 29 | Train Loss: 0.00190929 | Train acc: 0.856105\n",
            "              Val Loss: 0.00205340 |   Val acc: 0.840013\n",
            "Epoch: 30 | Train Loss: 0.00187135 | Train acc: 0.859559\n",
            "              Val Loss: 0.00200661 |   Val acc: 0.842811\n",
            "Epoch: 31 | Train Loss: 0.00183422 | Train acc: 0.863597\n",
            "              Val Loss: 0.00200285 |   Val acc: 0.841641\n",
            "Epoch: 32 | Train Loss: 0.00180173 | Train acc: 0.866215\n",
            "              Val Loss: 0.00194876 |   Val acc: 0.847665\n",
            "Epoch: 33 | Train Loss: 0.00177161 | Train acc: 0.869151\n",
            "              Val Loss: 0.00192628 |   Val acc: 0.851310\n",
            "Epoch: 34 | Train Loss: 0.00174102 | Train acc: 0.872239\n",
            "              Val Loss: 0.00191919 |   Val acc: 0.849510\n",
            "Epoch: 35 | Train Loss: 0.00171103 | Train acc: 0.874912\n",
            "              Val Loss: 0.00188171 |   Val acc: 0.855075\n",
            "Epoch: 36 | Train Loss: 0.00168289 | Train acc: 0.877775\n",
            "              Val Loss: 0.00186378 |   Val acc: 0.857052\n",
            "Epoch: 37 | Train Loss: 0.00165650 | Train acc: 0.880172\n",
            "              Val Loss: 0.00184397 |   Val acc: 0.858389\n",
            "Epoch: 38 | Train Loss: 0.00163113 | Train acc: 0.882642\n",
            "              Val Loss: 0.00181940 |   Val acc: 0.860948\n",
            "Epoch: 39 | Train Loss: 0.00160623 | Train acc: 0.885291\n",
            "              Val Loss: 0.00181120 |   Val acc: 0.861941\n",
            "Epoch: 40 | Train Loss: 0.00158117 | Train acc: 0.887742\n",
            "              Val Loss: 0.00178345 |   Val acc: 0.864691\n",
            "Epoch: 41 | Train Loss: 0.00155940 | Train acc: 0.889823\n",
            "              Val Loss: 0.00177436 |   Val acc: 0.864966\n",
            "Epoch: 42 | Train Loss: 0.00153811 | Train acc: 0.891894\n",
            "              Val Loss: 0.00174960 |   Val acc: 0.867385\n",
            "Epoch: 43 | Train Loss: 0.00151650 | Train acc: 0.893811\n",
            "              Val Loss: 0.00173243 |   Val acc: 0.870017\n",
            "Epoch: 44 | Train Loss: 0.00149505 | Train acc: 0.896131\n",
            "              Val Loss: 0.00171982 |   Val acc: 0.870197\n",
            "Epoch: 45 | Train Loss: 0.00147527 | Train acc: 0.897793\n",
            "              Val Loss: 0.00170044 |   Val acc: 0.872360\n",
            "Epoch: 46 | Train Loss: 0.00145600 | Train acc: 0.899734\n",
            "              Val Loss: 0.00169683 |   Val acc: 0.872691\n",
            "Epoch: 47 | Train Loss: 0.00143798 | Train acc: 0.901421\n",
            "              Val Loss: 0.00167570 |   Val acc: 0.875670\n",
            "Epoch: 48 | Train Loss: 0.00141932 | Train acc: 0.902854\n",
            "              Val Loss: 0.00166895 |   Val acc: 0.875487\n",
            "Epoch: 49 | Train Loss: 0.00140226 | Train acc: 0.904472\n",
            "              Val Loss: 0.00165324 |   Val acc: 0.878014\n",
            "Epoch: 50 | Train Loss: 0.00138420 | Train acc: 0.906271\n",
            "              Val Loss: 0.00164321 |   Val acc: 0.877352\n",
            "Epoch: 51 | Train Loss: 0.00136841 | Train acc: 0.907712\n",
            "              Val Loss: 0.00162854 |   Val acc: 0.880042\n",
            "Epoch: 52 | Train Loss: 0.00135214 | Train acc: 0.909221\n",
            "              Val Loss: 0.00161978 |   Val acc: 0.880816\n",
            "Epoch: 53 | Train Loss: 0.00133776 | Train acc: 0.910347\n",
            "              Val Loss: 0.00160772 |   Val acc: 0.882395\n",
            "Epoch: 54 | Train Loss: 0.00132174 | Train acc: 0.911993\n",
            "              Val Loss: 0.00159772 |   Val acc: 0.882061\n",
            "Epoch: 55 | Train Loss: 0.00130715 | Train acc: 0.913023\n",
            "              Val Loss: 0.00158574 |   Val acc: 0.884185\n",
            "Epoch: 56 | Train Loss: 0.00129176 | Train acc: 0.914519\n",
            "              Val Loss: 0.00157244 |   Val acc: 0.885227\n",
            "Epoch: 57 | Train Loss: 0.00127888 | Train acc: 0.915693\n",
            "              Val Loss: 0.00156792 |   Val acc: 0.886341\n",
            "Epoch: 58 | Train Loss: 0.00126411 | Train acc: 0.917123\n",
            "              Val Loss: 0.00155386 |   Val acc: 0.888016\n",
            "Epoch: 59 | Train Loss: 0.00125029 | Train acc: 0.918600\n",
            "              Val Loss: 0.00154810 |   Val acc: 0.888134\n",
            "Epoch: 60 | Train Loss: 0.00123723 | Train acc: 0.919671\n",
            "              Val Loss: 0.00153308 |   Val acc: 0.889176\n",
            "Epoch: 61 | Train Loss: 0.00122403 | Train acc: 0.920765\n",
            "              Val Loss: 0.00152828 |   Val acc: 0.889838\n",
            "Epoch: 62 | Train Loss: 0.00121040 | Train acc: 0.921984\n",
            "              Val Loss: 0.00152368 |   Val acc: 0.890612\n",
            "Epoch: 63 | Train Loss: 0.00119841 | Train acc: 0.923063\n",
            "              Val Loss: 0.00150203 |   Val acc: 0.892060\n",
            "Epoch: 64 | Train Loss: 0.00118655 | Train acc: 0.924151\n",
            "              Val Loss: 0.00150062 |   Val acc: 0.892817\n",
            "Epoch: 65 | Train Loss: 0.00117421 | Train acc: 0.924932\n",
            "              Val Loss: 0.00149913 |   Val acc: 0.893063\n",
            "Epoch: 66 | Train Loss: 0.00116365 | Train acc: 0.925924\n",
            "              Val Loss: 0.00148138 |   Val acc: 0.894653\n",
            "Epoch: 67 | Train Loss: 0.00114981 | Train acc: 0.926873\n",
            "              Val Loss: 0.00147702 |   Val acc: 0.894758\n",
            "Epoch: 68 | Train Loss: 0.00114021 | Train acc: 0.927855\n",
            "              Val Loss: 0.00147309 |   Val acc: 0.896108\n",
            "Epoch: 69 | Train Loss: 0.00112877 | Train acc: 0.929105\n",
            "              Val Loss: 0.00146233 |   Val acc: 0.896829\n",
            "Epoch: 70 | Train Loss: 0.00111674 | Train acc: 0.929900\n",
            "              Val Loss: 0.00144931 |   Val acc: 0.897661\n",
            "Epoch: 71 | Train Loss: 0.00110658 | Train acc: 0.930743\n",
            "              Val Loss: 0.00144256 |   Val acc: 0.898405\n",
            "Epoch: 72 | Train Loss: 0.00109574 | Train acc: 0.931569\n",
            "              Val Loss: 0.00143344 |   Val acc: 0.899248\n",
            "Epoch: 73 | Train Loss: 0.00108585 | Train acc: 0.932552\n",
            "              Val Loss: 0.00142966 |   Val acc: 0.899890\n",
            "Epoch: 74 | Train Loss: 0.00107438 | Train acc: 0.933087\n",
            "              Val Loss: 0.00141975 |   Val acc: 0.900948\n",
            "Epoch: 75 | Train Loss: 0.00106522 | Train acc: 0.934142\n",
            "              Val Loss: 0.00141481 |   Val acc: 0.900994\n",
            "Epoch: 76 | Train Loss: 0.00105484 | Train acc: 0.934813\n",
            "              Val Loss: 0.00141078 |   Val acc: 0.901735\n",
            "Epoch: 77 | Train Loss: 0.00104531 | Train acc: 0.935499\n",
            "              Val Loss: 0.00140947 |   Val acc: 0.902014\n",
            "Epoch: 78 | Train Loss: 0.00103520 | Train acc: 0.936305\n",
            "              Val Loss: 0.00140385 |   Val acc: 0.902597\n",
            "Epoch: 79 | Train Loss: 0.00102638 | Train acc: 0.937044\n",
            "              Val Loss: 0.00139128 |   Val acc: 0.903502\n",
            "Epoch: 80 | Train Loss: 0.00101641 | Train acc: 0.937736\n",
            "              Val Loss: 0.00138014 |   Val acc: 0.904173\n",
            "Epoch: 81 | Train Loss: 0.00100758 | Train acc: 0.938436\n",
            "              Val Loss: 0.00138178 |   Val acc: 0.904383\n",
            "Epoch: 82 | Train Loss: 0.00099838 | Train acc: 0.939191\n",
            "              Val Loss: 0.00137664 |   Val acc: 0.904852\n",
            "Epoch: 83 | Train Loss: 0.00098882 | Train acc: 0.939779\n",
            "              Val Loss: 0.00136157 |   Val acc: 0.905655\n",
            "Epoch: 84 | Train Loss: 0.00098056 | Train acc: 0.940600\n",
            "              Val Loss: 0.00135279 |   Val acc: 0.906841\n",
            "Epoch: 85 | Train Loss: 0.00097196 | Train acc: 0.941078\n",
            "              Val Loss: 0.00134312 |   Val acc: 0.907565\n",
            "Epoch: 86 | Train Loss: 0.00096422 | Train acc: 0.941623\n",
            "              Val Loss: 0.00134078 |   Val acc: 0.907929\n",
            "Epoch: 87 | Train Loss: 0.00095460 | Train acc: 0.942326\n",
            "              Val Loss: 0.00133808 |   Val acc: 0.907982\n",
            "Epoch: 88 | Train Loss: 0.00094695 | Train acc: 0.942878\n",
            "              Val Loss: 0.00133230 |   Val acc: 0.908496\n",
            "Epoch: 89 | Train Loss: 0.00093897 | Train acc: 0.943404\n",
            "              Val Loss: 0.00132413 |   Val acc: 0.909692\n",
            "Epoch: 90 | Train Loss: 0.00093203 | Train acc: 0.943755\n",
            "              Val Loss: 0.00132425 |   Val acc: 0.909296\n",
            "Epoch: 91 | Train Loss: 0.00092296 | Train acc: 0.944387\n",
            "              Val Loss: 0.00131833 |   Val acc: 0.909466\n",
            "Epoch: 92 | Train Loss: 0.00091553 | Train acc: 0.945022\n",
            "              Val Loss: 0.00130782 |   Val acc: 0.910617\n",
            "Epoch: 93 | Train Loss: 0.00090768 | Train acc: 0.945533\n",
            "              Val Loss: 0.00131422 |   Val acc: 0.910332\n",
            "Epoch: 94 | Train Loss: 0.00090147 | Train acc: 0.945860\n",
            "              Val Loss: 0.00130211 |   Val acc: 0.911531\n",
            "Epoch: 95 | Train Loss: 0.00089279 | Train acc: 0.946297\n",
            "              Val Loss: 0.00129737 |   Val acc: 0.911901\n",
            "Epoch: 96 | Train Loss: 0.00088614 | Train acc: 0.946901\n",
            "              Val Loss: 0.00129146 |   Val acc: 0.912416\n",
            "Epoch: 97 | Train Loss: 0.00087849 | Train acc: 0.947247\n",
            "              Val Loss: 0.00128215 |   Val acc: 0.913022\n",
            "Epoch: 98 | Train Loss: 0.00087108 | Train acc: 0.947780\n",
            "              Val Loss: 0.00127808 |   Val acc: 0.913153\n",
            "Epoch: 99 | Train Loss: 0.00086435 | Train acc: 0.948255\n",
            "              Val Loss: 0.00127078 |   Val acc: 0.913858\n",
            "Epoch: 100 | Train Loss: 0.00085812 | Train acc: 0.948434\n",
            "              Val Loss: 0.00127624 |   Val acc: 0.913806\n",
            "Finished Training\n",
            "Total training time elapsed: 1337.92 seconds\n"
          ],
          "name": "stdout"
        },
        {
          "output_type": "display_data",
          "data": {
            "image/png": "[encoded data removed]",
            "text/plain": [
              "<Figure size 432x288 with 1 Axes>"
            ]
          },
          "metadata": {
            "tags": [],
            "needs_background": "light"
          }
        },
        {
          "output_type": "display_data",
          "data": {
            "image/png": "[encoded data removed]",
            "text/plain": [
              "<Figure size 432x288 with 1 Axes>"
            ]
          },
          "metadata": {
            "tags": [],
            "needs_background": "light"
          }
        }
      ]
    },
    {
      "cell_type": "markdown",
      "metadata": {
        "id": "BiqekOY3agL6"
      },
      "source": [
        "#### Confusion Matrix"
      ]
    },
    {
      "cell_type": "code",
      "metadata": {
        "id": "9ckOeOSkagL7"
      },
      "source": [
        "model = torch.load('{}/model.pt'.format(model_pth))\r\n",
        "model_acc = torch.load('{}/model_acc.pt'.format(model_pth))\r\n",
        "model_loss = torch.load('{}/model_loss.pt'.format(model_pth))"
      ],
      "execution_count": 13,
      "outputs": []
    },
    {
      "cell_type": "markdown",
      "metadata": {
        "id": "8i7ZgLH1agL8"
      },
      "source": [
        "##### Train Set"
      ]
    },
    {
      "cell_type": "code",
      "metadata": {
        "id": "zhp03GvNagL8"
      },
      "source": [
        "currGames = 8000\n",
        "model, loss_fnc, _ = load_model(model=model)\n",
        "plot_cm(classes, model, train_loader)"
      ],
      "execution_count": null,
      "outputs": []
    },
    {
      "cell_type": "markdown",
      "metadata": {
        "id": "jUxtHdr2agL9"
      },
      "source": [
        "##### Validation Set"
      ]
    },
    {
      "cell_type": "code",
      "metadata": {
        "id": "2kPTfa76agL9"
      },
      "source": [
        "currGames = 8000\n",
        "model, loss_fnc, _ = load_model(model=model)\n",
        "plot_cm(classes, model, val_loader, mode='val')"
      ],
      "execution_count": null,
      "outputs": []
    },
    {
      "cell_type": "markdown",
      "metadata": {
        "id": "r9pdJOUPagL-"
      },
      "source": [
        "##### Test Set (6k)"
      ]
    },
    {
      "cell_type": "code",
      "metadata": {
        "id": "YApeqzVdagL_"
      },
      "source": [
        "currGames = 6000\n",
        "test_loader_6k, classes = load_test_data(currGames)\n",
        "model, loss_fnc, _ = load_model(model=model)\n",
        "plot_cm(classes, model, test_loader_6k)"
      ],
      "execution_count": null,
      "outputs": []
    },
    {
      "cell_type": "markdown",
      "metadata": {
        "id": "pDH6bu4EagL_"
      },
      "source": [
        "##### Test Set (2k)\r\n",
        "\r\n",
        "Test on all three models generated:"
      ]
    },
    {
      "cell_type": "code",
      "metadata": {
        "id": "LQHq9LK0agMA"
      },
      "source": [
        "currGames = 2000\n",
        "test_loader_2k, classes = load_test_data(currGames)\n",
        "model = torch.load('{}/model.pt'.format(model_pth))\n",
        "model_acc = torch.load('{}/model_acc.pt'.format(model_pth))\n",
        "model_loss = torch.load('{}/model_loss.pt'.format(model_pth))"
      ],
      "execution_count": 14,
      "outputs": []
    },
    {
      "cell_type": "markdown",
      "metadata": {
        "id": "Q6jGgwJd0DE0"
      },
      "source": [
        "###### all epoch"
      ]
    },
    {
      "cell_type": "code",
      "metadata": {
        "id": "-2YIGM1sagMD",
        "colab": {
          "base_uri": "https://localhost:8080/"
        },
        "outputId": "07e3c294-d103-4014-f9c7-23e59087dc59"
      },
      "source": [
        "model, loss_fnc, _ = load_model(model=model)\n",
        "plot_cm(classes, model, test_loader_2k)"
      ],
      "execution_count": 15,
      "outputs": [
        {
          "output_type": "stream",
          "text": [
            "Accuracy: 93.93\n",
            "Normalized confusion matrix\n",
            "Confusion matrix, without normalization\n"
          ],
          "name": "stdout"
        }
      ]
    },
    {
      "cell_type": "markdown",
      "metadata": {
        "id": "GozGjASy0JXL"
      },
      "source": [
        "###### max validation accuracy"
      ]
    },
    {
      "cell_type": "code",
      "metadata": {
        "id": "zb6dh7vdagMI",
        "colab": {
          "base_uri": "https://localhost:8080/"
        },
        "outputId": "9c40a470-af1c-40a0-c1f6-d8705fd8210c"
      },
      "source": [
        "model_acc, loss_fnc, _ = load_model(model=model_acc)\n",
        "plot_cm(classes, model_acc, test_loader_2k, mode='acc')"
      ],
      "execution_count": 16,
      "outputs": [
        {
          "output_type": "stream",
          "text": [
            "Accuracy: 93.90\n",
            "Normalized confusion matrix\n",
            "Confusion matrix, without normalization\n"
          ],
          "name": "stdout"
        }
      ]
    },
    {
      "cell_type": "markdown",
      "metadata": {
        "id": "l8iWcRlP0J3t"
      },
      "source": [
        "###### min validation loss"
      ]
    },
    {
      "cell_type": "code",
      "metadata": {
        "id": "AktCJ64yagMJ",
        "colab": {
          "base_uri": "https://localhost:8080/"
        },
        "outputId": "68d5038d-de82-48bf-e2fe-87235581b870"
      },
      "source": [
        "model_loss, loss_fnc, _ = load_model(model=model_loss)\n",
        "plot_cm(classes, model_loss, test_loader_2k, mode='loss')"
      ],
      "execution_count": 17,
      "outputs": [
        {
          "output_type": "stream",
          "text": [
            "Accuracy: 93.90\n",
            "Normalized confusion matrix\n",
            "Confusion matrix, without normalization\n"
          ],
          "name": "stdout"
        }
      ]
    },
    {
      "cell_type": "markdown",
      "metadata": {
        "id": "3a4B4K7Rja74"
      },
      "source": [
        "## all_states_all_actions_PT\r\n",
        "\r\n",
        "Specify the following parameters:\r\n",
        "\r\n",
        "- Data Selection:\r\n",
        " - model_name\r\n",
        " - state-action pair\r\n",
        "```r\r\n",
        "state_action_pair = {'all': 'all', # all actions\r\n",
        "                    'bpbd': 'draw', # actions 2/3 \r\n",
        "                    'apbd': ['discard', 'knock'], # actions 6-57, 58-109\r\n",
        "                    'apad': 'knock_bin'}\r\n",
        "```\r\n",
        " - numGames\r\n",
        " - pruneStatesList\r\n",
        " ```r\r\n",
        " {'currHand','topCard','deadCard','oppCard','unknownCard'}\r\n",
        " ```\r\n",
        " - actionChoice = 'all'\r\n",
        "```r\r\n",
        "{'all','draw','discard','knock'}\r\n",
        "```\r\n",
        "\r\n",
        "- Model Parameters:\r\n",
        "\r\n",
        "| Parameter     | Type      |Default|\r\n",
        "| ------------- |:---------:| -----:|\r\n",
        "| batch_size    | int       | 1000  |\r\n",
        "| learning_rate | float     | 0.001 |\r\n",
        "| epoch         | int       | 100   |\r\n",
        "| pre_train     | bool (T/F)| False |\r\n",
        "| model_PT      | str (path)| null  |"
      ]
    },
    {
      "cell_type": "code",
      "metadata": {
        "id": "F_B4mRhzja75"
      },
      "source": [
        "# model name\r\n",
        "model_name = 'all_states_all_actions_PT'\r\n",
        "\r\n",
        "# state_action pair, and dataset selection\r\n",
        "state = 'all'\r\n",
        "action = 'all'\r\n",
        "numGames = 8000\r\n",
        "\r\n",
        "# prunable states\r\n",
        "# {'currHand','topCard','deadCard','oppCard','unknownCard'} or blank if None\r\n",
        "pruneStatesList = []\r\n",
        "\r\n",
        "# choosable actions\r\n",
        "# {'all','draw_pickup','discard','knock','knock_bin'}\r\n",
        "actionChoice = 'all'\r\n",
        "\r\n",
        "# Balance classes\r\n",
        "balance = False\r\n",
        "\r\n",
        "# Training parameters\r\n",
        "batch_size = 1000\r\n",
        "lr = 0.001\r\n",
        "epochs = 100\r\n",
        "\r\n",
        "# Pretrain model\r\n",
        "pre_train = True\r\n",
        "model_PT = '/content/drive/MyDrive/Colab Notebooks/Thesis/models/apbd/knock/all_states_all_actions/model.pt'"
      ],
      "execution_count": 18,
      "outputs": []
    },
    {
      "cell_type": "markdown",
      "metadata": {
        "id": "IQVjK-axja76"
      },
      "source": [
        "### Directories"
      ]
    },
    {
      "cell_type": "code",
      "metadata": {
        "id": "QcfeZEIXja76"
      },
      "source": [
        "# create model and plot directories if do not exist\r\n",
        "\r\n",
        "# model directories\r\n",
        "state_pth = '{}/models/{}'.format(pth,state)\r\n",
        "if not os.path.exists(state_pth):\r\n",
        "    os.mkdir(state_pth)\r\n",
        "action_pth = '{}/{}'.format(state_pth,action)\r\n",
        "if not os.path.exists(action_pth):\r\n",
        "    os.mkdir(action_pth)\r\n",
        "model_pth = '{}/{}'.format(action_pth,model_name)\r\n",
        "if not os.path.exists(model_pth):\r\n",
        "    os.mkdir(model_pth)\r\n",
        "\r\n",
        "# plot directories\r\n",
        "state_pth = '{}/plots/{}'.format(pth,state)\r\n",
        "if not os.path.exists(state_pth):\r\n",
        "    os.mkdir(state_pth)\r\n",
        "action_pth = '{}/{}'.format(state_pth,action)\r\n",
        "if not os.path.exists(action_pth):\r\n",
        "    os.mkdir(action_pth)\r\n",
        "plot_pth = '{}/{}'.format(action_pth,model_name)\r\n",
        "if not os.path.exists(plot_pth):\r\n",
        "    os.mkdir(plot_pth)\r\n",
        "\r\n",
        "# data directory\r\n",
        "data_pth = '{}/data/{}/{}'.format(pth,state,action)"
      ],
      "execution_count": 19,
      "outputs": []
    },
    {
      "cell_type": "markdown",
      "metadata": {
        "id": "bag2usE1ja76"
      },
      "source": [
        "### Load, Prune, Split Data"
      ]
    },
    {
      "cell_type": "code",
      "metadata": {
        "id": "pDv3nkrSja76"
      },
      "source": [
        "if action in state_action_pair[state]:\n",
        "    states = np.load('{}/s_{}k.npy'.format(data_pth,numGames//1000))\n",
        "    actions = np.load('{}/a_{}k.npy'.format(data_pth,numGames//1000))\n",
        "\n",
        "    # prune states\n",
        "    states = pruneStates(states, pruneStatesList)\n",
        "\n",
        "    # choosable actions\n",
        "    actions, classes = chooseActions(actions, all_classes, actionChoice)\n",
        "\n",
        "    # balance classes\n",
        "    if balance:\n",
        "        states,actions = balanceClasses(states,actions)\n",
        "\n",
        "    # split train/val\n",
        "    data_train, data_val, label_train, label_val = train_test_split(states, actions, test_size=0.3, random_state=421)\n",
        "else:\n",
        "    print('illegeal state-action pair')"
      ],
      "execution_count": null,
      "outputs": []
    },
    {
      "cell_type": "code",
      "metadata": {
        "id": "oDMAzWc_ja77"
      },
      "source": [
        "train_loader = load_data(data_train, label_train, batch_size, shuffle=True)\r\n",
        "val_loader = load_data(data_val, label_val, batch_size, shuffle=False)"
      ],
      "execution_count": null,
      "outputs": []
    },
    {
      "cell_type": "markdown",
      "metadata": {
        "id": "XAXh3yU9ja77"
      },
      "source": [
        "### Train Model"
      ]
    },
    {
      "cell_type": "code",
      "metadata": {
        "colab": {
          "base_uri": "https://localhost:8080/",
          "height": 1000
        },
        "id": "gc7qEv09ja77",
        "outputId": "0aa1697a-df27-4e4e-f351-9a37beee566c"
      },
      "source": [
        "model, model_acc, model_loss = train(train_loader, val_loader, batch_size, lr, epochs, verbose=True, pre_train=pre_train, model_PT=model_PT)\r\n",
        "torch.save(model, '{}/model.pt'.format(model_pth))\r\n",
        "torch.save(model_acc, '{}/model_acc.pt'.format(model_pth))\r\n",
        "torch.save(model_loss, '{}/model_loss.pt'.format(model_pth))"
      ],
      "execution_count": null,
      "outputs": [
        {
          "output_type": "stream",
          "text": [
            "Epoch: 1 | Train Loss: 0.00852163 | Train acc: 0.416026\n",
            "              Val Loss: 0.00720526 |   Val acc: 0.416195\n",
            "Epoch: 2 | Train Loss: 0.00656159 | Train acc: 0.421070\n",
            "              Val Loss: 0.00577121 |   Val acc: 0.442361\n",
            "Epoch: 3 | Train Loss: 0.00517604 | Train acc: 0.589000\n",
            "              Val Loss: 0.00470937 |   Val acc: 0.670652\n",
            "Epoch: 4 | Train Loss: 0.00436557 | Train acc: 0.688502\n",
            "              Val Loss: 0.00413543 |   Val acc: 0.700908\n",
            "Epoch: 5 | Train Loss: 0.00394480 | Train acc: 0.709830\n",
            "              Val Loss: 0.00382280 |   Val acc: 0.716181\n",
            "Epoch: 6 | Train Loss: 0.00368970 | Train acc: 0.722615\n",
            "              Val Loss: 0.00361749 |   Val acc: 0.726390\n",
            "Epoch: 7 | Train Loss: 0.00349213 | Train acc: 0.733777\n",
            "              Val Loss: 0.00344025 |   Val acc: 0.736009\n",
            "Epoch: 8 | Train Loss: 0.00331374 | Train acc: 0.745719\n",
            "              Val Loss: 0.00328405 |   Val acc: 0.744592\n",
            "Epoch: 9 | Train Loss: 0.00314325 | Train acc: 0.757967\n",
            "              Val Loss: 0.00312285 |   Val acc: 0.757653\n",
            "Epoch: 10 | Train Loss: 0.00297920 | Train acc: 0.771771\n",
            "              Val Loss: 0.00298048 |   Val acc: 0.772709\n",
            "Epoch: 11 | Train Loss: 0.00282794 | Train acc: 0.785376\n",
            "              Val Loss: 0.00283459 |   Val acc: 0.783855\n",
            "Epoch: 12 | Train Loss: 0.00268515 | Train acc: 0.797604\n",
            "              Val Loss: 0.00272790 |   Val acc: 0.788221\n",
            "Epoch: 13 | Train Loss: 0.00255853 | Train acc: 0.808867\n",
            "              Val Loss: 0.00260077 |   Val acc: 0.802857\n",
            "Epoch: 14 | Train Loss: 0.00244314 | Train acc: 0.818669\n",
            "              Val Loss: 0.00250928 |   Val acc: 0.809759\n",
            "Epoch: 15 | Train Loss: 0.00233922 | Train acc: 0.827544\n",
            "              Val Loss: 0.00241773 |   Val acc: 0.818513\n",
            "Epoch: 16 | Train Loss: 0.00224921 | Train acc: 0.835184\n",
            "              Val Loss: 0.00234581 |   Val acc: 0.823954\n",
            "Epoch: 17 | Train Loss: 0.00216877 | Train acc: 0.841789\n",
            "              Val Loss: 0.00227949 |   Val acc: 0.826556\n",
            "Epoch: 18 | Train Loss: 0.00209674 | Train acc: 0.847523\n",
            "              Val Loss: 0.00222040 |   Val acc: 0.833238\n",
            "Epoch: 19 | Train Loss: 0.00203183 | Train acc: 0.853252\n",
            "              Val Loss: 0.00218056 |   Val acc: 0.832239\n",
            "Epoch: 20 | Train Loss: 0.00197174 | Train acc: 0.858642\n",
            "              Val Loss: 0.00212635 |   Val acc: 0.838548\n",
            "Epoch: 21 | Train Loss: 0.00191930 | Train acc: 0.862852\n",
            "              Val Loss: 0.00207300 |   Val acc: 0.843002\n",
            "Epoch: 22 | Train Loss: 0.00186921 | Train acc: 0.867186\n",
            "              Val Loss: 0.00205280 |   Val acc: 0.846820\n",
            "Epoch: 23 | Train Loss: 0.00182514 | Train acc: 0.870718\n",
            "              Val Loss: 0.00199828 |   Val acc: 0.850471\n",
            "Epoch: 24 | Train Loss: 0.00178197 | Train acc: 0.874752\n",
            "              Val Loss: 0.00196397 |   Val acc: 0.853096\n",
            "Epoch: 25 | Train Loss: 0.00174418 | Train acc: 0.877981\n",
            "              Val Loss: 0.00193251 |   Val acc: 0.856334\n",
            "Epoch: 26 | Train Loss: 0.00170820 | Train acc: 0.881120\n",
            "              Val Loss: 0.00190643 |   Val acc: 0.858841\n",
            "Epoch: 27 | Train Loss: 0.00167213 | Train acc: 0.884458\n",
            "              Val Loss: 0.00188452 |   Val acc: 0.860122\n",
            "Epoch: 28 | Train Loss: 0.00164060 | Train acc: 0.887187\n",
            "              Val Loss: 0.00185578 |   Val acc: 0.862243\n",
            "Epoch: 29 | Train Loss: 0.00161123 | Train acc: 0.889806\n",
            "              Val Loss: 0.00183000 |   Val acc: 0.864753\n",
            "Epoch: 30 | Train Loss: 0.00158200 | Train acc: 0.892180\n",
            "              Val Loss: 0.00180681 |   Val acc: 0.867592\n",
            "Epoch: 31 | Train Loss: 0.00155264 | Train acc: 0.894815\n",
            "              Val Loss: 0.00178546 |   Val acc: 0.869312\n",
            "Epoch: 32 | Train Loss: 0.00152734 | Train acc: 0.897336\n",
            "              Val Loss: 0.00177581 |   Val acc: 0.870289\n",
            "Epoch: 33 | Train Loss: 0.00150302 | Train acc: 0.899262\n",
            "              Val Loss: 0.00175238 |   Val acc: 0.871957\n",
            "Epoch: 34 | Train Loss: 0.00147761 | Train acc: 0.901389\n",
            "              Val Loss: 0.00173946 |   Val acc: 0.872698\n",
            "Epoch: 35 | Train Loss: 0.00145518 | Train acc: 0.903549\n",
            "              Val Loss: 0.00171743 |   Val acc: 0.875300\n",
            "Epoch: 36 | Train Loss: 0.00143329 | Train acc: 0.905489\n",
            "              Val Loss: 0.00169687 |   Val acc: 0.877417\n",
            "Epoch: 37 | Train Loss: 0.00141018 | Train acc: 0.907107\n",
            "              Val Loss: 0.00168223 |   Val acc: 0.878217\n",
            "Epoch: 38 | Train Loss: 0.00139151 | Train acc: 0.909004\n",
            "              Val Loss: 0.00167674 |   Val acc: 0.878571\n",
            "Epoch: 39 | Train Loss: 0.00137000 | Train acc: 0.910857\n",
            "              Val Loss: 0.00164902 |   Val acc: 0.881009\n",
            "Epoch: 40 | Train Loss: 0.00135119 | Train acc: 0.912684\n",
            "              Val Loss: 0.00163417 |   Val acc: 0.882910\n",
            "Epoch: 41 | Train Loss: 0.00133320 | Train acc: 0.913951\n",
            "              Val Loss: 0.00162399 |   Val acc: 0.883841\n",
            "Epoch: 42 | Train Loss: 0.00131572 | Train acc: 0.915465\n",
            "              Val Loss: 0.00161839 |   Val acc: 0.884460\n",
            "Epoch: 43 | Train Loss: 0.00129767 | Train acc: 0.916897\n",
            "              Val Loss: 0.00159430 |   Val acc: 0.885437\n",
            "Epoch: 44 | Train Loss: 0.00128170 | Train acc: 0.918558\n",
            "              Val Loss: 0.00157887 |   Val acc: 0.887980\n",
            "Epoch: 45 | Train Loss: 0.00126466 | Train acc: 0.919628\n",
            "              Val Loss: 0.00157126 |   Val acc: 0.888708\n",
            "Epoch: 46 | Train Loss: 0.00124888 | Train acc: 0.921283\n",
            "              Val Loss: 0.00155567 |   Val acc: 0.889887\n",
            "Epoch: 47 | Train Loss: 0.00123333 | Train acc: 0.922536\n",
            "              Val Loss: 0.00154367 |   Val acc: 0.890412\n",
            "Epoch: 48 | Train Loss: 0.00121954 | Train acc: 0.923620\n",
            "              Val Loss: 0.00153916 |   Val acc: 0.890982\n",
            "Epoch: 49 | Train Loss: 0.00120545 | Train acc: 0.924672\n",
            "              Val Loss: 0.00153102 |   Val acc: 0.892473\n",
            "Epoch: 50 | Train Loss: 0.00119001 | Train acc: 0.925993\n",
            "              Val Loss: 0.00152756 |   Val acc: 0.892345\n",
            "Epoch: 51 | Train Loss: 0.00117771 | Train acc: 0.927064\n",
            "              Val Loss: 0.00150974 |   Val acc: 0.893925\n",
            "Epoch: 52 | Train Loss: 0.00116341 | Train acc: 0.928015\n",
            "              Val Loss: 0.00150106 |   Val acc: 0.894141\n",
            "Epoch: 53 | Train Loss: 0.00115124 | Train acc: 0.929251\n",
            "              Val Loss: 0.00148386 |   Val acc: 0.896360\n",
            "Epoch: 54 | Train Loss: 0.00113789 | Train acc: 0.930091\n",
            "              Val Loss: 0.00147481 |   Val acc: 0.897622\n",
            "Epoch: 55 | Train Loss: 0.00112624 | Train acc: 0.931129\n",
            "              Val Loss: 0.00146812 |   Val acc: 0.897596\n",
            "Epoch: 56 | Train Loss: 0.00111459 | Train acc: 0.932164\n",
            "              Val Loss: 0.00145697 |   Val acc: 0.899028\n",
            "Epoch: 57 | Train Loss: 0.00110170 | Train acc: 0.933330\n",
            "              Val Loss: 0.00145043 |   Val acc: 0.899097\n",
            "Epoch: 58 | Train Loss: 0.00109114 | Train acc: 0.934155\n",
            "              Val Loss: 0.00144230 |   Val acc: 0.900562\n",
            "Epoch: 59 | Train Loss: 0.00107975 | Train acc: 0.935034\n",
            "              Val Loss: 0.00143713 |   Val acc: 0.900637\n",
            "Epoch: 60 | Train Loss: 0.00106874 | Train acc: 0.935837\n",
            "              Val Loss: 0.00142682 |   Val acc: 0.902092\n",
            "Epoch: 61 | Train Loss: 0.00105791 | Train acc: 0.936861\n",
            "              Val Loss: 0.00141794 |   Val acc: 0.902695\n",
            "Epoch: 62 | Train Loss: 0.00104679 | Train acc: 0.937741\n",
            "              Val Loss: 0.00140679 |   Val acc: 0.903875\n",
            "Epoch: 63 | Train Loss: 0.00103647 | Train acc: 0.938471\n",
            "              Val Loss: 0.00140082 |   Val acc: 0.904629\n",
            "Epoch: 64 | Train Loss: 0.00102577 | Train acc: 0.939281\n",
            "              Val Loss: 0.00139722 |   Val acc: 0.904731\n",
            "Epoch: 65 | Train Loss: 0.00101681 | Train acc: 0.939895\n",
            "              Val Loss: 0.00138743 |   Val acc: 0.905822\n",
            "Epoch: 66 | Train Loss: 0.00100605 | Train acc: 0.940814\n",
            "              Val Loss: 0.00138278 |   Val acc: 0.906409\n",
            "Epoch: 67 | Train Loss: 0.00099767 | Train acc: 0.941300\n",
            "              Val Loss: 0.00137617 |   Val acc: 0.907169\n",
            "Epoch: 68 | Train Loss: 0.00098696 | Train acc: 0.942131\n",
            "              Val Loss: 0.00137054 |   Val acc: 0.906785\n",
            "Epoch: 69 | Train Loss: 0.00097867 | Train acc: 0.942827\n",
            "              Val Loss: 0.00136596 |   Val acc: 0.907513\n",
            "Epoch: 70 | Train Loss: 0.00096955 | Train acc: 0.943461\n",
            "              Val Loss: 0.00135356 |   Val acc: 0.908978\n",
            "Epoch: 71 | Train Loss: 0.00095964 | Train acc: 0.943973\n",
            "              Val Loss: 0.00134484 |   Val acc: 0.909856\n",
            "Epoch: 72 | Train Loss: 0.00095196 | Train acc: 0.944690\n",
            "              Val Loss: 0.00133572 |   Val acc: 0.910456\n",
            "Epoch: 73 | Train Loss: 0.00094401 | Train acc: 0.945324\n",
            "              Val Loss: 0.00133760 |   Val acc: 0.910210\n",
            "Epoch: 74 | Train Loss: 0.00093365 | Train acc: 0.945949\n",
            "              Val Loss: 0.00132747 |   Val acc: 0.911361\n",
            "Epoch: 75 | Train Loss: 0.00092623 | Train acc: 0.946609\n",
            "              Val Loss: 0.00132334 |   Val acc: 0.911334\n",
            "Epoch: 76 | Train Loss: 0.00091708 | Train acc: 0.947169\n",
            "              Val Loss: 0.00131459 |   Val acc: 0.912350\n",
            "Epoch: 77 | Train Loss: 0.00090997 | Train acc: 0.947547\n",
            "              Val Loss: 0.00131017 |   Val acc: 0.912583\n",
            "Epoch: 78 | Train Loss: 0.00090182 | Train acc: 0.948230\n",
            "              Val Loss: 0.00130316 |   Val acc: 0.913429\n",
            "Epoch: 79 | Train Loss: 0.00089362 | Train acc: 0.948793\n",
            "              Val Loss: 0.00130594 |   Val acc: 0.913301\n",
            "Epoch: 80 | Train Loss: 0.00088629 | Train acc: 0.949230\n",
            "              Val Loss: 0.00129998 |   Val acc: 0.913547\n",
            "Epoch: 81 | Train Loss: 0.00087844 | Train acc: 0.949863\n",
            "              Val Loss: 0.00128926 |   Val acc: 0.914638\n",
            "Epoch: 82 | Train Loss: 0.00087148 | Train acc: 0.950175\n",
            "              Val Loss: 0.00128384 |   Val acc: 0.915084\n",
            "Epoch: 83 | Train Loss: 0.00086433 | Train acc: 0.950650\n",
            "              Val Loss: 0.00127561 |   Val acc: 0.915343\n",
            "Epoch: 84 | Train Loss: 0.00085687 | Train acc: 0.951212\n",
            "              Val Loss: 0.00127039 |   Val acc: 0.916028\n",
            "Epoch: 85 | Train Loss: 0.00084972 | Train acc: 0.951653\n",
            "              Val Loss: 0.00127342 |   Val acc: 0.915792\n",
            "Epoch: 86 | Train Loss: 0.00084224 | Train acc: 0.952164\n",
            "              Val Loss: 0.00125973 |   Val acc: 0.916434\n",
            "Epoch: 87 | Train Loss: 0.00083505 | Train acc: 0.952667\n",
            "              Val Loss: 0.00125798 |   Val acc: 0.917119\n",
            "Epoch: 88 | Train Loss: 0.00082837 | Train acc: 0.952973\n",
            "              Val Loss: 0.00125300 |   Val acc: 0.917352\n",
            "Epoch: 89 | Train Loss: 0.00082240 | Train acc: 0.953320\n",
            "              Val Loss: 0.00125350 |   Val acc: 0.917335\n",
            "Epoch: 90 | Train Loss: 0.00081427 | Train acc: 0.953857\n",
            "              Val Loss: 0.00123737 |   Val acc: 0.918286\n",
            "Epoch: 91 | Train Loss: 0.00080904 | Train acc: 0.954100\n",
            "              Val Loss: 0.00123479 |   Val acc: 0.918613\n",
            "Epoch: 92 | Train Loss: 0.00080283 | Train acc: 0.954628\n",
            "              Val Loss: 0.00123500 |   Val acc: 0.918495\n",
            "Epoch: 93 | Train Loss: 0.00079629 | Train acc: 0.954749\n",
            "              Val Loss: 0.00122983 |   Val acc: 0.919010\n",
            "Epoch: 94 | Train Loss: 0.00078981 | Train acc: 0.955282\n",
            "              Val Loss: 0.00122665 |   Val acc: 0.919610\n",
            "Epoch: 95 | Train Loss: 0.00078371 | Train acc: 0.955649\n",
            "              Val Loss: 0.00121989 |   Val acc: 0.920400\n",
            "Epoch: 96 | Train Loss: 0.00077746 | Train acc: 0.955964\n",
            "              Val Loss: 0.00121796 |   Val acc: 0.920337\n",
            "Epoch: 97 | Train Loss: 0.00077236 | Train acc: 0.956181\n",
            "              Val Loss: 0.00120941 |   Val acc: 0.920609\n",
            "Epoch: 98 | Train Loss: 0.00076556 | Train acc: 0.956620\n",
            "              Val Loss: 0.00120270 |   Val acc: 0.921343\n",
            "Epoch: 99 | Train Loss: 0.00076109 | Train acc: 0.956832\n",
            "              Val Loss: 0.00119144 |   Val acc: 0.922028\n",
            "Epoch: 100 | Train Loss: 0.00075379 | Train acc: 0.957152\n",
            "              Val Loss: 0.00119610 |   Val acc: 0.921845\n",
            "Finished Training\n",
            "Total training time elapsed: 1281.53 seconds\n"
          ],
          "name": "stdout"
        },
        {
          "output_type": "display_data",
          "data": {
            "image/png": "[encoded data removed]",
            "text/plain": [
              "<Figure size 432x288 with 1 Axes>"
            ]
          },
          "metadata": {
            "tags": [],
            "needs_background": "light"
          }
        },
        {
          "output_type": "display_data",
          "data": {
            "image/png": "[encoded data removed]",
            "text/plain": [
              "<Figure size 432x288 with 1 Axes>"
            ]
          },
          "metadata": {
            "tags": [],
            "needs_background": "light"
          }
        }
      ]
    },
    {
      "cell_type": "markdown",
      "metadata": {
        "id": "_gZ0MEO5ja79"
      },
      "source": [
        "#### Confusion Matrix"
      ]
    },
    {
      "cell_type": "code",
      "metadata": {
        "id": "gMfY3xhlja79"
      },
      "source": [
        "model = torch.load('{}/model.pt'.format(model_pth))\r\n",
        "model_acc = torch.load('{}/model_acc.pt'.format(model_pth))\r\n",
        "model_loss = torch.load('{}/model_loss.pt'.format(model_pth))"
      ],
      "execution_count": 20,
      "outputs": []
    },
    {
      "cell_type": "markdown",
      "metadata": {
        "id": "w9hHOFl6ja7-"
      },
      "source": [
        "##### Train Set"
      ]
    },
    {
      "cell_type": "code",
      "metadata": {
        "id": "ewtjMNtFja7-"
      },
      "source": [
        "currGames = 8000\n",
        "model, loss_fnc, _ = load_model(model=model)\n",
        "plot_cm(classes, model, train_loader)"
      ],
      "execution_count": null,
      "outputs": []
    },
    {
      "cell_type": "markdown",
      "metadata": {
        "id": "71ClyP1Cja7-"
      },
      "source": [
        "##### Validation Set"
      ]
    },
    {
      "cell_type": "code",
      "metadata": {
        "id": "fk1MmT0Aja7-"
      },
      "source": [
        "currGames = 8000\n",
        "model, loss_fnc, _ = load_model(model=model)\n",
        "plot_cm(classes, model, val_loader, mode='val')"
      ],
      "execution_count": null,
      "outputs": []
    },
    {
      "cell_type": "markdown",
      "metadata": {
        "id": "DJuZ7dNDja7_"
      },
      "source": [
        "##### Test Set (6k)"
      ]
    },
    {
      "cell_type": "code",
      "metadata": {
        "id": "m_mcnCsbja7_"
      },
      "source": [
        "currGames = 6000\n",
        "test_loader_6k, classes = load_test_data(currGames)\n",
        "model, loss_fnc, _ = load_model(model=model)\n",
        "plot_cm(classes, model, test_loader_6k)"
      ],
      "execution_count": null,
      "outputs": []
    },
    {
      "cell_type": "markdown",
      "metadata": {
        "id": "GoXpWcVQ0qJ9"
      },
      "source": [
        "##### Test Set (2k)\r\n",
        "\r\n",
        "Test on all three models generated:"
      ]
    },
    {
      "cell_type": "code",
      "metadata": {
        "id": "yKu0Uge0ja8A"
      },
      "source": [
        "currGames = 2000\n",
        "test_loader_2k, classes = load_test_data(currGames)\n",
        "model = torch.load('{}/model.pt'.format(model_pth))\n",
        "model_acc = torch.load('{}/model_acc.pt'.format(model_pth))\n",
        "model_loss = torch.load('{}/model_loss.pt'.format(model_pth))"
      ],
      "execution_count": 21,
      "outputs": []
    },
    {
      "cell_type": "markdown",
      "metadata": {
        "id": "UajzKQku0qJ_"
      },
      "source": [
        "###### all epoch"
      ]
    },
    {
      "cell_type": "code",
      "metadata": {
        "colab": {
          "base_uri": "https://localhost:8080/"
        },
        "id": "nSUkPRv3ja8A",
        "outputId": "a7cc4ae3-4e22-441d-8e5b-906cf09a1441"
      },
      "source": [
        "model, loss_fnc, _ = load_model(model=model)\n",
        "plot_cm(classes, model, test_loader_2k)"
      ],
      "execution_count": 22,
      "outputs": [
        {
          "output_type": "stream",
          "text": [
            "Accuracy: 94.72\n",
            "Normalized confusion matrix\n",
            "Confusion matrix, without normalization\n"
          ],
          "name": "stdout"
        }
      ]
    },
    {
      "cell_type": "markdown",
      "metadata": {
        "id": "fTvaCY_S0qKA"
      },
      "source": [
        "###### max validation accuracy"
      ]
    },
    {
      "cell_type": "code",
      "metadata": {
        "colab": {
          "base_uri": "https://localhost:8080/"
        },
        "id": "7EKd83Sqja8A",
        "outputId": "fb2ef8a8-e9b0-4a89-c7ce-8ae0037d7570"
      },
      "source": [
        "model_acc, loss_fnc, _ = load_model(model=model_acc)\n",
        "plot_cm(classes, model_acc, test_loader_2k, mode='acc')"
      ],
      "execution_count": 23,
      "outputs": [
        {
          "output_type": "stream",
          "text": [
            "Accuracy: 94.77\n",
            "Normalized confusion matrix\n",
            "Confusion matrix, without normalization\n"
          ],
          "name": "stdout"
        }
      ]
    },
    {
      "cell_type": "markdown",
      "metadata": {
        "id": "FEfNea3M0qKB"
      },
      "source": [
        "###### min validation loss"
      ]
    },
    {
      "cell_type": "code",
      "metadata": {
        "colab": {
          "base_uri": "https://localhost:8080/"
        },
        "id": "3s-AOFgkja8B",
        "outputId": "ddfcfd7f-af4b-41ef-e830-555f017acd4d"
      },
      "source": [
        "model_loss, loss_fnc, _ = load_model(model=model_loss)\n",
        "plot_cm(classes, model_loss, test_loader_2k, mode='loss')"
      ],
      "execution_count": 24,
      "outputs": [
        {
          "output_type": "stream",
          "text": [
            "Accuracy: 94.77\n",
            "Normalized confusion matrix\n",
            "Confusion matrix, without normalization\n"
          ],
          "name": "stdout"
        }
      ]
    }
  ]
}