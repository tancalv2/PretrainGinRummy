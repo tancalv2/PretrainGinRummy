{
  "nbformat": 4,
  "nbformat_minor": 0,
  "metadata": {
    "accelerator": "GPU",
    "colab": {
      "name": "draw.ipynb",
      "provenance": [],
      "collapsed_sections": [],
      "toc_visible": true
    },
    "kernelspec": {
      "display_name": "Python 3",
      "name": "python3"
    }
  },
  "cells": [
    {
      "cell_type": "code",
      "metadata": {
        "colab": {
          "base_uri": "https://localhost:8080/"
        },
        "id": "RubzqOlEW1H2",
        "outputId": "40102aff-81ac-4827-ebc2-1ab0342a4950"
      },
      "source": [
        "# Run this cell to mount your Google Drive.\n",
        "\n",
        "from google.colab import drive\n",
        "drive.mount(\"/content/drive\")"
      ],
      "execution_count": 1,
      "outputs": [
        {
          "output_type": "stream",
          "text": [
            "Drive already mounted at /content/drive; to attempt to forcibly remount, call drive.mount(\"/content/drive\", force_remount=True).\n"
          ],
          "name": "stdout"
        }
      ]
    },
    {
      "cell_type": "markdown",
      "metadata": {
        "id": "IKyWpxtRtB_O"
      },
      "source": [
        "# Shared Functions"
      ]
    },
    {
      "cell_type": "code",
      "metadata": {
        "id": "WGgzStQ_FBXP"
      },
      "source": [
        "pth = '/content/drive/MyDrive/Colab Notebooks/Thesis'\r\n",
        "\r\n",
        "# Available states-action pairs:\r\n",
        "state_action_pair = {'all': 'all', # all actions\r\n",
        "                    'bpbd': 'draw', # actions 2/3 \r\n",
        "                    'apbd': ['discard', 'knock'], # actions 6-57, 58-109\r\n",
        "                    'apad': 'knock_bin'} # binary action\r\n",
        "\r\n",
        "# All Possible Classes\r\n",
        "all_classes = ['SP0','SP1','Draw','Pickup','DH','GIN',\r\n",
        "               'AC', '2C', '3C', '4C', '5C', '6C', '7C', '8C', '9C', 'TC', 'JC', 'QC', 'KC',\r\n",
        "               'AH', '2H', '3H', '4H', '5H', '6H', '7H', '8H', '9H', 'TH', 'JH', 'QH', 'KH',\r\n",
        "               'AS', '2S', '3S', '4S', '5S', '6S', '7S', '8S', '9S', 'TS', 'JS', 'QS', 'KS',\r\n",
        "               'AD', '2D', '3D', '4D', '5D', '6D', '7D', '8D', '9D', 'TD', 'JD', 'QD', 'KD',\r\n",
        "               'AC', '2C', '3C', '4C', '5C', '6C', '7C', '8C', '9C', 'TC', 'JC', 'QC', 'KC',\r\n",
        "               'AH', '2H', '3H', '4H', '5H', '6H', '7H', '8H', '9H', 'TH', 'JH', 'QH', 'KH',\r\n",
        "               'AS', '2S', '3S', '4S', '5S', '6S', '7S', '8S', '9S', 'TS', 'JS', 'QS', 'KS',\r\n",
        "               'AD', '2D', '3D', '4D', '5D', '6D', '7D', '8D', '9D', 'TD', 'JD', 'QD', 'KD']"
      ],
      "execution_count": 2,
      "outputs": []
    },
    {
      "cell_type": "markdown",
      "metadata": {
        "id": "ByjhuCunasYr"
      },
      "source": [
        "## Imports"
      ]
    },
    {
      "cell_type": "code",
      "metadata": {
        "id": "dAkKSNrD6wh5"
      },
      "source": [
        "import copy\n",
        "import numpy as np\n",
        "import pandas as pd\n",
        "import os\n",
        "import time\n",
        "import torch\n",
        "import torch.nn as nn\n",
        "import matplotlib.pyplot as plt\n",
        "import torch.utils.data as data\n",
        "from torch.utils.data import DataLoader\n",
        "from sklearn.model_selection import train_test_split\n",
        "from sklearn.metrics import confusion_matrix\n",
        "import itertools\n",
        "\n",
        "np.set_printoptions(threshold=np.inf)\n",
        "np.set_printoptions(linewidth=np.inf)"
      ],
      "execution_count": 3,
      "outputs": []
    },
    {
      "cell_type": "markdown",
      "metadata": {
        "id": "eRlCpLNOxJEU"
      },
      "source": [
        "## cardDataset Class"
      ]
    },
    {
      "cell_type": "code",
      "metadata": {
        "id": "1Xpwc02F7aNc"
      },
      "source": [
        "class cardDataset(data.Dataset):\n",
        "\n",
        "    def __init__(self, features, labels):\n",
        "\n",
        "        self.features = features\n",
        "        self.labels = labels\n",
        "\n",
        "    def __len__(self):\n",
        "        return len(self.features)\n",
        "\n",
        "    def __getitem__(self, index):\n",
        "        return self.features[index], self.labels[index]"
      ],
      "execution_count": 4,
      "outputs": []
    },
    {
      "cell_type": "markdown",
      "metadata": {
        "id": "J2yHfT_gYPVk"
      },
      "source": [
        "## Balance"
      ]
    },
    {
      "cell_type": "code",
      "metadata": {
        "id": "UCx4xwJ4YQu1"
      },
      "source": [
        "def balanceClasses(states, actions):\n",
        "    class_count = np.sum(actions, axis=0)\n",
        "    zero_count_ind = np.where(class_count == 0)[0]\n",
        "    class_count[zero_count_ind] = 1e10\n",
        "    min_count = np.min(class_count)\n",
        "    min_count_ind = np.argmin(class_count)\n",
        "    # Get indices of current class \n",
        "    action_ind = np.where(actions[:,min_count_ind] == 1)[0]\n",
        "    actions_bal = actions[action_ind]\n",
        "    states_bal = states[action_ind]\n",
        "    for curr_ind in range(actions.shape[1]): \n",
        "        if curr_ind not in zero_count_ind and curr_ind != min_count_ind:\n",
        "            action_ind = np.where(actions[:,curr_ind] == 1)[0]\n",
        "            actions_temp = actions[action_ind]\n",
        "            states_temp = states[action_ind]\n",
        "\n",
        "            random_indices = np.random.choice(actions_temp.shape[0], size=min_count, replace=False)\n",
        "            actions_temp = actions_temp[random_indices]\n",
        "            states_temp = states_temp[random_indices]\n",
        "\n",
        "            actions_bal = np.concatenate((actions_bal, actions_temp))\n",
        "            states_bal = np.concatenate((states_bal, states_temp))\n",
        "    return states_bal, actions_bal"
      ],
      "execution_count": 5,
      "outputs": []
    },
    {
      "cell_type": "markdown",
      "metadata": {
        "id": "yYW7krlXGs4Z"
      },
      "source": [
        "## Prune States/Actions\r\n"
      ]
    },
    {
      "cell_type": "code",
      "metadata": {
        "id": "Jyu88GZ1Gs4d"
      },
      "source": [
        "# prunable states\n",
        "prune_states = {'currHand': 0, 'topCard': 1,\n",
        "                'deadCard': 2, 'oppCard': 3,\n",
        "                'unknownCard': 4}\n",
        "\n",
        "def pruneStates(states, stateList=[]):\n",
        "    ''' States '''\n",
        "    # (0) ignore current hand\n",
        "    # states[:,(260-52*5):(260-52*4)] = 0\n",
        "    # (1) ignore top card feature\n",
        "    # states[:,(260-52*4):(260-52*3)] = 0\n",
        "    # (2) ignore dead cards feature\n",
        "    # states[:,(260-52*3):(260-52*2)] = 0\n",
        "    # (3) ignore opponent known cards feature\n",
        "    # states[:,(260-52*2):(260-52*1)] = 0\n",
        "    # (4) ignore unknown cards feature\n",
        "    # states[:,(260-52):(260-52*0)] = 0\n",
        "    for s in stateList:\n",
        "        try: \n",
        "            print('pruning state: {}'.format(s))\n",
        "            states[:,(260-52*(5-prune_states[s])):(260-52*(4-prune_states[s]-1))] = 0\n",
        "        except:\n",
        "            print('{} is not a state'.format(s))\n",
        "            pass\n",
        "    return states\n",
        "\n",
        "# chooseable actions\n",
        "prune_actions = {'all': 0,'draw': 1,'discard': 2,'knock': 3,'knock_bin': 4}\n",
        "\n",
        "def chooseActions(actions, classes, actionChoice):\n",
        "    ''' Actions '''\n",
        "    # (0) all:          actions\n",
        "    #       (x) score_player: actions[:,0:2]\n",
        "    # (1) draw:         actions[:,2:4]\n",
        "    #       (x) deadHand:     actions[:,4]\n",
        "    #       (x) gin:          actions[:,5]\n",
        "    # (2) discard:      actions[:,6:58]\n",
        "    # (3) knock:        actions[:,58:]\n",
        "    # (4) knock_bin:    actions\n",
        "\n",
        "    if actionChoice == 'all':\n",
        "        return actions, classes\n",
        "    elif actionChoice == 'draw':\n",
        "        return actions[:,2:4], classes[2:4]\n",
        "    elif actionChoice == 'discard':\n",
        "        return actions[:,6:58], classes[6:58]\n",
        "    elif actionChoice == 'knock':\n",
        "        return actions[:,58:], classes[58:]\n",
        "    elif actionChoice == 'knock_bin':\n",
        "        return actions, [\"No Knock\", \"Knock\"]\n",
        "\n",
        "    else:\n",
        "        print('action selected not allowed')\n",
        "        return actions, classes"
      ],
      "execution_count": 6,
      "outputs": []
    },
    {
      "cell_type": "markdown",
      "metadata": {
        "id": "IPvwCAr8i7rB"
      },
      "source": [
        "## Models"
      ]
    },
    {
      "cell_type": "markdown",
      "metadata": {
        "id": "WBBwvbTtrIa9"
      },
      "source": [
        "### 1 Hidden Layer: input_size*2\r\n",
        "\r\n",
        "i.e. 1 Hidden Layer: input_size*2"
      ]
    },
    {
      "cell_type": "code",
      "metadata": {
        "id": "oyizODzR7W35"
      },
      "source": [
        "class MLP(nn.Module):\n",
        "\n",
        "    def __init__(self, input_size, output_size):\n",
        "        super(MLP, self).__init__()\n",
        "        ''' Layer 1 '''\n",
        "        self.l1 = nn.Linear(input_size, input_size*2)\n",
        "\n",
        "        ''' Layer 2 '''\n",
        "        self.l2 = nn.Linear(input_size*2, output_size)\n",
        "        \n",
        "        ''' Activation Function '''\n",
        "        self.sig = nn.Sigmoid()\n",
        "\n",
        "    def forward(self, features):\n",
        "        try:\n",
        "            x = self.l1(features.cuda())\n",
        "        except:\n",
        "            x = self.l1(features)\n",
        "        # x = self.l1(features)\n",
        "        x = self.sig(x)\n",
        "        x = self.l2(x)\n",
        "        return self.sig(x)"
      ],
      "execution_count": 7,
      "outputs": []
    },
    {
      "cell_type": "markdown",
      "metadata": {
        "id": "kMcxOddo_Ar2"
      },
      "source": [
        "## Load Data and Model"
      ]
    },
    {
      "cell_type": "code",
      "metadata": {
        "id": "c25nuPlRubld"
      },
      "source": [
        "def load_data(data, label, batch_size=1000, shuffle=False):\n",
        "    '''\n",
        "    Load dataset according to batch_size given\n",
        "    '''\n",
        "    data_set = cardDataset(data, label)\n",
        "    data_loader = DataLoader(data_set, batch_size=batch_size, shuffle=shuffle)\n",
        "    return data_loader\n",
        "\n",
        "\n",
        "def load_test_data(numGames):\n",
        "    '''\n",
        "    Load test data\n",
        "    '''\n",
        "    states_test = np.load('{}/s_{}k.npy'.format(data_pth,numGames//1000))\n",
        "    actions_test = np.load('{}/a_{}k.npy'.format(data_pth,numGames//1000))\n",
        "\n",
        "    # prune states\n",
        "    states_test = pruneStates(states_test, pruneStatesList)\n",
        "\n",
        "    # choosable actions\n",
        "    actions_test, classes = chooseActions(actions_test, all_classes, actionChoice)\n",
        "    test_loader = load_data(states_test, actions_test)\n",
        "    return test_loader, classes\n",
        "\n",
        "\n",
        "def load_model(lr=0.001, input_size=None, output_size=None,\n",
        "               model=None, pre_train=False, model_PT=None):\n",
        "    loss_fnc = torch.nn.MSELoss()\n",
        "    if model is None:\n",
        "        try:\n",
        "            model = MLP(input_size, output_size).cuda()\n",
        "        except:\n",
        "            model = MLP(input_size, output_size)\n",
        "        # model = MLP(input_size)\n",
        "        if pre_train:\n",
        "            pre_train_model = torch.load(model_PT)\n",
        "            try:\n",
        "                pre_train_model.l1 = pre_train_model.l1.cuda()\n",
        "                model.l1.weight = pre_train_model.l1.weight.cuda()\n",
        "                model.l1.bias = pre_train_model.l1.bias.cuda()\n",
        "            except:\n",
        "                model.l1.weight = pre_train_model.l1.weight\n",
        "                model.l1.bias = pre_train_model.l1.bias\n",
        "        # print(model.l1.weight.device)\n",
        "        # print(model.l1.bias.device)\n",
        "        optimizer = torch.optim.Adam(model.parameters(), lr=lr)\n",
        "        return model, loss_fnc, optimizer\n",
        "    return model, loss_fnc, _"
      ],
      "execution_count": 8,
      "outputs": []
    },
    {
      "cell_type": "markdown",
      "metadata": {
        "id": "x9xYVimV-d0y"
      },
      "source": [
        "## Evaluate"
      ]
    },
    {
      "cell_type": "code",
      "metadata": {
        "id": "J6MxsF8LWvQ6"
      },
      "source": [
        "def evaluate(model, data_loader, loss_fnc):\n",
        "\n",
        "    total_corr = 0\n",
        "    accum_loss = 0\n",
        "    for i, data in enumerate(data_loader):\n",
        "        inputs, labels = data\n",
        "        inputs = inputs.type(torch.FloatTensor)\n",
        "        labels = labels.type(torch.FloatTensor)\n",
        "        outputs = model(inputs)\n",
        "        try:\n",
        "            batch_loss = loss_fnc(input=outputs, target=labels.cuda())\n",
        "        except:\n",
        "            batch_loss = loss_fnc(input=outputs, target=labels)\n",
        "        # batch_loss = loss_fnc(input=outputs, target=labels)\n",
        "\n",
        "        guess = torch.argmax(outputs, dim=1)\n",
        "        # print(guess)\n",
        "        try:\n",
        "            answer = torch.argmax(labels.cuda(), dim=1)\n",
        "        except:\n",
        "            answer = torch.argmax(labels, dim=1)\n",
        "        # answer = torch.argmax(labels, dim=1)\n",
        "\n",
        "        corr = guess == answer\n",
        "        total_corr += int(corr.sum())\n",
        "        accum_loss += batch_loss\n",
        "\n",
        "    acc = float(total_corr)/len(data_loader.dataset)\n",
        "    loss = accum_loss/(i+1)\n",
        "    return acc, loss.item() "
      ],
      "execution_count": 9,
      "outputs": []
    },
    {
      "cell_type": "markdown",
      "metadata": {
        "id": "uHg3uuvb-bVW"
      },
      "source": [
        "## Train"
      ]
    },
    {
      "cell_type": "code",
      "metadata": {
        "id": "-oiAF2N_DR_4"
      },
      "source": [
        "def train(train_loader, val_loader, batch_size=1000, lr=0.001, epochs=100,\n",
        "          verbose=False, pre_train=False, model_PT=None):\n",
        "\n",
        "    input_size = len(train_loader.dataset.features[0])\n",
        "    output_size = len(val_loader.dataset.labels[0])\n",
        "    # input_size = data_train.shape[1]\n",
        "    model, loss_fnc, optimizer = load_model(lr, input_size, output_size,\n",
        "                                            pre_train=pre_train, model_PT=model_PT)\n",
        "\n",
        "    max_val_acc = 0\n",
        "    min_val_loss = np.inf\n",
        "    train_acc, train_loss = [], []\n",
        "    val_acc, val_loss = [], []\n",
        "    start_time = time.time()\n",
        "\n",
        "    for epoch in range(epochs):\n",
        "        accum_loss = 0\n",
        "        total_corr = 0\n",
        "        for i, data in enumerate(train_loader):\n",
        "            inputs, labels = data\n",
        "            inputs = inputs.type(torch.FloatTensor)\n",
        "            labels = labels.type(torch.FloatTensor)\n",
        "            \n",
        "            optimizer.zero_grad()\n",
        "            outputs = model(inputs)\n",
        "            try:\n",
        "                batch_loss = loss_fnc(input=outputs, target=labels.cuda())\n",
        "            except:\n",
        "                batch_loss = loss_fnc(input=outputs, target=labels)\n",
        "            # batch_loss = loss_fnc(input=outputs, target=labels)\n",
        "            accum_loss += batch_loss\n",
        "            batch_loss.backward()\n",
        "            optimizer.step()\n",
        "\n",
        "            guess = torch.argmax(outputs, dim=1)\n",
        "            # print(guess)\n",
        "            try:\n",
        "                answer = torch.argmax(labels.cuda(), dim=1)\n",
        "            except:\n",
        "                answer = torch.argmax(labels, dim=1)\n",
        "            # answer = torch.argmax(labels, dim=1)\n",
        "            # print(labels)\n",
        "            corr = guess == answer\n",
        "            total_corr += int(corr.sum())\n",
        "\n",
        "        # evaluate per epoch\n",
        "        vacc, vloss = evaluate(model, val_loader, loss_fnc)\n",
        "        val_acc.append(vacc)\n",
        "        val_loss.append(vloss)\n",
        "        train_loss.append(accum_loss.item()/(i+1))\n",
        "        train_acc.append(float(total_corr)/len(train_loader.dataset))\n",
        "        # best acc model\n",
        "        if vacc > max_val_acc:\n",
        "            max_val_acc = vacc\n",
        "            epoch_acc = epoch\n",
        "            model_acc = copy.deepcopy(model) \n",
        "        # best loss model\n",
        "        if vloss < min_val_loss:\n",
        "            min_val_loss = vloss\n",
        "            epoch_loss = epoch\n",
        "            model_loss = copy.deepcopy(model)\n",
        "\n",
        "        if verbose:\n",
        "            # print records\n",
        "            print(\"Epoch: {} | Train Loss: {:.8f} | Train acc: {:.6f}\"\n",
        "                .format(epoch + 1, train_loss[epoch], train_acc[epoch]))\n",
        "            print(\"              Val Loss: {:.8f} |   Val acc: {:.6f}\"\n",
        "                .format(val_loss[epoch], val_acc[epoch]))\n",
        "        accum_loss = 0.0\n",
        "        total_corr = 0\n",
        "\n",
        "\n",
        "    print('Finished Training')\n",
        "    end_time = time.time()\n",
        "    elapsed_time = end_time - start_time\n",
        "    print(\"Total training time elapsed: {:.2f} seconds\".format(elapsed_time))\n",
        "    plotTrain(train_acc, val_acc, epoch_acc, 'Accuracy',batch_size, lr)\n",
        "    plotTrain(train_loss, val_loss, epoch_loss, 'Loss',batch_size, lr)\n",
        "\n",
        "    return model, model_acc, model_loss"
      ],
      "execution_count": 10,
      "outputs": []
    },
    {
      "cell_type": "markdown",
      "metadata": {
        "id": "a4RMbLGjstPP"
      },
      "source": [
        "## Plot Functions"
      ]
    },
    {
      "cell_type": "code",
      "metadata": {
        "id": "YuRUncDFssjI"
      },
      "source": [
        "def plotTrain(train, val, epoch, label, bs, lr):\n",
        "    plt.figure()\n",
        "    plt.title(\"{} vs. Epoch\".format(label), fontsize=14)\n",
        "    plt.xlabel(\"Epochs\", fontsize=12)\n",
        "    plt.ylabel(label, fontsize=12)\n",
        "    plt.plot(train, label='Training {}'.format(label))\n",
        "    plt.plot(val, label='Validation {}'.format(label))\n",
        "    plt.axvline(epoch, color='red', label='Best Epoch: {}'.format(epoch+1))\n",
        "    plt.plot(epoch, val[epoch], marker='o', color=\"red\", label=\"{}: {:.4f}\"\n",
        "             .format(label, val[epoch]))\n",
        "    plt.legend()\n",
        "    plt.savefig('{}/{}_bs_{}_lr_{}.png'.format(plot_pth,label,bs,lr),\n",
        "                bbox_inches='tight')\n",
        "    plt.show()\n",
        "    plt.close()\n",
        "\n",
        "\n",
        "def evaluate_confusion_matrix(model, data_loader):\n",
        "    \"\"\"\n",
        "    Run the model on the test set and generate the confusion matrix.\n",
        "\n",
        "    Args:\n",
        "        model: PyTorch neural network object\n",
        "        data_loader: PyTorch data loader for the dataset\n",
        "    Returns:\n",
        "        cm: A NumPy array denoting the confusion matrix\n",
        "    \"\"\"\n",
        "    val_labels = np.array([], dtype=np.int64)\n",
        "    val_preds = np.array([], dtype=np.int64)\n",
        "\n",
        "    for i, data in enumerate(data_loader, 0):\n",
        "        vinputs, vlabels = data\n",
        "        vinputs = vinputs.type(torch.FloatTensor)\n",
        "        vlabels = vlabels.type(torch.FloatTensor)\n",
        "        voutputs = model(vinputs)\n",
        "        vguess = torch.argmax(voutputs.cpu(), dim=1)\n",
        "        vlabels = torch.argmax(vlabels.cpu(), dim=1)\n",
        "        val_labels = np.concatenate((val_labels, vlabels))\n",
        "        val_preds = np.concatenate((val_preds, vguess))\n",
        "    \n",
        "    # cm = confusion_matrix(val_labels, val_preds)\n",
        "    cm_temp = np.zeros([voutputs.shape[1],voutputs.shape[1]], dtype=np.int64)\n",
        "    for i in range(len(val_labels)):\n",
        "        cm_temp[val_labels[i]][val_preds[i]] += 1\n",
        "    cm = cm_temp\n",
        "    print('Accuracy: {:.2f}'.format(100*(val_labels == val_preds).sum() /len(val_labels)))\n",
        "    return cm\n",
        "\n",
        "\n",
        "# Function based off\n",
        "# http://scikit-learn.org/stable/auto_examples/model_selection/plot_confusion_matrix.html#sphx-glr-auto-examples-model-selection-plot-confusion-matrix-py\n",
        "def plot_confusion_matrix(cm, classes, mode,\n",
        "                          normalize=True,\n",
        "                          title='Confusion matrix',\n",
        "                          cmap=plt.cm.Blues):\n",
        "    \"\"\"\n",
        "    This function prints and plots the confusion matrix.\n",
        "    Normalization can be applied by setting `normalize=True`.\n",
        "\n",
        "    Args:\n",
        "        cm: A NumPy array denoting the confusion matrix\n",
        "        classes: A list of strings denoting the name of the classes\n",
        "        normalize: Boolean whether to normalize the confusion matrix or not\n",
        "        title: String for the title of the plot\n",
        "        cmap: Colour map for the plot\n",
        "    \"\"\"\n",
        "    # normalize\n",
        "    if normalize:\n",
        "        plot_name = 'CM_norm'\n",
        "        cm = cm.astype('float') / (cm.sum(axis=1)[:, np.newaxis] + 1e-5)\n",
        "        print(\"Normalized confusion matrix\")\n",
        "    else:\n",
        "        plot_name = 'CM'\n",
        "        print('Confusion matrix, without normalization')\n",
        "\n",
        "    # limit figure size\n",
        "    if cm.shape[0] < 52:\n",
        "        plt.figure(facecolor='white')\n",
        "    else:\n",
        "        plt.figure(figsize=cm.shape, facecolor='white')\n",
        "    plt.imshow(cm, interpolation='nearest', cmap=cmap)\n",
        "    plt.title(title)\n",
        "    # plt.colorbar()\n",
        "    tick_marks = np.arange(len(classes))\n",
        "    plt.xticks(tick_marks, classes)\n",
        "    plt.yticks(tick_marks, classes)\n",
        "\n",
        "    fmt = '.2f' if normalize else 'd'\n",
        "    thresh = cm.max() / 2.\n",
        "    for i, j in itertools.product(range(cm.shape[0]), range(cm.shape[1])):\n",
        "        plt.text(j, i, format(cm[i, j], fmt),\n",
        "                 horizontalalignment=\"center\",\n",
        "                 color=\"white\" if cm[i, j] > thresh else \"black\")\n",
        "\n",
        "    plt.tight_layout()\n",
        "    plt.ylabel('True label')\n",
        "    plt.xlabel('Predicted label')\n",
        "    if mode == 'full':\n",
        "        plt.savefig('{}/{}_G_{}k.png'.format(plot_pth,plot_name,currGames//1000),\n",
        "                    bbox_inches='tight')\n",
        "    else:\n",
        "        plt.savefig('{}/{}_G_{}k_{}.png'.format(plot_pth,plot_name,currGames//1000,mode),\n",
        "                    bbox_inches='tight')        \n",
        "    if cm.shape[0] < 53:\n",
        "        plt.show()\n",
        "    plt.close()\n",
        "    return\n",
        "\n",
        "\n",
        "def plot_cm(classes, model, data_loader, mode='full'):\n",
        "\n",
        "    cm = evaluate_confusion_matrix(model, data_loader)\n",
        "    plot_confusion_matrix(cm, classes, mode,\n",
        "                        normalize=True,\n",
        "                        title='Confusion matrix',\n",
        "                        cmap=plt.cm.Blues)\n",
        "    plot_confusion_matrix(cm, classes, mode,\n",
        "                        normalize=False,\n",
        "                        title='Confusion matrix',\n",
        "                        cmap=plt.cm.Blues)"
      ],
      "execution_count": 11,
      "outputs": []
    },
    {
      "cell_type": "markdown",
      "metadata": {
        "id": "23CvHjzxamrF"
      },
      "source": [
        "# Before Pickup, Before Discard: Draw (bpbd_draw)\r\n",
        "\r\n",
        "i.e. Before Pickup, Before Discard: Draw (bpbd_draw)"
      ]
    },
    {
      "cell_type": "markdown",
      "metadata": {
        "id": "ph6C4DZHagLe"
      },
      "source": [
        "## all_states_draw_only\r\n",
        "\r\n",
        "Specify the following parameters:\r\n",
        "\r\n",
        "- Data Selection:\r\n",
        " - model_name\r\n",
        " - state-action pair\r\n",
        "```r\r\n",
        "state_action_pair = {'all': 'all', # all actions\r\n",
        "                    'bpbd': 'draw', # actions 2/3 \r\n",
        "                    'apbd': ['discard', 'knock'], # actions 6-57, 58-109\r\n",
        "                    'apad': 'knock_bin'}\r\n",
        "```\r\n",
        " - numGames\r\n",
        " - pruneStatesList\r\n",
        " ```r\r\n",
        " {'currHand','topCard','deadCard','oppCard','unknownCard'}\r\n",
        " ```\r\n",
        " - actionChoice = 'all'\r\n",
        "```r\r\n",
        "{'all','draw','discard','knock'}\r\n",
        "```\r\n",
        "\r\n",
        "- Model Parameters:\r\n",
        "\r\n",
        "| Parameter     | Type      |Default|\r\n",
        "| ------------- |:---------:| -----:|\r\n",
        "| batch_size    | int       | 1000  |\r\n",
        "| learning_rate | float     | 0.001 |\r\n",
        "| epoch         | int       | 100   |\r\n",
        "| pre_train     | bool (T/F)| False |\r\n",
        "| model_PT      | str (path)| null  |"
      ]
    },
    {
      "cell_type": "code",
      "metadata": {
        "id": "sGzwL3i0agLq"
      },
      "source": [
        "# model name\r\n",
        "model_name = 'all_states_draw_only'\r\n",
        "\r\n",
        "# state_action pair, and dataset selection\r\n",
        "state = 'bpbd'\r\n",
        "action = 'draw'\r\n",
        "numGames = 8000\r\n",
        "\r\n",
        "# prunable states\r\n",
        "# {'currHand','topCard','deadCard','oppCard','unknownCard'} or blank if None\r\n",
        "pruneStatesList = []\r\n",
        "\r\n",
        "# choosable actions\r\n",
        "# {'all','draw_pickup','discard','knock','knock_bin'}\r\n",
        "actionChoice = 'draw'\r\n",
        "\r\n",
        "# Balance classes\r\n",
        "balance = False\r\n",
        "\r\n",
        "# Training parameters\r\n",
        "batch_size = 1000\r\n",
        "lr = 0.001\r\n",
        "epochs = 100\r\n",
        "\r\n",
        "# Pretrain model\r\n",
        "pre_train = False\r\n",
        "model_PT = ''"
      ],
      "execution_count": 35,
      "outputs": []
    },
    {
      "cell_type": "markdown",
      "metadata": {
        "id": "VBkcTlouagLr"
      },
      "source": [
        "### Directories"
      ]
    },
    {
      "cell_type": "code",
      "metadata": {
        "id": "iI4rREKdagLs"
      },
      "source": [
        "# create model and plot directories if do not exist\r\n",
        "\r\n",
        "# model directories\r\n",
        "state_pth = '{}/models/{}'.format(pth,state)\r\n",
        "if not os.path.exists(state_pth):\r\n",
        "    os.mkdir(state_pth)\r\n",
        "action_pth = '{}/{}'.format(state_pth,action)\r\n",
        "if not os.path.exists(action_pth):\r\n",
        "    os.mkdir(action_pth)\r\n",
        "model_pth = '{}/{}'.format(action_pth,model_name)\r\n",
        "if not os.path.exists(model_pth):\r\n",
        "    os.mkdir(model_pth)\r\n",
        "\r\n",
        "# plot directories\r\n",
        "state_pth = '{}/plots/{}'.format(pth,state)\r\n",
        "if not os.path.exists(state_pth):\r\n",
        "    os.mkdir(state_pth)\r\n",
        "action_pth = '{}/{}'.format(state_pth,action)\r\n",
        "if not os.path.exists(action_pth):\r\n",
        "    os.mkdir(action_pth)\r\n",
        "plot_pth = '{}/{}'.format(action_pth,model_name)\r\n",
        "if not os.path.exists(plot_pth):\r\n",
        "    os.mkdir(plot_pth)\r\n",
        "\r\n",
        "# data directory\r\n",
        "data_pth = '{}/data/{}/{}'.format(pth,state,action)"
      ],
      "execution_count": 36,
      "outputs": []
    },
    {
      "cell_type": "markdown",
      "metadata": {
        "id": "bKJntkU1agLt"
      },
      "source": [
        "### Load, Prune, Split Data"
      ]
    },
    {
      "cell_type": "code",
      "metadata": {
        "id": "B3p9rE4PagLu"
      },
      "source": [
        "if action in state_action_pair[state]:\n",
        "    states = np.load('{}/s_{}k.npy'.format(data_pth,numGames//1000))\n",
        "    actions = np.load('{}/a_{}k.npy'.format(data_pth,numGames//1000))\n",
        "\n",
        "    # prune states\n",
        "    states = pruneStates(states, pruneStatesList)\n",
        "\n",
        "    # choosable actions\n",
        "    actions, classes = chooseActions(actions, all_classes, actionChoice)\n",
        "\n",
        "    # balance classes\n",
        "    if balance:\n",
        "        states,actions = balanceClasses(states,actions)\n",
        "\n",
        "    # split train/val\n",
        "    data_train, data_val, label_train, label_val = train_test_split(states, actions, test_size=0.3, random_state=421)\n",
        "else:\n",
        "    print('illegeal state-action pair')"
      ],
      "execution_count": 37,
      "outputs": []
    },
    {
      "cell_type": "code",
      "metadata": {
        "id": "8pIMJYp-agLu"
      },
      "source": [
        "train_loader = load_data(data_train, label_train, batch_size, shuffle=True)\r\n",
        "val_loader = load_data(data_val, label_val, batch_size, shuffle=False)"
      ],
      "execution_count": 39,
      "outputs": []
    },
    {
      "cell_type": "markdown",
      "metadata": {
        "id": "iwV4lEGwagL1"
      },
      "source": [
        "### Train Model"
      ]
    },
    {
      "cell_type": "code",
      "metadata": {
        "colab": {
          "base_uri": "https://localhost:8080/",
          "height": 1000
        },
        "id": "l3TI9uEPagL3",
        "outputId": "37dbde7a-f65c-40c2-e6b9-4ea8770b58b2"
      },
      "source": [
        "model, model_acc, model_loss = train(train_loader, val_loader, batch_size, lr, epochs, verbose=True, pre_train=pre_train, model_PT=model_PT)\r\n",
        "torch.save(model, '{}/model.pt'.format(model_pth))\r\n",
        "torch.save(model_acc, '{}/model_acc.pt'.format(model_pth))\r\n",
        "torch.save(model_loss, '{}/model_loss.pt'.format(model_pth))"
      ],
      "execution_count": 40,
      "outputs": [
        {
          "output_type": "stream",
          "text": [
            "Epoch: 1 | Train Loss: 0.13377141 | Train acc: 0.832968\n",
            "              Val Loss: 0.12750067 |   Val acc: 0.834860\n",
            "Epoch: 2 | Train Loss: 0.12627647 | Train acc: 0.835274\n",
            "              Val Loss: 0.12681989 |   Val acc: 0.834572\n",
            "Epoch: 3 | Train Loss: 0.12519440 | Train acc: 0.835434\n",
            "              Val Loss: 0.12534037 |   Val acc: 0.834906\n",
            "Epoch: 4 | Train Loss: 0.12224644 | Train acc: 0.837066\n",
            "              Val Loss: 0.12210520 |   Val acc: 0.837403\n",
            "Epoch: 5 | Train Loss: 0.11953630 | Train acc: 0.838642\n",
            "              Val Loss: 0.11909316 |   Val acc: 0.839330\n",
            "Epoch: 6 | Train Loss: 0.11734357 | Train acc: 0.840392\n",
            "              Val Loss: 0.11740818 |   Val acc: 0.839770\n",
            "Epoch: 7 | Train Loss: 0.11489368 | Train acc: 0.842510\n",
            "              Val Loss: 0.11417485 |   Val acc: 0.843001\n",
            "Epoch: 8 | Train Loss: 0.11196188 | Train acc: 0.846001\n",
            "              Val Loss: 0.11474700 |   Val acc: 0.841939\n",
            "Epoch: 9 | Train Loss: 0.10939001 | Train acc: 0.849897\n",
            "              Val Loss: 0.10823020 |   Val acc: 0.852111\n",
            "Epoch: 10 | Train Loss: 0.10646528 | Train acc: 0.853560\n",
            "              Val Loss: 0.10507297 |   Val acc: 0.855296\n",
            "Epoch: 11 | Train Loss: 0.10353467 | Train acc: 0.858689\n",
            "              Val Loss: 0.10701630 |   Val acc: 0.857138\n",
            "Epoch: 12 | Train Loss: 0.09835914 | Train acc: 0.865953\n",
            "              Val Loss: 0.09628849 |   Val acc: 0.868359\n",
            "Epoch: 13 | Train Loss: 0.09320547 | Train acc: 0.876605\n",
            "              Val Loss: 0.09622548 |   Val acc: 0.878000\n",
            "Epoch: 14 | Train Loss: 0.08603549 | Train acc: 0.888262\n",
            "              Val Loss: 0.08891135 |   Val acc: 0.875687\n",
            "Epoch: 15 | Train Loss: 0.07936984 | Train acc: 0.900040\n",
            "              Val Loss: 0.07951631 |   Val acc: 0.899373\n",
            "Epoch: 16 | Train Loss: 0.07349751 | Train acc: 0.908433\n",
            "              Val Loss: 0.07349679 |   Val acc: 0.905010\n",
            "Epoch: 17 | Train Loss: 0.06776979 | Train acc: 0.917088\n",
            "              Val Loss: 0.07815603 |   Val acc: 0.888238\n",
            "Epoch: 18 | Train Loss: 0.06430692 | Train acc: 0.920641\n",
            "              Val Loss: 0.08023281 |   Val acc: 0.894871\n",
            "Epoch: 19 | Train Loss: 0.05972610 | Train acc: 0.926321\n",
            "              Val Loss: 0.06307287 |   Val acc: 0.914107\n",
            "Epoch: 20 | Train Loss: 0.05603147 | Train acc: 0.930349\n",
            "              Val Loss: 0.05949772 |   Val acc: 0.927845\n",
            "Epoch: 21 | Train Loss: 0.05249084 | Train acc: 0.934793\n",
            "              Val Loss: 0.05486207 |   Val acc: 0.928487\n",
            "Epoch: 22 | Train Loss: 0.04924922 | Train acc: 0.939557\n",
            "              Val Loss: 0.05162280 |   Val acc: 0.934438\n",
            "Epoch: 23 | Train Loss: 0.04677635 | Train acc: 0.942908\n",
            "              Val Loss: 0.04951482 |   Val acc: 0.936824\n",
            "Epoch: 24 | Train Loss: 0.04434034 | Train acc: 0.945970\n",
            "              Val Loss: 0.05055697 |   Val acc: 0.930381\n",
            "Epoch: 25 | Train Loss: 0.04220099 | Train acc: 0.949467\n",
            "              Val Loss: 0.05674218 |   Val acc: 0.926337\n",
            "Epoch: 26 | Train Loss: 0.04097405 | Train acc: 0.950635\n",
            "              Val Loss: 0.04366081 |   Val acc: 0.944565\n",
            "Epoch: 27 | Train Loss: 0.03834900 | Train acc: 0.955413\n",
            "              Val Loss: 0.05427741 |   Val acc: 0.919573\n",
            "Epoch: 28 | Train Loss: 0.03882386 | Train acc: 0.953981\n",
            "              Val Loss: 0.07029565 |   Val acc: 0.899976\n",
            "Epoch: 29 | Train Loss: 0.03716318 | Train acc: 0.955601\n",
            "              Val Loss: 0.03957980 |   Val acc: 0.949670\n",
            "Epoch: 30 | Train Loss: 0.03302678 | Train acc: 0.962402\n",
            "              Val Loss: 0.03740086 |   Val acc: 0.954579\n",
            "Epoch: 31 | Train Loss: 0.03160276 | Train acc: 0.964613\n",
            "              Val Loss: 0.03621759 |   Val acc: 0.955399\n",
            "Epoch: 32 | Train Loss: 0.03013095 | Train acc: 0.966750\n",
            "              Val Loss: 0.03828643 |   Val acc: 0.953465\n",
            "Epoch: 33 | Train Loss: 0.02910398 | Train acc: 0.968197\n",
            "              Val Loss: 0.03358053 |   Val acc: 0.959377\n",
            "Epoch: 34 | Train Loss: 0.02720639 | Train acc: 0.971135\n",
            "              Val Loss: 0.03209015 |   Val acc: 0.962956\n",
            "Epoch: 35 | Train Loss: 0.02585596 | Train acc: 0.973068\n",
            "              Val Loss: 0.03139440 |   Val acc: 0.964489\n",
            "Epoch: 36 | Train Loss: 0.02431607 | Train acc: 0.975475\n",
            "              Val Loss: 0.03070510 |   Val acc: 0.964732\n",
            "Epoch: 37 | Train Loss: 0.02322865 | Train acc: 0.976784\n",
            "              Val Loss: 0.02870420 |   Val acc: 0.967943\n",
            "Epoch: 38 | Train Loss: 0.02180091 | Train acc: 0.979037\n",
            "              Val Loss: 0.02976765 |   Val acc: 0.962366\n",
            "Epoch: 39 | Train Loss: 0.02138818 | Train acc: 0.978756\n",
            "              Val Loss: 0.02798175 |   Val acc: 0.968776\n",
            "Epoch: 40 | Train Loss: 0.01959561 | Train acc: 0.982197\n",
            "              Val Loss: 0.03566254 |   Val acc: 0.948635\n",
            "Epoch: 41 | Train Loss: 0.01995511 | Train acc: 0.980281\n",
            "              Val Loss: 0.02383238 |   Val acc: 0.973967\n",
            "Epoch: 42 | Train Loss: 0.01790636 | Train acc: 0.984921\n",
            "              Val Loss: 0.03440972 |   Val acc: 0.954619\n",
            "Epoch: 43 | Train Loss: 0.01705935 | Train acc: 0.984700\n",
            "              Val Loss: 0.02175960 |   Val acc: 0.976425\n",
            "Epoch: 44 | Train Loss: 0.01518405 | Train acc: 0.987464\n",
            "              Val Loss: 0.02092031 |   Val acc: 0.977637\n",
            "Epoch: 45 | Train Loss: 0.01423089 | Train acc: 0.988652\n",
            "              Val Loss: 0.02179602 |   Val acc: 0.977047\n",
            "Epoch: 46 | Train Loss: 0.01338513 | Train acc: 0.989629\n",
            "              Val Loss: 0.01976630 |   Val acc: 0.979931\n",
            "Epoch: 47 | Train Loss: 0.01254088 | Train acc: 0.990615\n",
            "              Val Loss: 0.01795375 |   Val acc: 0.982068\n",
            "Epoch: 48 | Train Loss: 0.01189294 | Train acc: 0.991228\n",
            "              Val Loss: 0.01815294 |   Val acc: 0.980763\n",
            "Epoch: 49 | Train Loss: 0.01094389 | Train acc: 0.992360\n",
            "              Val Loss: 0.01679155 |   Val acc: 0.983031\n",
            "Epoch: 50 | Train Loss: 0.01005861 | Train acc: 0.993191\n",
            "              Val Loss: 0.01566772 |   Val acc: 0.984952\n",
            "Epoch: 51 | Train Loss: 0.00938539 | Train acc: 0.993980\n",
            "              Val Loss: 0.01479193 |   Val acc: 0.985915\n",
            "Epoch: 52 | Train Loss: 0.00869861 | Train acc: 0.994677\n",
            "              Val Loss: 0.01378625 |   Val acc: 0.987108\n",
            "Epoch: 53 | Train Loss: 0.00804166 | Train acc: 0.995202\n",
            "              Val Loss: 0.01329504 |   Val acc: 0.987567\n",
            "Epoch: 54 | Train Loss: 0.00747277 | Train acc: 0.995736\n",
            "              Val Loss: 0.01283580 |   Val acc: 0.987940\n",
            "Epoch: 55 | Train Loss: 0.00689733 | Train acc: 0.996199\n",
            "              Val Loss: 0.01249430 |   Val acc: 0.988504\n",
            "Epoch: 56 | Train Loss: 0.00630536 | Train acc: 0.996702\n",
            "              Val Loss: 0.01315007 |   Val acc: 0.988045\n",
            "Epoch: 57 | Train Loss: 0.00576147 | Train acc: 0.997216\n",
            "              Val Loss: 0.01064757 |   Val acc: 0.990863\n",
            "Epoch: 58 | Train Loss: 0.00536880 | Train acc: 0.997508\n",
            "              Val Loss: 0.01069371 |   Val acc: 0.990097\n",
            "Epoch: 59 | Train Loss: 0.00488994 | Train acc: 0.997809\n",
            "              Val Loss: 0.00991656 |   Val acc: 0.990916\n",
            "Epoch: 60 | Train Loss: 0.00452246 | Train acc: 0.998045\n",
            "              Val Loss: 0.01373315 |   Val acc: 0.984834\n",
            "Epoch: 61 | Train Loss: 0.00448701 | Train acc: 0.997803\n",
            "              Val Loss: 0.00833625 |   Val acc: 0.992915\n",
            "Epoch: 62 | Train Loss: 0.00376343 | Train acc: 0.998452\n",
            "              Val Loss: 0.00789853 |   Val acc: 0.993112\n",
            "Epoch: 63 | Train Loss: 0.00347975 | Train acc: 0.998615\n",
            "              Val Loss: 0.00777613 |   Val acc: 0.993452\n",
            "Epoch: 64 | Train Loss: 0.00314363 | Train acc: 0.998809\n",
            "              Val Loss: 0.00705881 |   Val acc: 0.993957\n",
            "Epoch: 65 | Train Loss: 0.00288780 | Train acc: 0.998938\n",
            "              Val Loss: 0.01061139 |   Val acc: 0.990713\n",
            "Epoch: 66 | Train Loss: 0.00290690 | Train acc: 0.998846\n",
            "              Val Loss: 0.00794558 |   Val acc: 0.993269\n",
            "Epoch: 67 | Train Loss: 0.00258021 | Train acc: 0.999008\n",
            "              Val Loss: 0.00624998 |   Val acc: 0.994606\n",
            "Epoch: 68 | Train Loss: 0.00220969 | Train acc: 0.999272\n",
            "              Val Loss: 0.00629689 |   Val acc: 0.994514\n",
            "Epoch: 69 | Train Loss: 0.00201507 | Train acc: 0.999362\n",
            "              Val Loss: 0.00707761 |   Val acc: 0.994095\n",
            "Epoch: 70 | Train Loss: 0.00190271 | Train acc: 0.999407\n",
            "              Val Loss: 0.00543343 |   Val acc: 0.995032\n",
            "Epoch: 71 | Train Loss: 0.00165725 | Train acc: 0.999497\n",
            "              Val Loss: 0.00505222 |   Val acc: 0.995425\n",
            "Epoch: 72 | Train Loss: 0.00153563 | Train acc: 0.999551\n",
            "              Val Loss: 0.00493656 |   Val acc: 0.995491\n",
            "Epoch: 73 | Train Loss: 0.00139457 | Train acc: 0.999632\n",
            "              Val Loss: 0.00640929 |   Val acc: 0.994979\n",
            "Epoch: 74 | Train Loss: 0.00130016 | Train acc: 0.999638\n",
            "              Val Loss: 0.00482935 |   Val acc: 0.995484\n",
            "Epoch: 75 | Train Loss: 0.00113882 | Train acc: 0.999688\n",
            "              Val Loss: 0.00427872 |   Val acc: 0.996008\n",
            "Epoch: 76 | Train Loss: 0.00103937 | Train acc: 0.999708\n",
            "              Val Loss: 0.00416537 |   Val acc: 0.995818\n",
            "Epoch: 77 | Train Loss: 0.00094795 | Train acc: 0.999728\n",
            "              Val Loss: 0.00408013 |   Val acc: 0.995956\n",
            "Epoch: 78 | Train Loss: 0.00085800 | Train acc: 0.999742\n",
            "              Val Loss: 0.00398621 |   Val acc: 0.996002\n",
            "Epoch: 79 | Train Loss: 0.00077151 | Train acc: 0.999756\n",
            "              Val Loss: 0.00375768 |   Val acc: 0.996002\n",
            "Epoch: 80 | Train Loss: 0.00072861 | Train acc: 0.999767\n",
            "              Val Loss: 0.00369427 |   Val acc: 0.995995\n",
            "Epoch: 81 | Train Loss: 0.00064327 | Train acc: 0.999772\n",
            "              Val Loss: 0.00365459 |   Val acc: 0.995877\n",
            "Epoch: 82 | Train Loss: 0.00061321 | Train acc: 0.999784\n",
            "              Val Loss: 0.00857049 |   Val acc: 0.993112\n",
            "Epoch: 83 | Train Loss: 0.00071477 | Train acc: 0.999736\n",
            "              Val Loss: 0.00350771 |   Val acc: 0.995864\n",
            "Epoch: 84 | Train Loss: 0.00049628 | Train acc: 0.999801\n",
            "              Val Loss: 0.00340852 |   Val acc: 0.996087\n",
            "Epoch: 85 | Train Loss: 0.00045734 | Train acc: 0.999815\n",
            "              Val Loss: 0.00337423 |   Val acc: 0.996094\n",
            "Epoch: 86 | Train Loss: 0.00042349 | Train acc: 0.999823\n",
            "              Val Loss: 0.00327958 |   Val acc: 0.996172\n",
            "Epoch: 87 | Train Loss: 0.00039305 | Train acc: 0.999831\n",
            "              Val Loss: 0.00329558 |   Val acc: 0.996081\n",
            "Epoch: 88 | Train Loss: 0.00036364 | Train acc: 0.999846\n",
            "              Val Loss: 0.00318072 |   Val acc: 0.996297\n",
            "Epoch: 89 | Train Loss: 0.00033632 | Train acc: 0.999860\n",
            "              Val Loss: 0.00315268 |   Val acc: 0.996192\n",
            "Epoch: 90 | Train Loss: 0.00030157 | Train acc: 0.999868\n",
            "              Val Loss: 0.00315963 |   Val acc: 0.996146\n",
            "Epoch: 91 | Train Loss: 0.00029120 | Train acc: 0.999871\n",
            "              Val Loss: 0.00346864 |   Val acc: 0.995989\n",
            "Epoch: 92 | Train Loss: 0.00028935 | Train acc: 0.999879\n",
            "              Val Loss: 0.00303285 |   Val acc: 0.996218\n",
            "Epoch: 93 | Train Loss: 0.00023850 | Train acc: 0.999896\n",
            "              Val Loss: 0.00299714 |   Val acc: 0.996264\n",
            "Epoch: 94 | Train Loss: 0.00020228 | Train acc: 0.999904\n",
            "              Val Loss: 0.00300305 |   Val acc: 0.996369\n",
            "Epoch: 95 | Train Loss: 0.00019011 | Train acc: 0.999904\n",
            "              Val Loss: 0.00293912 |   Val acc: 0.996402\n",
            "Epoch: 96 | Train Loss: 0.00018826 | Train acc: 0.999907\n",
            "              Val Loss: 0.00301116 |   Val acc: 0.996113\n",
            "Epoch: 97 | Train Loss: 0.00016368 | Train acc: 0.999916\n",
            "              Val Loss: 0.00288922 |   Val acc: 0.996369\n",
            "Epoch: 98 | Train Loss: 0.00014906 | Train acc: 0.999919\n",
            "              Val Loss: 0.00400606 |   Val acc: 0.995818\n",
            "Epoch: 99 | Train Loss: 0.00056971 | Train acc: 0.999475\n",
            "              Val Loss: 0.00291697 |   Val acc: 0.996271\n",
            "Epoch: 100 | Train Loss: 0.00014206 | Train acc: 0.999919\n",
            "              Val Loss: 0.00289571 |   Val acc: 0.996310\n",
            "Finished Training\n",
            "Total training time elapsed: 574.92 seconds\n"
          ],
          "name": "stdout"
        },
        {
          "output_type": "display_data",
          "data": {
            "image/png": "[encoded data removed]",
            "text/plain": [
              "<Figure size 432x288 with 1 Axes>"
            ]
          },
          "metadata": {
            "tags": [],
            "needs_background": "light"
          }
        },
        {
          "output_type": "display_data",
          "data": {
            "image/png": "[encoded data removed]",
            "text/plain": [
              "<Figure size 432x288 with 1 Axes>"
            ]
          },
          "metadata": {
            "tags": [],
            "needs_background": "light"
          }
        }
      ]
    },
    {
      "cell_type": "markdown",
      "metadata": {
        "id": "BiqekOY3agL6"
      },
      "source": [
        "#### Confusion Matrix"
      ]
    },
    {
      "cell_type": "code",
      "metadata": {
        "id": "9ckOeOSkagL7"
      },
      "source": [
        "model = torch.load('{}/model.pt'.format(model_pth))\r\n",
        "model_acc = torch.load('{}/model_acc.pt'.format(model_pth))\r\n",
        "model_loss = torch.load('{}/model_loss.pt'.format(model_pth))"
      ],
      "execution_count": 41,
      "outputs": []
    },
    {
      "cell_type": "markdown",
      "metadata": {
        "id": "8i7ZgLH1agL8"
      },
      "source": [
        "##### Train Set"
      ]
    },
    {
      "cell_type": "code",
      "metadata": {
        "colab": {
          "base_uri": "https://localhost:8080/",
          "height": 656
        },
        "id": "zhp03GvNagL8",
        "outputId": "50b8bf24-b797-4978-9097-c07beafafbe6"
      },
      "source": [
        "currGames = 8000\n",
        "model, loss_fnc, _ = load_model(model=model)\n",
        "plot_cm(classes, model, train_loader)"
      ],
      "execution_count": 42,
      "outputs": [
        {
          "output_type": "stream",
          "text": [
            "Accuracy: 99.99\n",
            "Normalized confusion matrix\n"
          ],
          "name": "stdout"
        },
        {
          "output_type": "display_data",
          "data": {
            "image/png": "[encoded data removed]",
            "text/plain": [
              "<Figure size 432x288 with 1 Axes>"
            ]
          },
          "metadata": {
            "tags": []
          }
        },
        {
          "output_type": "stream",
          "text": [
            "Confusion matrix, without normalization\n"
          ],
          "name": "stdout"
        },
        {
          "output_type": "display_data",
          "data": {
            "image/png": "[encoded data removed]",
            "text/plain": [
              "<Figure size 432x288 with 1 Axes>"
            ]
          },
          "metadata": {
            "tags": []
          }
        }
      ]
    },
    {
      "cell_type": "markdown",
      "metadata": {
        "id": "jUxtHdr2agL9"
      },
      "source": [
        "##### Validation Set"
      ]
    },
    {
      "cell_type": "code",
      "metadata": {
        "id": "2kPTfa76agL9",
        "colab": {
          "base_uri": "https://localhost:8080/",
          "height": 656
        },
        "outputId": "c4579c61-77ad-4024-c954-4b12551d3128"
      },
      "source": [
        "currGames = 8000\n",
        "model, loss_fnc, _ = load_model(model=model)\n",
        "plot_cm(classes, model, val_loader)"
      ],
      "execution_count": 43,
      "outputs": [
        {
          "output_type": "stream",
          "text": [
            "Accuracy: 99.63\n",
            "Normalized confusion matrix\n"
          ],
          "name": "stdout"
        },
        {
          "output_type": "display_data",
          "data": {
            "image/png": "[encoded data removed]",
            "text/plain": [
              "<Figure size 432x288 with 1 Axes>"
            ]
          },
          "metadata": {
            "tags": []
          }
        },
        {
          "output_type": "stream",
          "text": [
            "Confusion matrix, without normalization\n"
          ],
          "name": "stdout"
        },
        {
          "output_type": "display_data",
          "data": {
            "image/png": "[encoded data removed]",
            "text/plain": [
              "<Figure size 432x288 with 1 Axes>"
            ]
          },
          "metadata": {
            "tags": []
          }
        }
      ]
    },
    {
      "cell_type": "markdown",
      "metadata": {
        "id": "r9pdJOUPagL-"
      },
      "source": [
        "##### Test Set (6k)"
      ]
    },
    {
      "cell_type": "code",
      "metadata": {
        "id": "YApeqzVdagL_",
        "colab": {
          "base_uri": "https://localhost:8080/",
          "height": 656
        },
        "outputId": "bb4c47da-93eb-40c6-80f2-0efdfa145275"
      },
      "source": [
        "currGames = 8000\n",
        "test_loader_6k, classes = load_test_data(currGames)\n",
        "model, loss_fnc, _ = load_model(model=model)\n",
        "plot_cm(classes, model, test_loader_6k, mode='val')"
      ],
      "execution_count": 44,
      "outputs": [
        {
          "output_type": "stream",
          "text": [
            "Accuracy: 99.88\n",
            "Normalized confusion matrix\n"
          ],
          "name": "stdout"
        },
        {
          "output_type": "display_data",
          "data": {
            "image/png": "[encoded data removed]",
            "text/plain": [
              "<Figure size 432x288 with 1 Axes>"
            ]
          },
          "metadata": {
            "tags": []
          }
        },
        {
          "output_type": "stream",
          "text": [
            "Confusion matrix, without normalization\n"
          ],
          "name": "stdout"
        },
        {
          "output_type": "display_data",
          "data": {
            "image/png": "[encoded data removed]",
            "text/plain": [
              "<Figure size 432x288 with 1 Axes>"
            ]
          },
          "metadata": {
            "tags": []
          }
        }
      ]
    },
    {
      "cell_type": "markdown",
      "metadata": {
        "id": "pDH6bu4EagL_"
      },
      "source": [
        "##### Test Set (2k)\r\n",
        "\r\n",
        "Test on all three models generated:"
      ]
    },
    {
      "cell_type": "code",
      "metadata": {
        "id": "LQHq9LK0agMA"
      },
      "source": [
        "currGames = 2000\n",
        "test_loader_2k, classes = load_test_data(currGames)\n",
        "model = torch.load('{}/model.pt'.format(model_pth))\n",
        "model_acc = torch.load('{}/model_acc.pt'.format(model_pth))\n",
        "model_loss = torch.load('{}/model_loss.pt'.format(model_pth))"
      ],
      "execution_count": 45,
      "outputs": []
    },
    {
      "cell_type": "markdown",
      "metadata": {
        "id": "Q6jGgwJd0DE0"
      },
      "source": [
        "###### all epoch"
      ]
    },
    {
      "cell_type": "code",
      "metadata": {
        "id": "-2YIGM1sagMD",
        "colab": {
          "base_uri": "https://localhost:8080/",
          "height": 656
        },
        "outputId": "064ed2c7-0d6a-4e4a-8b20-67a40f584531"
      },
      "source": [
        "model, loss_fnc, _ = load_model(model=model)\n",
        "plot_cm(classes, model, test_loader_2k)"
      ],
      "execution_count": 46,
      "outputs": [
        {
          "output_type": "stream",
          "text": [
            "Accuracy: 99.88\n",
            "Normalized confusion matrix\n"
          ],
          "name": "stdout"
        },
        {
          "output_type": "display_data",
          "data": {
            "image/png": "[encoded data removed]",
            "text/plain": [
              "<Figure size 432x288 with 1 Axes>"
            ]
          },
          "metadata": {
            "tags": []
          }
        },
        {
          "output_type": "stream",
          "text": [
            "Confusion matrix, without normalization\n"
          ],
          "name": "stdout"
        },
        {
          "output_type": "display_data",
          "data": {
            "image/png": "[encoded data removed]",
            "text/plain": [
              "<Figure size 432x288 with 1 Axes>"
            ]
          },
          "metadata": {
            "tags": []
          }
        }
      ]
    },
    {
      "cell_type": "markdown",
      "metadata": {
        "id": "GozGjASy0JXL"
      },
      "source": [
        "###### max validation accuracy"
      ]
    },
    {
      "cell_type": "code",
      "metadata": {
        "id": "zb6dh7vdagMI",
        "colab": {
          "base_uri": "https://localhost:8080/",
          "height": 656
        },
        "outputId": "c1711e7b-0a0e-4c5f-b861-90912c368b80"
      },
      "source": [
        "model_acc, loss_fnc, _ = load_model(model=model_acc)\n",
        "plot_cm(classes, model_acc, test_loader_2k, mode='acc')"
      ],
      "execution_count": 47,
      "outputs": [
        {
          "output_type": "stream",
          "text": [
            "Accuracy: 99.88\n",
            "Normalized confusion matrix\n"
          ],
          "name": "stdout"
        },
        {
          "output_type": "display_data",
          "data": {
            "image/png": "[encoded data removed]",
            "text/plain": [
              "<Figure size 432x288 with 1 Axes>"
            ]
          },
          "metadata": {
            "tags": []
          }
        },
        {
          "output_type": "stream",
          "text": [
            "Confusion matrix, without normalization\n"
          ],
          "name": "stdout"
        },
        {
          "output_type": "display_data",
          "data": {
            "image/png": "[encoded data removed]",
            "text/plain": [
              "<Figure size 432x288 with 1 Axes>"
            ]
          },
          "metadata": {
            "tags": []
          }
        }
      ]
    },
    {
      "cell_type": "markdown",
      "metadata": {
        "id": "l8iWcRlP0J3t"
      },
      "source": [
        "###### min validation loss"
      ]
    },
    {
      "cell_type": "code",
      "metadata": {
        "colab": {
          "base_uri": "https://localhost:8080/",
          "height": 656
        },
        "id": "AktCJ64yagMJ",
        "outputId": "4ea0943d-f8bb-4e9e-c8cd-4d91f8e37bc5"
      },
      "source": [
        "model_loss, loss_fnc, _ = load_model(model=model_loss)\n",
        "plot_cm(classes, model_loss, test_loader_2k, mode='loss')"
      ],
      "execution_count": 48,
      "outputs": [
        {
          "output_type": "stream",
          "text": [
            "Accuracy: 99.88\n",
            "Normalized confusion matrix\n"
          ],
          "name": "stdout"
        },
        {
          "output_type": "display_data",
          "data": {
            "image/png": "[encoded data removed]",
            "text/plain": [
              "<Figure size 432x288 with 1 Axes>"
            ]
          },
          "metadata": {
            "tags": []
          }
        },
        {
          "output_type": "stream",
          "text": [
            "Confusion matrix, without normalization\n"
          ],
          "name": "stdout"
        },
        {
          "output_type": "display_data",
          "data": {
            "image/png": "[encoded data removed]",
            "text/plain": [
              "<Figure size 432x288 with 1 Axes>"
            ]
          },
          "metadata": {
            "tags": []
          }
        }
      ]
    },
    {
      "cell_type": "markdown",
      "metadata": {
        "id": "3tHElfTMq5HM"
      },
      "source": [
        "## all_states_all_actions\r\n",
        "\r\n",
        "Specify the following parameters:\r\n",
        "\r\n",
        "- Data Selection:\r\n",
        " - model_name\r\n",
        " - state-action pair\r\n",
        "```r\r\n",
        "state_action_pair = {'all': 'all', # all actions\r\n",
        "                    'bpbd': 'draw', # actions 2/3 \r\n",
        "                    'apbd': ['discard', 'knock'], # actions 6-57, 58-109\r\n",
        "                    'apad': 'knock_bin'}\r\n",
        "```\r\n",
        " - numGames\r\n",
        " - pruneStatesList\r\n",
        " ```r\r\n",
        " {'currHand','topCard','deadCard','oppCard','unknownCard'}\r\n",
        " ```\r\n",
        " - actionChoice = 'all'\r\n",
        "```r\r\n",
        "{'all','draw','discard','knock'}\r\n",
        "```\r\n",
        "\r\n",
        "- Model Parameters:\r\n",
        "\r\n",
        "| Parameter     | Type      |Default|\r\n",
        "| ------------- |:---------:| -----:|\r\n",
        "| batch_size    | int       | 1000  |\r\n",
        "| learning_rate | float     | 0.001 |\r\n",
        "| epoch         | int       | 100   |\r\n",
        "| pre_train     | bool (T/F)| False |\r\n",
        "| model_PT      | str (path)| null  |"
      ]
    },
    {
      "cell_type": "code",
      "metadata": {
        "id": "L6YX4F2yq5Hg"
      },
      "source": [
        "# model name\r\n",
        "model_name = 'all_states_all_actions'\r\n",
        "\r\n",
        "# state_action pair, and dataset selection\r\n",
        "state = 'bpbd'\r\n",
        "action = 'draw'\r\n",
        "numGames = 8000\r\n",
        "\r\n",
        "# prunable states\r\n",
        "# {'currHand','topCard','deadCard','oppCard','unknownCard'} or blank if None\r\n",
        "pruneStatesList = []\r\n",
        "\r\n",
        "# choosable actions\r\n",
        "# {'all','draw_pickup','discard','knock','knock_bin'}\r\n",
        "actionChoice = 'all'\r\n",
        "\r\n",
        "# Balance classes\r\n",
        "balance = False\r\n",
        "\r\n",
        "# Training parameters\r\n",
        "batch_size = 1000\r\n",
        "lr = 0.001\r\n",
        "epochs = 100\r\n",
        "\r\n",
        "# Pretrain model\r\n",
        "pre_train = False\r\n",
        "model_PT = ''"
      ],
      "execution_count": 12,
      "outputs": []
    },
    {
      "cell_type": "markdown",
      "metadata": {
        "id": "j8p0K2GYq5Hh"
      },
      "source": [
        "### Directories"
      ]
    },
    {
      "cell_type": "code",
      "metadata": {
        "id": "Sk03bgVDq5Hi"
      },
      "source": [
        "# create model and plot directories if do not exist\r\n",
        "\r\n",
        "# model directories\r\n",
        "state_pth = '{}/models/{}'.format(pth,state)\r\n",
        "if not os.path.exists(state_pth):\r\n",
        "    os.mkdir(state_pth)\r\n",
        "action_pth = '{}/{}'.format(state_pth,action)\r\n",
        "if not os.path.exists(action_pth):\r\n",
        "    os.mkdir(action_pth)\r\n",
        "model_pth = '{}/{}'.format(action_pth,model_name)\r\n",
        "if not os.path.exists(model_pth):\r\n",
        "    os.mkdir(model_pth)\r\n",
        "\r\n",
        "# plot directories\r\n",
        "state_pth = '{}/plots/{}'.format(pth,state)\r\n",
        "if not os.path.exists(state_pth):\r\n",
        "    os.mkdir(state_pth)\r\n",
        "action_pth = '{}/{}'.format(state_pth,action)\r\n",
        "if not os.path.exists(action_pth):\r\n",
        "    os.mkdir(action_pth)\r\n",
        "plot_pth = '{}/{}'.format(action_pth,model_name)\r\n",
        "if not os.path.exists(plot_pth):\r\n",
        "    os.mkdir(plot_pth)\r\n",
        "\r\n",
        "# data directory\r\n",
        "data_pth = '{}/data/{}/{}'.format(pth,state,action)"
      ],
      "execution_count": 13,
      "outputs": []
    },
    {
      "cell_type": "markdown",
      "metadata": {
        "id": "PyKAnmx1q5Hl"
      },
      "source": [
        "### Load, Prune, Split Data"
      ]
    },
    {
      "cell_type": "code",
      "metadata": {
        "id": "Zsqq6OJNq5Hn"
      },
      "source": [
        "if action in state_action_pair[state]:\n",
        "    states = np.load('{}/s_{}k.npy'.format(data_pth,numGames//1000))\n",
        "    actions = np.load('{}/a_{}k.npy'.format(data_pth,numGames//1000))\n",
        "\n",
        "    # prune states\n",
        "    states = pruneStates(states, pruneStatesList)\n",
        "\n",
        "    # choosable actions\n",
        "    actions, classes = chooseActions(actions, all_classes, actionChoice)\n",
        "\n",
        "    # balance classes\n",
        "    if balance:\n",
        "        states,actions = balanceClasses(states,actions)\n",
        "\n",
        "    # split train/val\n",
        "    data_train, data_val, label_train, label_val = train_test_split(states, actions, test_size=0.3, random_state=421)\n",
        "else:\n",
        "    print('illegeal state-action pair')"
      ],
      "execution_count": 14,
      "outputs": []
    },
    {
      "cell_type": "code",
      "metadata": {
        "id": "oCJZKsKRq5Ho"
      },
      "source": [
        "train_loader = load_data(data_train, label_train, batch_size, shuffle=True)\r\n",
        "val_loader = load_data(data_val, label_val, batch_size, shuffle=False)"
      ],
      "execution_count": 15,
      "outputs": []
    },
    {
      "cell_type": "markdown",
      "metadata": {
        "id": "9M1RSuiUq5Hp"
      },
      "source": [
        "### Train Model"
      ]
    },
    {
      "cell_type": "code",
      "metadata": {
        "colab": {
          "base_uri": "https://localhost:8080/",
          "height": 1000
        },
        "id": "N0hAE5Faq5Hp",
        "outputId": "1f55e25e-cfee-41e1-a846-bfaccc7098a5"
      },
      "source": [
        "model, model_acc, model_loss = train(train_loader, val_loader, batch_size, lr, epochs, verbose=True, pre_train=pre_train, model_PT=model_PT)\r\n",
        "torch.save(model, '{}/model.pt'.format(model_pth))\r\n",
        "torch.save(model_acc, '{}/model_acc.pt'.format(model_pth))\r\n",
        "torch.save(model_loss, '{}/model_loss.pt'.format(model_pth))"
      ],
      "execution_count": 66,
      "outputs": [
        {
          "output_type": "stream",
          "text": [
            "Epoch: 1 | Train Loss: 0.00496498 | Train acc: 0.830839\n",
            "              Val Loss: 0.00246882 |   Val acc: 0.834926\n",
            "Epoch: 2 | Train Loss: 0.00238029 | Train acc: 0.835445\n",
            "              Val Loss: 0.00236713 |   Val acc: 0.834926\n",
            "Epoch: 3 | Train Loss: 0.00230455 | Train acc: 0.834720\n",
            "              Val Loss: 0.00230679 |   Val acc: 0.834611\n",
            "Epoch: 4 | Train Loss: 0.00228815 | Train acc: 0.834906\n",
            "              Val Loss: 0.00231021 |   Val acc: 0.834828\n",
            "Epoch: 5 | Train Loss: 0.00227243 | Train acc: 0.835147\n",
            "              Val Loss: 0.00228352 |   Val acc: 0.835739\n",
            "Epoch: 6 | Train Loss: 0.00223920 | Train acc: 0.836670\n",
            "              Val Loss: 0.00225579 |   Val acc: 0.836178\n",
            "Epoch: 7 | Train Loss: 0.00220130 | Train acc: 0.837768\n",
            "              Val Loss: 0.00220614 |   Val acc: 0.837279\n",
            "Epoch: 8 | Train Loss: 0.00217317 | Train acc: 0.838805\n",
            "              Val Loss: 0.00221448 |   Val acc: 0.837620\n",
            "Epoch: 9 | Train Loss: 0.00215280 | Train acc: 0.839442\n",
            "              Val Loss: 0.00234399 |   Val acc: 0.835686\n",
            "Epoch: 10 | Train Loss: 0.00215408 | Train acc: 0.839850\n",
            "              Val Loss: 0.00212135 |   Val acc: 0.840864\n",
            "Epoch: 11 | Train Loss: 0.00210675 | Train acc: 0.841614\n",
            "              Val Loss: 0.00212159 |   Val acc: 0.842247\n",
            "Epoch: 12 | Train Loss: 0.00209902 | Train acc: 0.843136\n",
            "              Val Loss: 0.00241574 |   Val acc: 0.817282\n",
            "Epoch: 13 | Train Loss: 0.00208757 | Train acc: 0.844310\n",
            "              Val Loss: 0.00205421 |   Val acc: 0.844279\n",
            "Epoch: 14 | Train Loss: 0.00203794 | Train acc: 0.846448\n",
            "              Val Loss: 0.00210024 |   Val acc: 0.841670\n",
            "Epoch: 15 | Train Loss: 0.00200744 | Train acc: 0.848569\n",
            "              Val Loss: 0.00201875 |   Val acc: 0.846416\n",
            "Epoch: 16 | Train Loss: 0.00197328 | Train acc: 0.850979\n",
            "              Val Loss: 0.00198598 |   Val acc: 0.848093\n",
            "Epoch: 17 | Train Loss: 0.00194449 | Train acc: 0.853667\n",
            "              Val Loss: 0.00202915 |   Val acc: 0.852000\n",
            "Epoch: 18 | Train Loss: 0.00189859 | Train acc: 0.856768\n",
            "              Val Loss: 0.00188088 |   Val acc: 0.857276\n",
            "Epoch: 19 | Train Loss: 0.00184559 | Train acc: 0.861358\n",
            "              Val Loss: 0.00203267 |   Val acc: 0.844587\n",
            "Epoch: 20 | Train Loss: 0.00179760 | Train acc: 0.865496\n",
            "              Val Loss: 0.00177876 |   Val acc: 0.863784\n",
            "Epoch: 21 | Train Loss: 0.00171643 | Train acc: 0.872577\n",
            "              Val Loss: 0.00169789 |   Val acc: 0.872416\n",
            "Epoch: 22 | Train Loss: 0.00163976 | Train acc: 0.880394\n",
            "              Val Loss: 0.00193527 |   Val acc: 0.848428\n",
            "Epoch: 23 | Train Loss: 0.00160031 | Train acc: 0.885346\n",
            "              Val Loss: 0.00169683 |   Val acc: 0.864302\n",
            "Epoch: 24 | Train Loss: 0.00150410 | Train acc: 0.893683\n",
            "              Val Loss: 0.00162511 |   Val acc: 0.871571\n",
            "Epoch: 25 | Train Loss: 0.00143277 | Train acc: 0.900456\n",
            "              Val Loss: 0.00152464 |   Val acc: 0.880419\n",
            "Epoch: 26 | Train Loss: 0.00136992 | Train acc: 0.905386\n",
            "              Val Loss: 0.00137132 |   Val acc: 0.903529\n",
            "Epoch: 27 | Train Loss: 0.00129463 | Train acc: 0.912051\n",
            "              Val Loss: 0.00131829 |   Val acc: 0.906059\n",
            "Epoch: 28 | Train Loss: 0.00123154 | Train acc: 0.916995\n",
            "              Val Loss: 0.00130168 |   Val acc: 0.916198\n",
            "Epoch: 29 | Train Loss: 0.00117447 | Train acc: 0.920894\n",
            "              Val Loss: 0.00119534 |   Val acc: 0.917234\n",
            "Epoch: 30 | Train Loss: 0.00111427 | Train acc: 0.925225\n",
            "              Val Loss: 0.00126121 |   Val acc: 0.900573\n",
            "Epoch: 31 | Train Loss: 0.00106282 | Train acc: 0.928810\n",
            "              Val Loss: 0.00116093 |   Val acc: 0.910247\n",
            "Epoch: 32 | Train Loss: 0.00102185 | Train acc: 0.931936\n",
            "              Val Loss: 0.00148794 |   Val acc: 0.893114\n",
            "Epoch: 33 | Train Loss: 0.00100442 | Train acc: 0.931838\n",
            "              Val Loss: 0.00101253 |   Val acc: 0.931109\n",
            "Epoch: 34 | Train Loss: 0.00093163 | Train acc: 0.938641\n",
            "              Val Loss: 0.00099443 |   Val acc: 0.935782\n",
            "Epoch: 35 | Train Loss: 0.00089789 | Train acc: 0.941029\n",
            "              Val Loss: 0.00107435 |   Val acc: 0.914127\n",
            "Epoch: 36 | Train Loss: 0.00087231 | Train acc: 0.942163\n",
            "              Val Loss: 0.00091683 |   Val acc: 0.938364\n",
            "Epoch: 37 | Train Loss: 0.00083132 | Train acc: 0.946616\n",
            "              Val Loss: 0.00121335 |   Val acc: 0.914271\n",
            "Epoch: 38 | Train Loss: 0.00081356 | Train acc: 0.947206\n",
            "              Val Loss: 0.00093416 |   Val acc: 0.928173\n",
            "Epoch: 39 | Train Loss: 0.00077023 | Train acc: 0.951085\n",
            "              Val Loss: 0.00083347 |   Val acc: 0.943457\n",
            "Epoch: 40 | Train Loss: 0.00074021 | Train acc: 0.953467\n",
            "              Val Loss: 0.00082569 |   Val acc: 0.941130\n",
            "Epoch: 41 | Train Loss: 0.00071207 | Train acc: 0.955736\n",
            "              Val Loss: 0.00082695 |   Val acc: 0.938712\n",
            "Epoch: 42 | Train Loss: 0.00068202 | Train acc: 0.958315\n",
            "              Val Loss: 0.00082971 |   Val acc: 0.936995\n",
            "Epoch: 43 | Train Loss: 0.00066265 | Train acc: 0.959815\n",
            "              Val Loss: 0.00115622 |   Val acc: 0.902552\n",
            "Epoch: 44 | Train Loss: 0.00067067 | Train acc: 0.958326\n",
            "              Val Loss: 0.00070739 |   Val acc: 0.954101\n",
            "Epoch: 45 | Train Loss: 0.00060267 | Train acc: 0.964686\n",
            "              Val Loss: 0.00078884 |   Val acc: 0.938889\n",
            "Epoch: 46 | Train Loss: 0.00058603 | Train acc: 0.965467\n",
            "              Val Loss: 0.00066754 |   Val acc: 0.956677\n",
            "Epoch: 47 | Train Loss: 0.00055932 | Train acc: 0.968205\n",
            "              Val Loss: 0.00089595 |   Val acc: 0.925079\n",
            "Epoch: 48 | Train Loss: 0.00055377 | Train acc: 0.968200\n",
            "              Val Loss: 0.00094046 |   Val acc: 0.920393\n",
            "Epoch: 49 | Train Loss: 0.00053575 | Train acc: 0.969340\n",
            "              Val Loss: 0.00060754 |   Val acc: 0.962975\n",
            "Epoch: 50 | Train Loss: 0.00049429 | Train acc: 0.973270\n",
            "              Val Loss: 0.00059893 |   Val acc: 0.960806\n",
            "Epoch: 51 | Train Loss: 0.00047701 | Train acc: 0.975219\n",
            "              Val Loss: 0.00067457 |   Val acc: 0.949107\n",
            "Epoch: 52 | Train Loss: 0.00047960 | Train acc: 0.973500\n",
            "              Val Loss: 0.00055250 |   Val acc: 0.965617\n",
            "Epoch: 53 | Train Loss: 0.00043653 | Train acc: 0.978222\n",
            "              Val Loss: 0.00091049 |   Val acc: 0.921966\n",
            "Epoch: 54 | Train Loss: 0.00043713 | Train acc: 0.976893\n",
            "              Val Loss: 0.00051572 |   Val acc: 0.969313\n",
            "Epoch: 55 | Train Loss: 0.00040259 | Train acc: 0.980941\n",
            "              Val Loss: 0.00092524 |   Val acc: 0.919967\n",
            "Epoch: 56 | Train Loss: 0.00041942 | Train acc: 0.978042\n",
            "              Val Loss: 0.00048560 |   Val acc: 0.971345\n",
            "Epoch: 57 | Train Loss: 0.00036675 | Train acc: 0.983205\n",
            "              Val Loss: 0.00048007 |   Val acc: 0.970480\n",
            "Epoch: 58 | Train Loss: 0.00035100 | Train acc: 0.984157\n",
            "              Val Loss: 0.00045667 |   Val acc: 0.974576\n",
            "Epoch: 59 | Train Loss: 0.00033444 | Train acc: 0.985472\n",
            "              Val Loss: 0.00043806 |   Val acc: 0.975258\n",
            "Epoch: 60 | Train Loss: 0.00031822 | Train acc: 0.986475\n",
            "              Val Loss: 0.00045412 |   Val acc: 0.975101\n",
            "Epoch: 61 | Train Loss: 0.00031025 | Train acc: 0.987160\n",
            "              Val Loss: 0.00123469 |   Val acc: 0.899196\n",
            "Epoch: 62 | Train Loss: 0.00033529 | Train acc: 0.983716\n",
            "              Val Loss: 0.00040264 |   Val acc: 0.978515\n",
            "Epoch: 63 | Train Loss: 0.00028065 | Train acc: 0.988815\n",
            "              Val Loss: 0.00039227 |   Val acc: 0.977709\n",
            "Epoch: 64 | Train Loss: 0.00026312 | Train acc: 0.990124\n",
            "              Val Loss: 0.00040274 |   Val acc: 0.975736\n",
            "Epoch: 65 | Train Loss: 0.00025663 | Train acc: 0.990843\n",
            "              Val Loss: 0.00070113 |   Val acc: 0.939347\n",
            "Epoch: 66 | Train Loss: 0.00027269 | Train acc: 0.988323\n",
            "              Val Loss: 0.00034779 |   Val acc: 0.982527\n",
            "Epoch: 67 | Train Loss: 0.00022973 | Train acc: 0.992101\n",
            "              Val Loss: 0.00033489 |   Val acc: 0.982533\n",
            "Epoch: 68 | Train Loss: 0.00021878 | Train acc: 0.992756\n",
            "              Val Loss: 0.00032178 |   Val acc: 0.984113\n",
            "Epoch: 69 | Train Loss: 0.00020827 | Train acc: 0.993433\n",
            "              Val Loss: 0.00031458 |   Val acc: 0.983667\n",
            "Epoch: 70 | Train Loss: 0.00019734 | Train acc: 0.993823\n",
            "              Val Loss: 0.00030091 |   Val acc: 0.985699\n",
            "Epoch: 71 | Train Loss: 0.00018677 | Train acc: 0.994464\n",
            "              Val Loss: 0.00029073 |   Val acc: 0.985404\n",
            "Epoch: 72 | Train Loss: 0.00017563 | Train acc: 0.994910\n",
            "              Val Loss: 0.00027476 |   Val acc: 0.986662\n",
            "Epoch: 73 | Train Loss: 0.00016540 | Train acc: 0.995444\n",
            "              Val Loss: 0.00027586 |   Val acc: 0.985856\n",
            "Epoch: 74 | Train Loss: 0.00015755 | Train acc: 0.995671\n",
            "              Val Loss: 0.00025377 |   Val acc: 0.988327\n",
            "Epoch: 75 | Train Loss: 0.00014575 | Train acc: 0.996275\n",
            "              Val Loss: 0.00025800 |   Val acc: 0.986905\n",
            "Epoch: 76 | Train Loss: 0.00013778 | Train acc: 0.996489\n",
            "              Val Loss: 0.00023003 |   Val acc: 0.989775\n",
            "Epoch: 77 | Train Loss: 0.00012840 | Train acc: 0.996907\n",
            "              Val Loss: 0.00021950 |   Val acc: 0.990162\n",
            "Epoch: 78 | Train Loss: 0.00012070 | Train acc: 0.997236\n",
            "              Val Loss: 0.00022137 |   Val acc: 0.990339\n",
            "Epoch: 79 | Train Loss: 0.00011221 | Train acc: 0.997511\n",
            "              Val Loss: 0.00020026 |   Val acc: 0.991283\n",
            "Epoch: 80 | Train Loss: 0.00010603 | Train acc: 0.997848\n",
            "              Val Loss: 0.00019330 |   Val acc: 0.991761\n",
            "Epoch: 81 | Train Loss: 0.00009948 | Train acc: 0.998045\n",
            "              Val Loss: 0.00018691 |   Val acc: 0.991552\n",
            "Epoch: 82 | Train Loss: 0.00009130 | Train acc: 0.998326\n",
            "              Val Loss: 0.00017388 |   Val acc: 0.992961\n",
            "Epoch: 83 | Train Loss: 0.00008525 | Train acc: 0.998497\n",
            "              Val Loss: 0.00017015 |   Val acc: 0.992423\n",
            "Epoch: 84 | Train Loss: 0.00008060 | Train acc: 0.998655\n",
            "              Val Loss: 0.00015895 |   Val acc: 0.993177\n",
            "Epoch: 85 | Train Loss: 0.00007531 | Train acc: 0.998801\n",
            "              Val Loss: 0.00016010 |   Val acc: 0.992823\n",
            "Epoch: 86 | Train Loss: 0.00007063 | Train acc: 0.998927\n",
            "              Val Loss: 0.00014550 |   Val acc: 0.993669\n",
            "Epoch: 87 | Train Loss: 0.00006476 | Train acc: 0.999076\n",
            "              Val Loss: 0.00014337 |   Val acc: 0.994101\n",
            "Epoch: 88 | Train Loss: 0.00006034 | Train acc: 0.999174\n",
            "              Val Loss: 0.00013558 |   Val acc: 0.994455\n",
            "Epoch: 89 | Train Loss: 0.00005629 | Train acc: 0.999242\n",
            "              Val Loss: 0.00017737 |   Val acc: 0.993079\n",
            "Epoch: 90 | Train Loss: 0.00005480 | Train acc: 0.999211\n",
            "              Val Loss: 0.00012162 |   Val acc: 0.994612\n",
            "Epoch: 91 | Train Loss: 0.00004881 | Train acc: 0.999360\n",
            "              Val Loss: 0.00013423 |   Val acc: 0.994698\n",
            "Epoch: 92 | Train Loss: 0.00004584 | Train acc: 0.999410\n",
            "              Val Loss: 0.00011682 |   Val acc: 0.994704\n",
            "Epoch: 93 | Train Loss: 0.00004283 | Train acc: 0.999492\n",
            "              Val Loss: 0.00010674 |   Val acc: 0.995209\n",
            "Epoch: 94 | Train Loss: 0.00003906 | Train acc: 0.999573\n",
            "              Val Loss: 0.00010972 |   Val acc: 0.995058\n",
            "Epoch: 95 | Train Loss: 0.00003682 | Train acc: 0.999596\n",
            "              Val Loss: 0.00010117 |   Val acc: 0.995419\n",
            "Epoch: 96 | Train Loss: 0.00003398 | Train acc: 0.999652\n",
            "              Val Loss: 0.00023782 |   Val acc: 0.986564\n",
            "Epoch: 97 | Train Loss: 0.00003582 | Train acc: 0.999480\n",
            "              Val Loss: 0.00009471 |   Val acc: 0.995543\n",
            "Epoch: 98 | Train Loss: 0.00002881 | Train acc: 0.999708\n",
            "              Val Loss: 0.00009868 |   Val acc: 0.995458\n",
            "Epoch: 99 | Train Loss: 0.00002727 | Train acc: 0.999750\n",
            "              Val Loss: 0.00008522 |   Val acc: 0.995838\n",
            "Epoch: 100 | Train Loss: 0.00002541 | Train acc: 0.999764\n",
            "              Val Loss: 0.00010940 |   Val acc: 0.995523\n",
            "Finished Training\n",
            "Total training time elapsed: 630.78 seconds\n"
          ],
          "name": "stdout"
        },
        {
          "output_type": "display_data",
          "data": {
            "image/png": "[encoded data removed]",
            "text/plain": [
              "<Figure size 432x288 with 1 Axes>"
            ]
          },
          "metadata": {
            "tags": [],
            "needs_background": "light"
          }
        },
        {
          "output_type": "display_data",
          "data": {
            "image/png": "[encoded data removed]",
            "text/plain": [
              "<Figure size 432x288 with 1 Axes>"
            ]
          },
          "metadata": {
            "tags": [],
            "needs_background": "light"
          }
        }
      ]
    },
    {
      "cell_type": "markdown",
      "metadata": {
        "id": "-Z4MuUdvq5Ht"
      },
      "source": [
        "#### Confusion Matrix"
      ]
    },
    {
      "cell_type": "code",
      "metadata": {
        "id": "gSLBqceNq5Ht"
      },
      "source": [
        "model = torch.load('{}/model.pt'.format(model_pth))\r\n",
        "model_acc = torch.load('{}/model_acc.pt'.format(model_pth))\r\n",
        "model_loss = torch.load('{}/model_loss.pt'.format(model_pth))"
      ],
      "execution_count": 18,
      "outputs": []
    },
    {
      "cell_type": "markdown",
      "metadata": {
        "id": "l2y02Rk-q5Hu"
      },
      "source": [
        "##### Train Set"
      ]
    },
    {
      "cell_type": "code",
      "metadata": {
        "colab": {
          "base_uri": "https://localhost:8080/"
        },
        "id": "TqzE5co2q5Hv",
        "outputId": "8d050686-b5eb-4ab3-d2f8-3643c5237d89"
      },
      "source": [
        "currGames = 8000\n",
        "model, loss_fnc, _ = load_model(model=model)\n",
        "plot_cm(classes, model, train_loader)"
      ],
      "execution_count": 19,
      "outputs": [
        {
          "output_type": "stream",
          "text": [
            "Accuracy: 99.97\n",
            "Normalized confusion matrix\n",
            "Confusion matrix, without normalization\n"
          ],
          "name": "stdout"
        }
      ]
    },
    {
      "cell_type": "markdown",
      "metadata": {
        "id": "NMz7Y6EDq5Hv"
      },
      "source": [
        "##### Validation Set"
      ]
    },
    {
      "cell_type": "code",
      "metadata": {
        "id": "Eo9dpvgAq5Hw",
        "colab": {
          "base_uri": "https://localhost:8080/"
        },
        "outputId": "96533b99-e8f7-47d9-b5e2-544e16cf13df"
      },
      "source": [
        "currGames = 8000\n",
        "model, loss_fnc, _ = load_model(model=model)\n",
        "plot_cm(classes, model, val_loader)"
      ],
      "execution_count": 20,
      "outputs": [
        {
          "output_type": "stream",
          "text": [
            "Accuracy: 99.55\n",
            "Normalized confusion matrix\n",
            "Confusion matrix, without normalization\n"
          ],
          "name": "stdout"
        }
      ]
    },
    {
      "cell_type": "markdown",
      "metadata": {
        "id": "Ijn6mh0yq5IH"
      },
      "source": [
        "##### Test Set (6k)"
      ]
    },
    {
      "cell_type": "code",
      "metadata": {
        "colab": {
          "base_uri": "https://localhost:8080/"
        },
        "id": "9RCTvsU6q5IH",
        "outputId": "8974765b-90db-4e55-e898-0308fb07d4d3"
      },
      "source": [
        "currGames = 8000\n",
        "test_loader_6k, classes = load_test_data(currGames)\n",
        "model, loss_fnc, _ = load_model(model=model)\n",
        "plot_cm(classes, model, test_loader_6k, mode='val')"
      ],
      "execution_count": 21,
      "outputs": [
        {
          "output_type": "stream",
          "text": [
            "Accuracy: 99.85\n",
            "Normalized confusion matrix\n",
            "Confusion matrix, without normalization\n"
          ],
          "name": "stdout"
        }
      ]
    },
    {
      "cell_type": "markdown",
      "metadata": {
        "id": "DlOTP9wx0snc"
      },
      "source": [
        "##### Test Set (2k)\r\n",
        "\r\n",
        "Test on all three models generated:"
      ]
    },
    {
      "cell_type": "code",
      "metadata": {
        "id": "DIZK4QlZq5IJ"
      },
      "source": [
        "currGames = 2000\n",
        "test_loader_2k, classes = load_test_data(currGames)\n",
        "model = torch.load('{}/model.pt'.format(model_pth))\n",
        "model_acc = torch.load('{}/model_acc.pt'.format(model_pth))\n",
        "model_loss = torch.load('{}/model_loss.pt'.format(model_pth))"
      ],
      "execution_count": 22,
      "outputs": []
    },
    {
      "cell_type": "markdown",
      "metadata": {
        "id": "Eq8aAenc0snd"
      },
      "source": [
        "###### all epoch"
      ]
    },
    {
      "cell_type": "code",
      "metadata": {
        "colab": {
          "base_uri": "https://localhost:8080/"
        },
        "id": "3OyDPdrpq5IK",
        "outputId": "3dbe91b3-7481-411b-e512-6aa28be12f9e"
      },
      "source": [
        "model, loss_fnc, _ = load_model(model=model)\n",
        "plot_cm(classes, model, test_loader_2k)"
      ],
      "execution_count": 23,
      "outputs": [
        {
          "output_type": "stream",
          "text": [
            "Accuracy: 99.84\n",
            "Normalized confusion matrix\n",
            "Confusion matrix, without normalization\n"
          ],
          "name": "stdout"
        }
      ]
    },
    {
      "cell_type": "markdown",
      "metadata": {
        "id": "J8mpBv2p0sne"
      },
      "source": [
        "###### max validation accuracy"
      ]
    },
    {
      "cell_type": "code",
      "metadata": {
        "colab": {
          "base_uri": "https://localhost:8080/"
        },
        "id": "Jirihvimq5IN",
        "outputId": "a1228a2a-e57c-4b3d-f459-b910cecd5bc0"
      },
      "source": [
        "model_acc, loss_fnc, _ = load_model(model=model_acc)\n",
        "plot_cm(classes, model_acc, test_loader_2k, mode='acc')"
      ],
      "execution_count": 24,
      "outputs": [
        {
          "output_type": "stream",
          "text": [
            "Accuracy: 99.86\n",
            "Normalized confusion matrix\n",
            "Confusion matrix, without normalization\n"
          ],
          "name": "stdout"
        }
      ]
    },
    {
      "cell_type": "markdown",
      "metadata": {
        "id": "GxTpLS6H0sne"
      },
      "source": [
        "###### min validation loss"
      ]
    },
    {
      "cell_type": "code",
      "metadata": {
        "id": "OYhq1OmCq5IO",
        "colab": {
          "base_uri": "https://localhost:8080/"
        },
        "outputId": "bfaf87cf-7f0b-4891-99c2-d9c5b44781f3"
      },
      "source": [
        "model_loss, loss_fnc, _ = load_model(model=model_loss)\n",
        "plot_cm(classes, model_loss, test_loader_2k, mode='loss')"
      ],
      "execution_count": 25,
      "outputs": [
        {
          "output_type": "stream",
          "text": [
            "Accuracy: 99.86\n",
            "Normalized confusion matrix\n",
            "Confusion matrix, without normalization\n"
          ],
          "name": "stdout"
        }
      ]
    }
  ]
}